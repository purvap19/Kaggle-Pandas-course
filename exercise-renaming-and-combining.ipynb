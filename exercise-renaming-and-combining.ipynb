{
 "cells": [
  {
   "cell_type": "markdown",
   "id": "b1cbe97d",
   "metadata": {
    "papermill": {
     "duration": 0.008088,
     "end_time": "2023-06-13T01:32:02.759600",
     "exception": false,
     "start_time": "2023-06-13T01:32:02.751512",
     "status": "completed"
    },
    "tags": []
   },
   "source": [
    "**This notebook is an exercise in the [Pandas](https://www.kaggle.com/learn/pandas) course.  You can reference the tutorial at [this link](https://www.kaggle.com/residentmario/renaming-and-combining).**\n",
    "\n",
    "---\n"
   ]
  },
  {
   "cell_type": "markdown",
   "id": "7b7a57cd",
   "metadata": {
    "papermill": {
     "duration": 0.006633,
     "end_time": "2023-06-13T01:32:02.773775",
     "exception": false,
     "start_time": "2023-06-13T01:32:02.767142",
     "status": "completed"
    },
    "tags": []
   },
   "source": [
    "# Introduction\n",
    "\n",
    "Run the following cell to load your data and some utility functions."
   ]
  },
  {
   "cell_type": "code",
   "execution_count": 1,
   "id": "cd776481",
   "metadata": {
    "execution": {
     "iopub.execute_input": "2023-06-13T01:32:02.790993Z",
     "iopub.status.busy": "2023-06-13T01:32:02.789977Z",
     "iopub.status.idle": "2023-06-13T01:32:07.312212Z",
     "shell.execute_reply": "2023-06-13T01:32:07.311153Z"
    },
    "papermill": {
     "duration": 4.534036,
     "end_time": "2023-06-13T01:32:07.314754",
     "exception": false,
     "start_time": "2023-06-13T01:32:02.780718",
     "status": "completed"
    },
    "tags": []
   },
   "outputs": [
    {
     "name": "stdout",
     "output_type": "stream",
     "text": [
      "Setup complete.\n"
     ]
    }
   ],
   "source": [
    "import pandas as pd\n",
    "\n",
    "reviews = pd.read_csv(\"../input/wine-reviews/winemag-data-130k-v2.csv\", index_col=0)\n",
    "\n",
    "from learntools.core import binder; binder.bind(globals())\n",
    "from learntools.pandas.renaming_and_combining import *\n",
    "print(\"Setup complete.\")"
   ]
  },
  {
   "cell_type": "markdown",
   "id": "24ac2e6a",
   "metadata": {
    "papermill": {
     "duration": 0.006924,
     "end_time": "2023-06-13T01:32:07.328791",
     "exception": false,
     "start_time": "2023-06-13T01:32:07.321867",
     "status": "completed"
    },
    "tags": []
   },
   "source": [
    "# Exercises\n",
    "\n",
    "View the first several lines of your data by running the cell below:"
   ]
  },
  {
   "cell_type": "code",
   "execution_count": 2,
   "id": "a852f5d6",
   "metadata": {
    "execution": {
     "iopub.execute_input": "2023-06-13T01:32:07.344799Z",
     "iopub.status.busy": "2023-06-13T01:32:07.344366Z",
     "iopub.status.idle": "2023-06-13T01:32:07.381780Z",
     "shell.execute_reply": "2023-06-13T01:32:07.380415Z"
    },
    "papermill": {
     "duration": 0.048815,
     "end_time": "2023-06-13T01:32:07.384654",
     "exception": false,
     "start_time": "2023-06-13T01:32:07.335839",
     "status": "completed"
    },
    "tags": []
   },
   "outputs": [
    {
     "data": {
      "text/html": [
       "<div>\n",
       "<style scoped>\n",
       "    .dataframe tbody tr th:only-of-type {\n",
       "        vertical-align: middle;\n",
       "    }\n",
       "\n",
       "    .dataframe tbody tr th {\n",
       "        vertical-align: top;\n",
       "    }\n",
       "\n",
       "    .dataframe thead th {\n",
       "        text-align: right;\n",
       "    }\n",
       "</style>\n",
       "<table border=\"1\" class=\"dataframe\">\n",
       "  <thead>\n",
       "    <tr style=\"text-align: right;\">\n",
       "      <th></th>\n",
       "      <th>country</th>\n",
       "      <th>description</th>\n",
       "      <th>designation</th>\n",
       "      <th>points</th>\n",
       "      <th>price</th>\n",
       "      <th>province</th>\n",
       "      <th>region_1</th>\n",
       "      <th>region_2</th>\n",
       "      <th>taster_name</th>\n",
       "      <th>taster_twitter_handle</th>\n",
       "      <th>title</th>\n",
       "      <th>variety</th>\n",
       "      <th>winery</th>\n",
       "    </tr>\n",
       "  </thead>\n",
       "  <tbody>\n",
       "    <tr>\n",
       "      <th>0</th>\n",
       "      <td>Italy</td>\n",
       "      <td>Aromas include tropical fruit, broom, brimston...</td>\n",
       "      <td>Vulkà Bianco</td>\n",
       "      <td>87</td>\n",
       "      <td>NaN</td>\n",
       "      <td>Sicily &amp; Sardinia</td>\n",
       "      <td>Etna</td>\n",
       "      <td>NaN</td>\n",
       "      <td>Kerin O’Keefe</td>\n",
       "      <td>@kerinokeefe</td>\n",
       "      <td>Nicosia 2013 Vulkà Bianco  (Etna)</td>\n",
       "      <td>White Blend</td>\n",
       "      <td>Nicosia</td>\n",
       "    </tr>\n",
       "    <tr>\n",
       "      <th>1</th>\n",
       "      <td>Portugal</td>\n",
       "      <td>This is ripe and fruity, a wine that is smooth...</td>\n",
       "      <td>Avidagos</td>\n",
       "      <td>87</td>\n",
       "      <td>15.0</td>\n",
       "      <td>Douro</td>\n",
       "      <td>NaN</td>\n",
       "      <td>NaN</td>\n",
       "      <td>Roger Voss</td>\n",
       "      <td>@vossroger</td>\n",
       "      <td>Quinta dos Avidagos 2011 Avidagos Red (Douro)</td>\n",
       "      <td>Portuguese Red</td>\n",
       "      <td>Quinta dos Avidagos</td>\n",
       "    </tr>\n",
       "    <tr>\n",
       "      <th>2</th>\n",
       "      <td>US</td>\n",
       "      <td>Tart and snappy, the flavors of lime flesh and...</td>\n",
       "      <td>NaN</td>\n",
       "      <td>87</td>\n",
       "      <td>14.0</td>\n",
       "      <td>Oregon</td>\n",
       "      <td>Willamette Valley</td>\n",
       "      <td>Willamette Valley</td>\n",
       "      <td>Paul Gregutt</td>\n",
       "      <td>@paulgwine</td>\n",
       "      <td>Rainstorm 2013 Pinot Gris (Willamette Valley)</td>\n",
       "      <td>Pinot Gris</td>\n",
       "      <td>Rainstorm</td>\n",
       "    </tr>\n",
       "    <tr>\n",
       "      <th>3</th>\n",
       "      <td>US</td>\n",
       "      <td>Pineapple rind, lemon pith and orange blossom ...</td>\n",
       "      <td>Reserve Late Harvest</td>\n",
       "      <td>87</td>\n",
       "      <td>13.0</td>\n",
       "      <td>Michigan</td>\n",
       "      <td>Lake Michigan Shore</td>\n",
       "      <td>NaN</td>\n",
       "      <td>Alexander Peartree</td>\n",
       "      <td>NaN</td>\n",
       "      <td>St. Julian 2013 Reserve Late Harvest Riesling ...</td>\n",
       "      <td>Riesling</td>\n",
       "      <td>St. Julian</td>\n",
       "    </tr>\n",
       "    <tr>\n",
       "      <th>4</th>\n",
       "      <td>US</td>\n",
       "      <td>Much like the regular bottling from 2012, this...</td>\n",
       "      <td>Vintner's Reserve Wild Child Block</td>\n",
       "      <td>87</td>\n",
       "      <td>65.0</td>\n",
       "      <td>Oregon</td>\n",
       "      <td>Willamette Valley</td>\n",
       "      <td>Willamette Valley</td>\n",
       "      <td>Paul Gregutt</td>\n",
       "      <td>@paulgwine</td>\n",
       "      <td>Sweet Cheeks 2012 Vintner's Reserve Wild Child...</td>\n",
       "      <td>Pinot Noir</td>\n",
       "      <td>Sweet Cheeks</td>\n",
       "    </tr>\n",
       "  </tbody>\n",
       "</table>\n",
       "</div>"
      ],
      "text/plain": [
       "    country                                        description  \\\n",
       "0     Italy  Aromas include tropical fruit, broom, brimston...   \n",
       "1  Portugal  This is ripe and fruity, a wine that is smooth...   \n",
       "2        US  Tart and snappy, the flavors of lime flesh and...   \n",
       "3        US  Pineapple rind, lemon pith and orange blossom ...   \n",
       "4        US  Much like the regular bottling from 2012, this...   \n",
       "\n",
       "                          designation  points  price           province  \\\n",
       "0                        Vulkà Bianco      87    NaN  Sicily & Sardinia   \n",
       "1                            Avidagos      87   15.0              Douro   \n",
       "2                                 NaN      87   14.0             Oregon   \n",
       "3                Reserve Late Harvest      87   13.0           Michigan   \n",
       "4  Vintner's Reserve Wild Child Block      87   65.0             Oregon   \n",
       "\n",
       "              region_1           region_2         taster_name  \\\n",
       "0                 Etna                NaN       Kerin O’Keefe   \n",
       "1                  NaN                NaN          Roger Voss   \n",
       "2    Willamette Valley  Willamette Valley        Paul Gregutt   \n",
       "3  Lake Michigan Shore                NaN  Alexander Peartree   \n",
       "4    Willamette Valley  Willamette Valley        Paul Gregutt   \n",
       "\n",
       "  taster_twitter_handle                                              title  \\\n",
       "0          @kerinokeefe                  Nicosia 2013 Vulkà Bianco  (Etna)   \n",
       "1            @vossroger      Quinta dos Avidagos 2011 Avidagos Red (Douro)   \n",
       "2           @paulgwine       Rainstorm 2013 Pinot Gris (Willamette Valley)   \n",
       "3                   NaN  St. Julian 2013 Reserve Late Harvest Riesling ...   \n",
       "4           @paulgwine   Sweet Cheeks 2012 Vintner's Reserve Wild Child...   \n",
       "\n",
       "          variety               winery  \n",
       "0     White Blend              Nicosia  \n",
       "1  Portuguese Red  Quinta dos Avidagos  \n",
       "2      Pinot Gris            Rainstorm  \n",
       "3        Riesling           St. Julian  \n",
       "4      Pinot Noir         Sweet Cheeks  "
      ]
     },
     "execution_count": 2,
     "metadata": {},
     "output_type": "execute_result"
    }
   ],
   "source": [
    "reviews.head()"
   ]
  },
  {
   "cell_type": "markdown",
   "id": "a95562ed",
   "metadata": {
    "papermill": {
     "duration": 0.007155,
     "end_time": "2023-06-13T01:32:07.401074",
     "exception": false,
     "start_time": "2023-06-13T01:32:07.393919",
     "status": "completed"
    },
    "tags": []
   },
   "source": [
    "## 1.\n",
    "`region_1` and `region_2` are pretty uninformative names for locale columns in the dataset. Create a copy of `reviews` with these columns renamed to `region` and `locale`, respectively."
   ]
  },
  {
   "cell_type": "code",
   "execution_count": 3,
   "id": "ca31c495",
   "metadata": {
    "execution": {
     "iopub.execute_input": "2023-06-13T01:32:07.418199Z",
     "iopub.status.busy": "2023-06-13T01:32:07.417791Z",
     "iopub.status.idle": "2023-06-13T01:32:07.444946Z",
     "shell.execute_reply": "2023-06-13T01:32:07.443676Z"
    },
    "papermill": {
     "duration": 0.040839,
     "end_time": "2023-06-13T01:32:07.449293",
     "exception": false,
     "start_time": "2023-06-13T01:32:07.408454",
     "status": "completed"
    },
    "tags": []
   },
   "outputs": [
    {
     "data": {
      "application/javascript": [
       "parent.postMessage({\"jupyterEvent\": \"custom.exercise_interaction\", \"data\": {\"outcomeType\": 1, \"valueTowardsCompletion\": 0.25, \"interactionType\": 1, \"questionType\": 1, \"questionId\": \"1_RenameCols\", \"learnToolsVersion\": \"0.3.4\", \"failureMessage\": \"\", \"exceptionClass\": \"\", \"trace\": \"\"}}, \"*\")"
      ],
      "text/plain": [
       "<IPython.core.display.Javascript object>"
      ]
     },
     "metadata": {},
     "output_type": "display_data"
    },
    {
     "data": {
      "text/markdown": [
       "<span style=\"color:#33cc33\">Correct</span>"
      ],
      "text/plain": [
       "Correct"
      ]
     },
     "metadata": {},
     "output_type": "display_data"
    }
   ],
   "source": [
    "# Your code here\n",
    "renamed = reviews.rename(columns={'region_1': 'region', 'region_2': 'locale'})\n",
    "\n",
    "# Check your answer\n",
    "q1.check()"
   ]
  },
  {
   "cell_type": "code",
   "execution_count": 4,
   "id": "8e0c586e",
   "metadata": {
    "execution": {
     "iopub.execute_input": "2023-06-13T01:32:07.474595Z",
     "iopub.status.busy": "2023-06-13T01:32:07.469938Z",
     "iopub.status.idle": "2023-06-13T01:32:07.478546Z",
     "shell.execute_reply": "2023-06-13T01:32:07.477579Z"
    },
    "papermill": {
     "duration": 0.021831,
     "end_time": "2023-06-13T01:32:07.481208",
     "exception": false,
     "start_time": "2023-06-13T01:32:07.459377",
     "status": "completed"
    },
    "tags": []
   },
   "outputs": [],
   "source": [
    "#q1.hint()\n",
    "#q1.solution()"
   ]
  },
  {
   "cell_type": "markdown",
   "id": "0e2c7e11",
   "metadata": {
    "papermill": {
     "duration": 0.010631,
     "end_time": "2023-06-13T01:32:07.503125",
     "exception": false,
     "start_time": "2023-06-13T01:32:07.492494",
     "status": "completed"
    },
    "tags": []
   },
   "source": [
    "## 2.\n",
    "Set the index name in the dataset to `wines`."
   ]
  },
  {
   "cell_type": "code",
   "execution_count": 5,
   "id": "545a28f5",
   "metadata": {
    "execution": {
     "iopub.execute_input": "2023-06-13T01:32:07.524868Z",
     "iopub.status.busy": "2023-06-13T01:32:07.523597Z",
     "iopub.status.idle": "2023-06-13T01:32:07.548439Z",
     "shell.execute_reply": "2023-06-13T01:32:07.547105Z"
    },
    "papermill": {
     "duration": 0.037045,
     "end_time": "2023-06-13T01:32:07.550986",
     "exception": false,
     "start_time": "2023-06-13T01:32:07.513941",
     "status": "completed"
    },
    "tags": []
   },
   "outputs": [
    {
     "data": {
      "application/javascript": [
       "parent.postMessage({\"jupyterEvent\": \"custom.exercise_interaction\", \"data\": {\"outcomeType\": 1, \"valueTowardsCompletion\": 0.25, \"interactionType\": 1, \"questionType\": 1, \"questionId\": \"2_RenameIndex\", \"learnToolsVersion\": \"0.3.4\", \"failureMessage\": \"\", \"exceptionClass\": \"\", \"trace\": \"\"}}, \"*\")"
      ],
      "text/plain": [
       "<IPython.core.display.Javascript object>"
      ]
     },
     "metadata": {},
     "output_type": "display_data"
    },
    {
     "data": {
      "text/markdown": [
       "<span style=\"color:#33cc33\">Correct</span>"
      ],
      "text/plain": [
       "Correct"
      ]
     },
     "metadata": {},
     "output_type": "display_data"
    }
   ],
   "source": [
    "reindexed = reviews.rename_axis(\"wines\",axis=\"rows\")\n",
    "# Check your answer\n",
    "q2.check()"
   ]
  },
  {
   "cell_type": "code",
   "execution_count": 6,
   "id": "36971841",
   "metadata": {
    "execution": {
     "iopub.execute_input": "2023-06-13T01:32:07.571044Z",
     "iopub.status.busy": "2023-06-13T01:32:07.569721Z",
     "iopub.status.idle": "2023-06-13T01:32:07.575078Z",
     "shell.execute_reply": "2023-06-13T01:32:07.573961Z"
    },
    "papermill": {
     "duration": 0.018249,
     "end_time": "2023-06-13T01:32:07.577594",
     "exception": false,
     "start_time": "2023-06-13T01:32:07.559345",
     "status": "completed"
    },
    "tags": []
   },
   "outputs": [],
   "source": [
    "#q2.hint()\n",
    "#q2.solution()"
   ]
  },
  {
   "cell_type": "markdown",
   "id": "9ca737d9",
   "metadata": {
    "papermill": {
     "duration": 0.008006,
     "end_time": "2023-06-13T01:32:07.594466",
     "exception": false,
     "start_time": "2023-06-13T01:32:07.586460",
     "status": "completed"
    },
    "tags": []
   },
   "source": []
  },
  {
   "cell_type": "markdown",
   "id": "e2d757c1",
   "metadata": {
    "papermill": {
     "duration": 0.00788,
     "end_time": "2023-06-13T01:32:07.610862",
     "exception": false,
     "start_time": "2023-06-13T01:32:07.602982",
     "status": "completed"
    },
    "tags": []
   },
   "source": [
    "## 3.\n",
    "The [Things on Reddit](https://www.kaggle.com/residentmario/things-on-reddit/data) dataset includes product links from a selection of top-ranked forums (\"subreddits\") on reddit.com. Run the cell below to load a dataframe of products mentioned on the */r/gaming* subreddit and another dataframe for products mentioned on the *r//movies* subreddit."
   ]
  },
  {
   "cell_type": "code",
   "execution_count": 7,
   "id": "74a6f462",
   "metadata": {
    "execution": {
     "iopub.execute_input": "2023-06-13T01:32:07.630653Z",
     "iopub.status.busy": "2023-06-13T01:32:07.629716Z",
     "iopub.status.idle": "2023-06-13T01:32:07.648547Z",
     "shell.execute_reply": "2023-06-13T01:32:07.647444Z"
    },
    "papermill": {
     "duration": 0.031732,
     "end_time": "2023-06-13T01:32:07.651213",
     "exception": false,
     "start_time": "2023-06-13T01:32:07.619481",
     "status": "completed"
    },
    "tags": []
   },
   "outputs": [],
   "source": [
    "gaming_products = pd.read_csv(\"../input/things-on-reddit/top-things/top-things/reddits/g/gaming.csv\")\n",
    "gaming_products['subreddit'] = \"r/gaming\"\n",
    "movie_products = pd.read_csv(\"../input/things-on-reddit/top-things/top-things/reddits/m/movies.csv\")\n",
    "movie_products['subreddit'] = \"r/movies\""
   ]
  },
  {
   "cell_type": "markdown",
   "id": "15c31eec",
   "metadata": {
    "papermill": {
     "duration": 0.007995,
     "end_time": "2023-06-13T01:32:07.667503",
     "exception": false,
     "start_time": "2023-06-13T01:32:07.659508",
     "status": "completed"
    },
    "tags": []
   },
   "source": [
    "Create a `DataFrame` of products mentioned on *either* subreddit."
   ]
  },
  {
   "cell_type": "code",
   "execution_count": 8,
   "id": "d3917a34",
   "metadata": {
    "execution": {
     "iopub.execute_input": "2023-06-13T01:32:07.692404Z",
     "iopub.status.busy": "2023-06-13T01:32:07.691618Z",
     "iopub.status.idle": "2023-06-13T01:32:07.703454Z",
     "shell.execute_reply": "2023-06-13T01:32:07.702669Z"
    },
    "papermill": {
     "duration": 0.02741,
     "end_time": "2023-06-13T01:32:07.706238",
     "exception": false,
     "start_time": "2023-06-13T01:32:07.678828",
     "status": "completed"
    },
    "tags": []
   },
   "outputs": [
    {
     "data": {
      "application/javascript": [
       "parent.postMessage({\"jupyterEvent\": \"custom.exercise_interaction\", \"data\": {\"outcomeType\": 1, \"valueTowardsCompletion\": 0.25, \"interactionType\": 1, \"questionType\": 2, \"questionId\": \"3_ConcatReddit\", \"learnToolsVersion\": \"0.3.4\", \"failureMessage\": \"\", \"exceptionClass\": \"\", \"trace\": \"\"}}, \"*\")"
      ],
      "text/plain": [
       "<IPython.core.display.Javascript object>"
      ]
     },
     "metadata": {},
     "output_type": "display_data"
    },
    {
     "data": {
      "text/markdown": [
       "<span style=\"color:#33cc33\">Correct</span>"
      ],
      "text/plain": [
       "Correct"
      ]
     },
     "metadata": {},
     "output_type": "display_data"
    }
   ],
   "source": [
    "combined_products = pd.concat([gaming_products,movie_products])\n",
    "\n",
    "# Check your answer\n",
    "q3.check()"
   ]
  },
  {
   "cell_type": "code",
   "execution_count": 9,
   "id": "5ae06ead",
   "metadata": {
    "execution": {
     "iopub.execute_input": "2023-06-13T01:32:07.727120Z",
     "iopub.status.busy": "2023-06-13T01:32:07.726744Z",
     "iopub.status.idle": "2023-06-13T01:32:07.730998Z",
     "shell.execute_reply": "2023-06-13T01:32:07.730147Z"
    },
    "papermill": {
     "duration": 0.016868,
     "end_time": "2023-06-13T01:32:07.733767",
     "exception": false,
     "start_time": "2023-06-13T01:32:07.716899",
     "status": "completed"
    },
    "tags": []
   },
   "outputs": [],
   "source": [
    "#q3.hint()\n",
    "#q3.solution()"
   ]
  },
  {
   "cell_type": "markdown",
   "id": "d9690300",
   "metadata": {
    "papermill": {
     "duration": 0.008312,
     "end_time": "2023-06-13T01:32:07.753195",
     "exception": false,
     "start_time": "2023-06-13T01:32:07.744883",
     "status": "completed"
    },
    "tags": []
   },
   "source": [
    "## 4.\n",
    "The [Powerlifting Database](https://www.kaggle.com/open-powerlifting/powerlifting-database) dataset on Kaggle includes one CSV table for powerlifting meets and a separate one for powerlifting competitors. Run the cell below to load these datasets into dataframes:"
   ]
  },
  {
   "cell_type": "code",
   "execution_count": 10,
   "id": "f9093ab2",
   "metadata": {
    "execution": {
     "iopub.execute_input": "2023-06-13T01:32:07.773670Z",
     "iopub.status.busy": "2023-06-13T01:32:07.773295Z",
     "iopub.status.idle": "2023-06-13T01:32:08.775321Z",
     "shell.execute_reply": "2023-06-13T01:32:08.774167Z"
    },
    "papermill": {
     "duration": 1.016168,
     "end_time": "2023-06-13T01:32:08.778088",
     "exception": false,
     "start_time": "2023-06-13T01:32:07.761920",
     "status": "completed"
    },
    "tags": []
   },
   "outputs": [],
   "source": [
    "powerlifting_meets = pd.read_csv(\"../input/powerlifting-database/meets.csv\")\n",
    "powerlifting_competitors = pd.read_csv(\"../input/powerlifting-database/openpowerlifting.csv\")"
   ]
  },
  {
   "cell_type": "markdown",
   "id": "d7ca8b56",
   "metadata": {
    "papermill": {
     "duration": 0.008169,
     "end_time": "2023-06-13T01:32:08.794754",
     "exception": false,
     "start_time": "2023-06-13T01:32:08.786585",
     "status": "completed"
    },
    "tags": []
   },
   "source": [
    "Both tables include references to a `MeetID`, a unique key for each meet (competition) included in the database. Using this, generate a dataset combining the two tables into one."
   ]
  },
  {
   "cell_type": "code",
   "execution_count": 11,
   "id": "aac690c6",
   "metadata": {
    "execution": {
     "iopub.execute_input": "2023-06-13T01:32:08.814117Z",
     "iopub.status.busy": "2023-06-13T01:32:08.813642Z",
     "iopub.status.idle": "2023-06-13T01:32:10.227423Z",
     "shell.execute_reply": "2023-06-13T01:32:10.226201Z"
    },
    "papermill": {
     "duration": 1.426671,
     "end_time": "2023-06-13T01:32:10.229900",
     "exception": false,
     "start_time": "2023-06-13T01:32:08.803229",
     "status": "completed"
    },
    "tags": []
   },
   "outputs": [
    {
     "data": {
      "application/javascript": [
       "parent.postMessage({\"jupyterEvent\": \"custom.exercise_interaction\", \"data\": {\"outcomeType\": 1, \"valueTowardsCompletion\": 0.25, \"interactionType\": 1, \"questionType\": 2, \"questionId\": \"4_JoinLifting\", \"learnToolsVersion\": \"0.3.4\", \"failureMessage\": \"\", \"exceptionClass\": \"\", \"trace\": \"\"}}, \"*\")"
      ],
      "text/plain": [
       "<IPython.core.display.Javascript object>"
      ]
     },
     "metadata": {},
     "output_type": "display_data"
    },
    {
     "data": {
      "text/markdown": [
       "<span style=\"color:#33cc33\">Correct</span>"
      ],
      "text/plain": [
       "Correct"
      ]
     },
     "metadata": {},
     "output_type": "display_data"
    }
   ],
   "source": [
    "left = powerlifting_meets.set_index([\"MeetID\"])\n",
    "right = powerlifting_competitors.set_index([\"MeetID\"])\n",
    "powerlifting_combined = left.join(right)\n",
    "\n",
    "# Check your answer\n",
    "q4.check()"
   ]
  },
  {
   "cell_type": "code",
   "execution_count": 12,
   "id": "7a95da5a",
   "metadata": {
    "execution": {
     "iopub.execute_input": "2023-06-13T01:32:10.249767Z",
     "iopub.status.busy": "2023-06-13T01:32:10.249066Z",
     "iopub.status.idle": "2023-06-13T01:32:10.254109Z",
     "shell.execute_reply": "2023-06-13T01:32:10.252832Z"
    },
    "papermill": {
     "duration": 0.017682,
     "end_time": "2023-06-13T01:32:10.256478",
     "exception": false,
     "start_time": "2023-06-13T01:32:10.238796",
     "status": "completed"
    },
    "tags": []
   },
   "outputs": [],
   "source": [
    "#q4.hint()\n",
    "#q4.solution()"
   ]
  },
  {
   "cell_type": "markdown",
   "id": "eb7ed822",
   "metadata": {
    "papermill": {
     "duration": 0.008511,
     "end_time": "2023-06-13T01:32:10.273941",
     "exception": false,
     "start_time": "2023-06-13T01:32:10.265430",
     "status": "completed"
    },
    "tags": []
   },
   "source": [
    "# Congratulations!\n",
    "\n",
    "You've finished the Pandas micro-course.  Many data scientists feel efficiency with Pandas is the most useful and practical skill they have, because it allows you to progress quickly in any project you have.\n",
    "\n",
    "If you'd like to apply your new skills to examining geospatial data, you're encouraged to check out our **[Geospatial Analysis](https://www.kaggle.com/learn/geospatial-analysis)** micro-course.\n",
    "\n",
    "You can also take advantage of your Pandas skills by entering a **[Kaggle Competition](https://www.kaggle.com/competitions)** or by answering a question you find interesting using **[Kaggle Datasets](https://www.kaggle.com/datasets)**."
   ]
  },
  {
   "cell_type": "markdown",
   "id": "979b0e90",
   "metadata": {
    "papermill": {
     "duration": 0.008431,
     "end_time": "2023-06-13T01:32:10.291284",
     "exception": false,
     "start_time": "2023-06-13T01:32:10.282853",
     "status": "completed"
    },
    "tags": []
   },
   "source": [
    "---\n",
    "\n",
    "\n",
    "\n",
    "\n",
    "*Have questions or comments? Visit the [course discussion forum](https://www.kaggle.com/learn/pandas/discussion) to chat with other learners.*"
   ]
  }
 ],
 "metadata": {
  "kernelspec": {
   "display_name": "Python 3",
   "language": "python",
   "name": "python3"
  },
  "language_info": {
   "codemirror_mode": {
    "name": "ipython",
    "version": 3
   },
   "file_extension": ".py",
   "mimetype": "text/x-python",
   "name": "python",
   "nbconvert_exporter": "python",
   "pygments_lexer": "ipython3",
   "version": "3.10.10"
  },
  "papermill": {
   "default_parameters": {},
   "duration": 21.004401,
   "end_time": "2023-06-13T01:32:11.323211",
   "environment_variables": {},
   "exception": null,
   "input_path": "__notebook__.ipynb",
   "output_path": "__notebook__.ipynb",
   "parameters": {},
   "start_time": "2023-06-13T01:31:50.318810",
   "version": "2.4.0"
  }
 },
 "nbformat": 4,
 "nbformat_minor": 5
}
