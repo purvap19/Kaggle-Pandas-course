{
 "cells": [
  {
   "cell_type": "markdown",
   "id": "68ba928d",
   "metadata": {
    "papermill": {
     "duration": 0.015887,
     "end_time": "2023-06-08T16:55:30.053455",
     "exception": false,
     "start_time": "2023-06-08T16:55:30.037568",
     "status": "completed"
    },
    "tags": []
   },
   "source": [
    "**This notebook is an exercise in the [Pandas](https://www.kaggle.com/learn/pandas) course.  You can reference the tutorial at [this link](https://www.kaggle.com/residentmario/indexing-selecting-assigning).**\n",
    "\n",
    "---\n"
   ]
  },
  {
   "cell_type": "code",
   "execution_count": null,
   "id": "3adb398c",
   "metadata": {
    "papermill": {
     "duration": 0.010129,
     "end_time": "2023-06-08T16:55:30.074377",
     "exception": false,
     "start_time": "2023-06-08T16:55:30.064248",
     "status": "completed"
    },
    "tags": []
   },
   "outputs": [],
   "source": []
  },
  {
   "cell_type": "markdown",
   "id": "dbf5bb6b",
   "metadata": {
    "papermill": {
     "duration": 0.011122,
     "end_time": "2023-06-08T16:55:30.096079",
     "exception": false,
     "start_time": "2023-06-08T16:55:30.084957",
     "status": "completed"
    },
    "tags": []
   },
   "source": [
    "# Introduction\n",
    "\n",
    "In this set of exercises we will work with the [Wine Reviews dataset](https://www.kaggle.com/zynicide/wine-reviews). "
   ]
  },
  {
   "cell_type": "markdown",
   "id": "bd5d7401",
   "metadata": {
    "papermill": {
     "duration": 0.010425,
     "end_time": "2023-06-08T16:55:30.117230",
     "exception": false,
     "start_time": "2023-06-08T16:55:30.106805",
     "status": "completed"
    },
    "tags": []
   },
   "source": [
    "Run the following cell to load your data and some utility functions (including code to check your answers)."
   ]
  },
  {
   "cell_type": "code",
   "execution_count": 1,
   "id": "c156eec8",
   "metadata": {
    "execution": {
     "iopub.execute_input": "2023-06-08T16:55:30.142038Z",
     "iopub.status.busy": "2023-06-08T16:55:30.141076Z",
     "iopub.status.idle": "2023-06-08T16:55:33.720268Z",
     "shell.execute_reply": "2023-06-08T16:55:33.719448Z"
    },
    "papermill": {
     "duration": 3.594736,
     "end_time": "2023-06-08T16:55:33.722867",
     "exception": false,
     "start_time": "2023-06-08T16:55:30.128131",
     "status": "completed"
    },
    "tags": []
   },
   "outputs": [
    {
     "name": "stdout",
     "output_type": "stream",
     "text": [
      "Setup complete.\n"
     ]
    }
   ],
   "source": [
    "import pandas as pd\n",
    "\n",
    "reviews = pd.read_csv(\"../input/wine-reviews/winemag-data-130k-v2.csv\", index_col=0)\n",
    "pd.set_option(\"display.max_rows\", 5)\n",
    "\n",
    "from learntools.core import binder; binder.bind(globals())\n",
    "from learntools.pandas.indexing_selecting_and_assigning import *\n",
    "print(\"Setup complete.\")"
   ]
  },
  {
   "cell_type": "markdown",
   "id": "47016433",
   "metadata": {
    "papermill": {
     "duration": 0.010306,
     "end_time": "2023-06-08T16:55:33.744028",
     "exception": false,
     "start_time": "2023-06-08T16:55:33.733722",
     "status": "completed"
    },
    "tags": []
   },
   "source": [
    "Look at an overview of your data by running the following line."
   ]
  },
  {
   "cell_type": "code",
   "execution_count": 2,
   "id": "bccc8e47",
   "metadata": {
    "execution": {
     "iopub.execute_input": "2023-06-08T16:55:33.767799Z",
     "iopub.status.busy": "2023-06-08T16:55:33.767315Z",
     "iopub.status.idle": "2023-06-08T16:55:33.798002Z",
     "shell.execute_reply": "2023-06-08T16:55:33.796845Z"
    },
    "papermill": {
     "duration": 0.046001,
     "end_time": "2023-06-08T16:55:33.800939",
     "exception": false,
     "start_time": "2023-06-08T16:55:33.754938",
     "status": "completed"
    },
    "tags": []
   },
   "outputs": [
    {
     "data": {
      "text/html": [
       "<div>\n",
       "<style scoped>\n",
       "    .dataframe tbody tr th:only-of-type {\n",
       "        vertical-align: middle;\n",
       "    }\n",
       "\n",
       "    .dataframe tbody tr th {\n",
       "        vertical-align: top;\n",
       "    }\n",
       "\n",
       "    .dataframe thead th {\n",
       "        text-align: right;\n",
       "    }\n",
       "</style>\n",
       "<table border=\"1\" class=\"dataframe\">\n",
       "  <thead>\n",
       "    <tr style=\"text-align: right;\">\n",
       "      <th></th>\n",
       "      <th>country</th>\n",
       "      <th>description</th>\n",
       "      <th>designation</th>\n",
       "      <th>points</th>\n",
       "      <th>price</th>\n",
       "      <th>province</th>\n",
       "      <th>region_1</th>\n",
       "      <th>region_2</th>\n",
       "      <th>taster_name</th>\n",
       "      <th>taster_twitter_handle</th>\n",
       "      <th>title</th>\n",
       "      <th>variety</th>\n",
       "      <th>winery</th>\n",
       "    </tr>\n",
       "  </thead>\n",
       "  <tbody>\n",
       "    <tr>\n",
       "      <th>0</th>\n",
       "      <td>Italy</td>\n",
       "      <td>Aromas include tropical fruit, broom, brimston...</td>\n",
       "      <td>Vulkà Bianco</td>\n",
       "      <td>87</td>\n",
       "      <td>NaN</td>\n",
       "      <td>Sicily &amp; Sardinia</td>\n",
       "      <td>Etna</td>\n",
       "      <td>NaN</td>\n",
       "      <td>Kerin O’Keefe</td>\n",
       "      <td>@kerinokeefe</td>\n",
       "      <td>Nicosia 2013 Vulkà Bianco  (Etna)</td>\n",
       "      <td>White Blend</td>\n",
       "      <td>Nicosia</td>\n",
       "    </tr>\n",
       "    <tr>\n",
       "      <th>1</th>\n",
       "      <td>Portugal</td>\n",
       "      <td>This is ripe and fruity, a wine that is smooth...</td>\n",
       "      <td>Avidagos</td>\n",
       "      <td>87</td>\n",
       "      <td>15.0</td>\n",
       "      <td>Douro</td>\n",
       "      <td>NaN</td>\n",
       "      <td>NaN</td>\n",
       "      <td>Roger Voss</td>\n",
       "      <td>@vossroger</td>\n",
       "      <td>Quinta dos Avidagos 2011 Avidagos Red (Douro)</td>\n",
       "      <td>Portuguese Red</td>\n",
       "      <td>Quinta dos Avidagos</td>\n",
       "    </tr>\n",
       "    <tr>\n",
       "      <th>2</th>\n",
       "      <td>US</td>\n",
       "      <td>Tart and snappy, the flavors of lime flesh and...</td>\n",
       "      <td>NaN</td>\n",
       "      <td>87</td>\n",
       "      <td>14.0</td>\n",
       "      <td>Oregon</td>\n",
       "      <td>Willamette Valley</td>\n",
       "      <td>Willamette Valley</td>\n",
       "      <td>Paul Gregutt</td>\n",
       "      <td>@paulgwine</td>\n",
       "      <td>Rainstorm 2013 Pinot Gris (Willamette Valley)</td>\n",
       "      <td>Pinot Gris</td>\n",
       "      <td>Rainstorm</td>\n",
       "    </tr>\n",
       "    <tr>\n",
       "      <th>3</th>\n",
       "      <td>US</td>\n",
       "      <td>Pineapple rind, lemon pith and orange blossom ...</td>\n",
       "      <td>Reserve Late Harvest</td>\n",
       "      <td>87</td>\n",
       "      <td>13.0</td>\n",
       "      <td>Michigan</td>\n",
       "      <td>Lake Michigan Shore</td>\n",
       "      <td>NaN</td>\n",
       "      <td>Alexander Peartree</td>\n",
       "      <td>NaN</td>\n",
       "      <td>St. Julian 2013 Reserve Late Harvest Riesling ...</td>\n",
       "      <td>Riesling</td>\n",
       "      <td>St. Julian</td>\n",
       "    </tr>\n",
       "    <tr>\n",
       "      <th>4</th>\n",
       "      <td>US</td>\n",
       "      <td>Much like the regular bottling from 2012, this...</td>\n",
       "      <td>Vintner's Reserve Wild Child Block</td>\n",
       "      <td>87</td>\n",
       "      <td>65.0</td>\n",
       "      <td>Oregon</td>\n",
       "      <td>Willamette Valley</td>\n",
       "      <td>Willamette Valley</td>\n",
       "      <td>Paul Gregutt</td>\n",
       "      <td>@paulgwine</td>\n",
       "      <td>Sweet Cheeks 2012 Vintner's Reserve Wild Child...</td>\n",
       "      <td>Pinot Noir</td>\n",
       "      <td>Sweet Cheeks</td>\n",
       "    </tr>\n",
       "  </tbody>\n",
       "</table>\n",
       "</div>"
      ],
      "text/plain": [
       "    country                                        description  \\\n",
       "0     Italy  Aromas include tropical fruit, broom, brimston...   \n",
       "1  Portugal  This is ripe and fruity, a wine that is smooth...   \n",
       "2        US  Tart and snappy, the flavors of lime flesh and...   \n",
       "3        US  Pineapple rind, lemon pith and orange blossom ...   \n",
       "4        US  Much like the regular bottling from 2012, this...   \n",
       "\n",
       "                          designation  points  price           province  \\\n",
       "0                        Vulkà Bianco      87    NaN  Sicily & Sardinia   \n",
       "1                            Avidagos      87   15.0              Douro   \n",
       "2                                 NaN      87   14.0             Oregon   \n",
       "3                Reserve Late Harvest      87   13.0           Michigan   \n",
       "4  Vintner's Reserve Wild Child Block      87   65.0             Oregon   \n",
       "\n",
       "              region_1           region_2         taster_name  \\\n",
       "0                 Etna                NaN       Kerin O’Keefe   \n",
       "1                  NaN                NaN          Roger Voss   \n",
       "2    Willamette Valley  Willamette Valley        Paul Gregutt   \n",
       "3  Lake Michigan Shore                NaN  Alexander Peartree   \n",
       "4    Willamette Valley  Willamette Valley        Paul Gregutt   \n",
       "\n",
       "  taster_twitter_handle                                              title  \\\n",
       "0          @kerinokeefe                  Nicosia 2013 Vulkà Bianco  (Etna)   \n",
       "1            @vossroger      Quinta dos Avidagos 2011 Avidagos Red (Douro)   \n",
       "2           @paulgwine       Rainstorm 2013 Pinot Gris (Willamette Valley)   \n",
       "3                   NaN  St. Julian 2013 Reserve Late Harvest Riesling ...   \n",
       "4           @paulgwine   Sweet Cheeks 2012 Vintner's Reserve Wild Child...   \n",
       "\n",
       "          variety               winery  \n",
       "0     White Blend              Nicosia  \n",
       "1  Portuguese Red  Quinta dos Avidagos  \n",
       "2      Pinot Gris            Rainstorm  \n",
       "3        Riesling           St. Julian  \n",
       "4      Pinot Noir         Sweet Cheeks  "
      ]
     },
     "execution_count": 2,
     "metadata": {},
     "output_type": "execute_result"
    }
   ],
   "source": [
    "reviews.head()"
   ]
  },
  {
   "cell_type": "markdown",
   "id": "5e2200a8",
   "metadata": {
    "papermill": {
     "duration": 0.01079,
     "end_time": "2023-06-08T16:55:33.822904",
     "exception": false,
     "start_time": "2023-06-08T16:55:33.812114",
     "status": "completed"
    },
    "tags": []
   },
   "source": [
    "# Exercises"
   ]
  },
  {
   "cell_type": "markdown",
   "id": "f55f65b2",
   "metadata": {
    "papermill": {
     "duration": 0.01108,
     "end_time": "2023-06-08T16:55:33.845029",
     "exception": false,
     "start_time": "2023-06-08T16:55:33.833949",
     "status": "completed"
    },
    "tags": []
   },
   "source": [
    "## 1.\n",
    "\n",
    "Select the `description` column from `reviews` and assign the result to the variable `desc`."
   ]
  },
  {
   "cell_type": "code",
   "execution_count": 3,
   "id": "804bbb1c",
   "metadata": {
    "execution": {
     "iopub.execute_input": "2023-06-08T16:55:33.870562Z",
     "iopub.status.busy": "2023-06-08T16:55:33.869300Z",
     "iopub.status.idle": "2023-06-08T16:55:33.879964Z",
     "shell.execute_reply": "2023-06-08T16:55:33.879069Z"
    },
    "papermill": {
     "duration": 0.025051,
     "end_time": "2023-06-08T16:55:33.881934",
     "exception": false,
     "start_time": "2023-06-08T16:55:33.856883",
     "status": "completed"
    },
    "tags": []
   },
   "outputs": [
    {
     "data": {
      "application/javascript": [
       "parent.postMessage({\"jupyterEvent\": \"custom.exercise_interaction\", \"data\": {\"outcomeType\": 1, \"valueTowardsCompletion\": 0.1111111111111111, \"interactionType\": 1, \"questionType\": 1, \"questionId\": \"1_SelectDescCol\", \"learnToolsVersion\": \"0.3.4\", \"failureMessage\": \"\", \"exceptionClass\": \"\", \"trace\": \"\"}}, \"*\")"
      ],
      "text/plain": [
       "<IPython.core.display.Javascript object>"
      ]
     },
     "metadata": {},
     "output_type": "display_data"
    },
    {
     "data": {
      "text/markdown": [
       "<span style=\"color:#33cc33\">Correct</span>"
      ],
      "text/plain": [
       "Correct"
      ]
     },
     "metadata": {},
     "output_type": "display_data"
    }
   ],
   "source": [
    "# Your code here\n",
    "desc = reviews['description']\n",
    "\n",
    "# Check your answer\n",
    "q1.check()\n"
   ]
  },
  {
   "cell_type": "code",
   "execution_count": null,
   "id": "026c044a",
   "metadata": {
    "collapsed": true,
    "jupyter": {
     "outputs_hidden": true
    },
    "papermill": {
     "duration": 0.011406,
     "end_time": "2023-06-08T16:55:33.904824",
     "exception": false,
     "start_time": "2023-06-08T16:55:33.893418",
     "status": "completed"
    },
    "tags": []
   },
   "outputs": [],
   "source": []
  },
  {
   "cell_type": "markdown",
   "id": "c3aca628",
   "metadata": {
    "papermill": {
     "duration": 0.012029,
     "end_time": "2023-06-08T16:55:33.928302",
     "exception": false,
     "start_time": "2023-06-08T16:55:33.916273",
     "status": "completed"
    },
    "tags": []
   },
   "source": [
    "Follow-up question: what type of object is `desc`? If you're not sure, you can check by calling Python's `type` function: `type(desc)`."
   ]
  },
  {
   "cell_type": "code",
   "execution_count": null,
   "id": "0d15f044",
   "metadata": {
    "execution": {
     "iopub.execute_input": "2023-06-06T19:39:44.333043Z",
     "iopub.status.busy": "2023-06-06T19:39:44.332664Z",
     "iopub.status.idle": "2023-06-06T19:39:44.344949Z",
     "shell.execute_reply": "2023-06-06T19:39:44.343935Z",
     "shell.execute_reply.started": "2023-06-06T19:39:44.333014Z"
    },
    "papermill": {
     "duration": 0.011442,
     "end_time": "2023-06-08T16:55:33.951405",
     "exception": false,
     "start_time": "2023-06-08T16:55:33.939963",
     "status": "completed"
    },
    "tags": []
   },
   "outputs": [],
   "source": []
  },
  {
   "cell_type": "code",
   "execution_count": 4,
   "id": "ad597e9a",
   "metadata": {
    "collapsed": true,
    "execution": {
     "iopub.execute_input": "2023-06-08T16:55:33.976257Z",
     "iopub.status.busy": "2023-06-08T16:55:33.975808Z",
     "iopub.status.idle": "2023-06-08T16:55:33.981023Z",
     "shell.execute_reply": "2023-06-08T16:55:33.979737Z"
    },
    "jupyter": {
     "outputs_hidden": true
    },
    "papermill": {
     "duration": 0.020498,
     "end_time": "2023-06-08T16:55:33.983426",
     "exception": false,
     "start_time": "2023-06-08T16:55:33.962928",
     "status": "completed"
    },
    "tags": []
   },
   "outputs": [],
   "source": [
    "#q1.solution()"
   ]
  },
  {
   "cell_type": "markdown",
   "id": "ec448f44",
   "metadata": {
    "papermill": {
     "duration": 0.011009,
     "end_time": "2023-06-08T16:55:34.006285",
     "exception": false,
     "start_time": "2023-06-08T16:55:33.995276",
     "status": "completed"
    },
    "tags": []
   },
   "source": [
    "## 2.\n",
    "\n",
    "Select the first value from the description column of `reviews`, assigning it to variable `first_description`."
   ]
  },
  {
   "cell_type": "code",
   "execution_count": 5,
   "id": "96aacbc2",
   "metadata": {
    "execution": {
     "iopub.execute_input": "2023-06-08T16:55:34.031208Z",
     "iopub.status.busy": "2023-06-08T16:55:34.030814Z",
     "iopub.status.idle": "2023-06-08T16:55:34.043116Z",
     "shell.execute_reply": "2023-06-08T16:55:34.041964Z"
    },
    "papermill": {
     "duration": 0.027759,
     "end_time": "2023-06-08T16:55:34.045644",
     "exception": false,
     "start_time": "2023-06-08T16:55:34.017885",
     "status": "completed"
    },
    "tags": []
   },
   "outputs": [
    {
     "data": {
      "application/javascript": [
       "parent.postMessage({\"jupyterEvent\": \"custom.exercise_interaction\", \"data\": {\"outcomeType\": 1, \"valueTowardsCompletion\": 0.1111111111111111, \"interactionType\": 1, \"questionType\": 1, \"questionId\": \"2_FirstDesc\", \"learnToolsVersion\": \"0.3.4\", \"failureMessage\": \"\", \"exceptionClass\": \"\", \"trace\": \"\"}}, \"*\")"
      ],
      "text/plain": [
       "<IPython.core.display.Javascript object>"
      ]
     },
     "metadata": {},
     "output_type": "display_data"
    },
    {
     "data": {
      "text/markdown": [
       "<span style=\"color:#33cc33\">Correct:</span> \n",
       "\n",
       "\n",
       "```python\n",
       "first_description = reviews.description.iloc[0]\n",
       "```\n",
       "Note that while this is the preferred way to obtain the entry in the DataFrame, many other options will return a valid result, such as `reviews.description.loc[0]`, `reviews.description[0]`, and more!  \n"
      ],
      "text/plain": [
       "Correct: \n",
       "\n",
       "\n",
       "```python\n",
       "first_description = reviews.description.iloc[0]\n",
       "```\n",
       "Note that while this is the preferred way to obtain the entry in the DataFrame, many other options will return a valid result, such as `reviews.description.loc[0]`, `reviews.description[0]`, and more!  "
      ]
     },
     "metadata": {},
     "output_type": "display_data"
    },
    {
     "data": {
      "text/plain": [
       "\"Aromas include tropical fruit, broom, brimstone and dried herb. The palate isn't overly expressive, offering unripened apple, citrus and dried sage alongside brisk acidity.\""
      ]
     },
     "execution_count": 5,
     "metadata": {},
     "output_type": "execute_result"
    }
   ],
   "source": [
    "first_description = reviews.description.iloc[0]\n",
    "\n",
    "# Check your answer\n",
    "q2.check()\n",
    "first_description"
   ]
  },
  {
   "cell_type": "code",
   "execution_count": 6,
   "id": "2a1b8c5d",
   "metadata": {
    "execution": {
     "iopub.execute_input": "2023-06-08T16:55:34.072029Z",
     "iopub.status.busy": "2023-06-08T16:55:34.071616Z",
     "iopub.status.idle": "2023-06-08T16:55:34.076508Z",
     "shell.execute_reply": "2023-06-08T16:55:34.075034Z"
    },
    "papermill": {
     "duration": 0.020932,
     "end_time": "2023-06-08T16:55:34.079045",
     "exception": false,
     "start_time": "2023-06-08T16:55:34.058113",
     "status": "completed"
    },
    "tags": []
   },
   "outputs": [],
   "source": [
    "#q2.hint()\n",
    "#q2.solution()"
   ]
  },
  {
   "cell_type": "markdown",
   "id": "d73b3bd0",
   "metadata": {
    "papermill": {
     "duration": 0.011578,
     "end_time": "2023-06-08T16:55:34.103036",
     "exception": false,
     "start_time": "2023-06-08T16:55:34.091458",
     "status": "completed"
    },
    "tags": []
   },
   "source": [
    "## 3. \n",
    "\n",
    "Select the first row of data (the first record) from `reviews`, assigning it to the variable `first_row`."
   ]
  },
  {
   "cell_type": "code",
   "execution_count": 7,
   "id": "497b536f",
   "metadata": {
    "execution": {
     "iopub.execute_input": "2023-06-08T16:55:34.128926Z",
     "iopub.status.busy": "2023-06-08T16:55:34.127934Z",
     "iopub.status.idle": "2023-06-08T16:55:34.140504Z",
     "shell.execute_reply": "2023-06-08T16:55:34.139646Z"
    },
    "papermill": {
     "duration": 0.02788,
     "end_time": "2023-06-08T16:55:34.142777",
     "exception": false,
     "start_time": "2023-06-08T16:55:34.114897",
     "status": "completed"
    },
    "tags": []
   },
   "outputs": [
    {
     "data": {
      "application/javascript": [
       "parent.postMessage({\"jupyterEvent\": \"custom.exercise_interaction\", \"data\": {\"outcomeType\": 1, \"valueTowardsCompletion\": 0.1111111111111111, \"interactionType\": 1, \"questionType\": 1, \"questionId\": \"3_FirstRow\", \"learnToolsVersion\": \"0.3.4\", \"failureMessage\": \"\", \"exceptionClass\": \"\", \"trace\": \"\"}}, \"*\")"
      ],
      "text/plain": [
       "<IPython.core.display.Javascript object>"
      ]
     },
     "metadata": {},
     "output_type": "display_data"
    },
    {
     "data": {
      "text/markdown": [
       "<span style=\"color:#33cc33\">Correct</span>"
      ],
      "text/plain": [
       "Correct"
      ]
     },
     "metadata": {},
     "output_type": "display_data"
    },
    {
     "data": {
      "text/plain": [
       "country                                                    Italy\n",
       "description    Aromas include tropical fruit, broom, brimston...\n",
       "                                     ...                        \n",
       "variety                                              White Blend\n",
       "winery                                                   Nicosia\n",
       "Name: 0, Length: 13, dtype: object"
      ]
     },
     "execution_count": 7,
     "metadata": {},
     "output_type": "execute_result"
    }
   ],
   "source": [
    "first_row = reviews.iloc[0]\n",
    "\n",
    "# Check your answer\n",
    "q3.check()\n",
    "first_row"
   ]
  },
  {
   "cell_type": "code",
   "execution_count": 8,
   "id": "95239e74",
   "metadata": {
    "execution": {
     "iopub.execute_input": "2023-06-08T16:55:34.170361Z",
     "iopub.status.busy": "2023-06-08T16:55:34.169633Z",
     "iopub.status.idle": "2023-06-08T16:55:34.173441Z",
     "shell.execute_reply": "2023-06-08T16:55:34.172693Z"
    },
    "papermill": {
     "duration": 0.020516,
     "end_time": "2023-06-08T16:55:34.175724",
     "exception": false,
     "start_time": "2023-06-08T16:55:34.155208",
     "status": "completed"
    },
    "tags": []
   },
   "outputs": [],
   "source": [
    "#q3.hint()\n",
    "#q3.solution()"
   ]
  },
  {
   "cell_type": "markdown",
   "id": "3bda012f",
   "metadata": {
    "papermill": {
     "duration": 0.012147,
     "end_time": "2023-06-08T16:55:34.200892",
     "exception": false,
     "start_time": "2023-06-08T16:55:34.188745",
     "status": "completed"
    },
    "tags": []
   },
   "source": [
    "## 4.\n",
    "\n",
    "Select the first 10 values from the `description` column in `reviews`, assigning the result to variable `first_descriptions`.\n",
    "\n",
    "Hint: format your output as a pandas Series."
   ]
  },
  {
   "cell_type": "code",
   "execution_count": 9,
   "id": "966598e1",
   "metadata": {
    "execution": {
     "iopub.execute_input": "2023-06-08T16:55:34.229139Z",
     "iopub.status.busy": "2023-06-08T16:55:34.228410Z",
     "iopub.status.idle": "2023-06-08T16:55:34.241842Z",
     "shell.execute_reply": "2023-06-08T16:55:34.240806Z"
    },
    "papermill": {
     "duration": 0.02974,
     "end_time": "2023-06-08T16:55:34.244230",
     "exception": false,
     "start_time": "2023-06-08T16:55:34.214490",
     "status": "completed"
    },
    "tags": []
   },
   "outputs": [
    {
     "data": {
      "application/javascript": [
       "parent.postMessage({\"jupyterEvent\": \"custom.exercise_interaction\", \"data\": {\"outcomeType\": 1, \"valueTowardsCompletion\": 0.1111111111111111, \"interactionType\": 1, \"questionType\": 1, \"questionId\": \"4_FirstDescs\", \"learnToolsVersion\": \"0.3.4\", \"failureMessage\": \"\", \"exceptionClass\": \"\", \"trace\": \"\"}}, \"*\")"
      ],
      "text/plain": [
       "<IPython.core.display.Javascript object>"
      ]
     },
     "metadata": {},
     "output_type": "display_data"
    },
    {
     "data": {
      "text/markdown": [
       "<span style=\"color:#33cc33\">Correct:</span> \n",
       "\n",
       "\n",
       "```python\n",
       "first_descriptions = reviews.description.iloc[:10]\n",
       "```\n",
       "Note that many other options will return a valid result, such as `desc.head(10)` and `reviews.loc[:9, \"description\"]`.    \n"
      ],
      "text/plain": [
       "Correct: \n",
       "\n",
       "\n",
       "```python\n",
       "first_descriptions = reviews.description.iloc[:10]\n",
       "```\n",
       "Note that many other options will return a valid result, such as `desc.head(10)` and `reviews.loc[:9, \"description\"]`.    "
      ]
     },
     "metadata": {},
     "output_type": "display_data"
    },
    {
     "data": {
      "text/plain": [
       "0    Aromas include tropical fruit, broom, brimston...\n",
       "1    This is ripe and fruity, a wine that is smooth...\n",
       "                           ...                        \n",
       "8    Savory dried thyme notes accent sunnier flavor...\n",
       "9    This has great depth of flavor with its fresh ...\n",
       "Name: description, Length: 10, dtype: object"
      ]
     },
     "execution_count": 9,
     "metadata": {},
     "output_type": "execute_result"
    }
   ],
   "source": [
    "first_descriptions = reviews.description.iloc[0:10]\n",
    "\n",
    "# Check your answer\n",
    "q4.check()\n",
    "first_descriptions"
   ]
  },
  {
   "cell_type": "code",
   "execution_count": 10,
   "id": "5dbd11ad",
   "metadata": {
    "execution": {
     "iopub.execute_input": "2023-06-08T16:55:34.273095Z",
     "iopub.status.busy": "2023-06-08T16:55:34.272687Z",
     "iopub.status.idle": "2023-06-08T16:55:34.277057Z",
     "shell.execute_reply": "2023-06-08T16:55:34.275976Z"
    },
    "papermill": {
     "duration": 0.022025,
     "end_time": "2023-06-08T16:55:34.279280",
     "exception": false,
     "start_time": "2023-06-08T16:55:34.257255",
     "status": "completed"
    },
    "tags": []
   },
   "outputs": [],
   "source": [
    "#q4.hint()\n",
    "#q4.solution()"
   ]
  },
  {
   "cell_type": "markdown",
   "id": "423b7e5b",
   "metadata": {
    "papermill": {
     "duration": 0.01255,
     "end_time": "2023-06-08T16:55:34.304820",
     "exception": false,
     "start_time": "2023-06-08T16:55:34.292270",
     "status": "completed"
    },
    "tags": []
   },
   "source": [
    "## 5.\n",
    "\n",
    "Select the records with index labels `1`, `2`, `3`, `5`, and `8`, assigning the result to the variable `sample_reviews`.\n",
    "\n",
    "In other words, generate the following DataFrame:\n",
    "\n",
    "![](https://storage.googleapis.com/kaggle-media/learn/images/sHZvI1O.png)"
   ]
  },
  {
   "cell_type": "code",
   "execution_count": 11,
   "id": "6f761acf",
   "metadata": {
    "execution": {
     "iopub.execute_input": "2023-06-08T16:55:34.333378Z",
     "iopub.status.busy": "2023-06-08T16:55:34.332093Z",
     "iopub.status.idle": "2023-06-08T16:55:34.356119Z",
     "shell.execute_reply": "2023-06-08T16:55:34.355014Z"
    },
    "papermill": {
     "duration": 0.040694,
     "end_time": "2023-06-08T16:55:34.358485",
     "exception": false,
     "start_time": "2023-06-08T16:55:34.317791",
     "status": "completed"
    },
    "tags": []
   },
   "outputs": [
    {
     "data": {
      "application/javascript": [
       "parent.postMessage({\"jupyterEvent\": \"custom.exercise_interaction\", \"data\": {\"outcomeType\": 1, \"valueTowardsCompletion\": 0.1111111111111111, \"interactionType\": 1, \"questionType\": 1, \"questionId\": \"5_SampleReviews\", \"learnToolsVersion\": \"0.3.4\", \"failureMessage\": \"\", \"exceptionClass\": \"\", \"trace\": \"\"}}, \"*\")"
      ],
      "text/plain": [
       "<IPython.core.display.Javascript object>"
      ]
     },
     "metadata": {},
     "output_type": "display_data"
    },
    {
     "data": {
      "text/markdown": [
       "<span style=\"color:#33cc33\">Correct</span>"
      ],
      "text/plain": [
       "Correct"
      ]
     },
     "metadata": {},
     "output_type": "display_data"
    },
    {
     "data": {
      "text/html": [
       "<div>\n",
       "<style scoped>\n",
       "    .dataframe tbody tr th:only-of-type {\n",
       "        vertical-align: middle;\n",
       "    }\n",
       "\n",
       "    .dataframe tbody tr th {\n",
       "        vertical-align: top;\n",
       "    }\n",
       "\n",
       "    .dataframe thead th {\n",
       "        text-align: right;\n",
       "    }\n",
       "</style>\n",
       "<table border=\"1\" class=\"dataframe\">\n",
       "  <thead>\n",
       "    <tr style=\"text-align: right;\">\n",
       "      <th></th>\n",
       "      <th>country</th>\n",
       "      <th>description</th>\n",
       "      <th>designation</th>\n",
       "      <th>points</th>\n",
       "      <th>price</th>\n",
       "      <th>province</th>\n",
       "      <th>region_1</th>\n",
       "      <th>region_2</th>\n",
       "      <th>taster_name</th>\n",
       "      <th>taster_twitter_handle</th>\n",
       "      <th>title</th>\n",
       "      <th>variety</th>\n",
       "      <th>winery</th>\n",
       "    </tr>\n",
       "  </thead>\n",
       "  <tbody>\n",
       "    <tr>\n",
       "      <th>1</th>\n",
       "      <td>Portugal</td>\n",
       "      <td>This is ripe and fruity, a wine that is smooth...</td>\n",
       "      <td>Avidagos</td>\n",
       "      <td>87</td>\n",
       "      <td>15.0</td>\n",
       "      <td>Douro</td>\n",
       "      <td>NaN</td>\n",
       "      <td>NaN</td>\n",
       "      <td>Roger Voss</td>\n",
       "      <td>@vossroger</td>\n",
       "      <td>Quinta dos Avidagos 2011 Avidagos Red (Douro)</td>\n",
       "      <td>Portuguese Red</td>\n",
       "      <td>Quinta dos Avidagos</td>\n",
       "    </tr>\n",
       "    <tr>\n",
       "      <th>2</th>\n",
       "      <td>US</td>\n",
       "      <td>Tart and snappy, the flavors of lime flesh and...</td>\n",
       "      <td>NaN</td>\n",
       "      <td>87</td>\n",
       "      <td>14.0</td>\n",
       "      <td>Oregon</td>\n",
       "      <td>Willamette Valley</td>\n",
       "      <td>Willamette Valley</td>\n",
       "      <td>Paul Gregutt</td>\n",
       "      <td>@paulgwine</td>\n",
       "      <td>Rainstorm 2013 Pinot Gris (Willamette Valley)</td>\n",
       "      <td>Pinot Gris</td>\n",
       "      <td>Rainstorm</td>\n",
       "    </tr>\n",
       "    <tr>\n",
       "      <th>3</th>\n",
       "      <td>US</td>\n",
       "      <td>Pineapple rind, lemon pith and orange blossom ...</td>\n",
       "      <td>Reserve Late Harvest</td>\n",
       "      <td>87</td>\n",
       "      <td>13.0</td>\n",
       "      <td>Michigan</td>\n",
       "      <td>Lake Michigan Shore</td>\n",
       "      <td>NaN</td>\n",
       "      <td>Alexander Peartree</td>\n",
       "      <td>NaN</td>\n",
       "      <td>St. Julian 2013 Reserve Late Harvest Riesling ...</td>\n",
       "      <td>Riesling</td>\n",
       "      <td>St. Julian</td>\n",
       "    </tr>\n",
       "    <tr>\n",
       "      <th>5</th>\n",
       "      <td>Spain</td>\n",
       "      <td>Blackberry and raspberry aromas show a typical...</td>\n",
       "      <td>Ars In Vitro</td>\n",
       "      <td>87</td>\n",
       "      <td>15.0</td>\n",
       "      <td>Northern Spain</td>\n",
       "      <td>Navarra</td>\n",
       "      <td>NaN</td>\n",
       "      <td>Michael Schachner</td>\n",
       "      <td>@wineschach</td>\n",
       "      <td>Tandem 2011 Ars In Vitro Tempranillo-Merlot (N...</td>\n",
       "      <td>Tempranillo-Merlot</td>\n",
       "      <td>Tandem</td>\n",
       "    </tr>\n",
       "    <tr>\n",
       "      <th>8</th>\n",
       "      <td>Germany</td>\n",
       "      <td>Savory dried thyme notes accent sunnier flavor...</td>\n",
       "      <td>Shine</td>\n",
       "      <td>87</td>\n",
       "      <td>12.0</td>\n",
       "      <td>Rheinhessen</td>\n",
       "      <td>NaN</td>\n",
       "      <td>NaN</td>\n",
       "      <td>Anna Lee C. Iijima</td>\n",
       "      <td>NaN</td>\n",
       "      <td>Heinz Eifel 2013 Shine Gewürztraminer (Rheinhe...</td>\n",
       "      <td>Gewürztraminer</td>\n",
       "      <td>Heinz Eifel</td>\n",
       "    </tr>\n",
       "  </tbody>\n",
       "</table>\n",
       "</div>"
      ],
      "text/plain": [
       "    country                                        description  \\\n",
       "1  Portugal  This is ripe and fruity, a wine that is smooth...   \n",
       "2        US  Tart and snappy, the flavors of lime flesh and...   \n",
       "3        US  Pineapple rind, lemon pith and orange blossom ...   \n",
       "5     Spain  Blackberry and raspberry aromas show a typical...   \n",
       "8   Germany  Savory dried thyme notes accent sunnier flavor...   \n",
       "\n",
       "            designation  points  price        province             region_1  \\\n",
       "1              Avidagos      87   15.0           Douro                  NaN   \n",
       "2                   NaN      87   14.0          Oregon    Willamette Valley   \n",
       "3  Reserve Late Harvest      87   13.0        Michigan  Lake Michigan Shore   \n",
       "5          Ars In Vitro      87   15.0  Northern Spain              Navarra   \n",
       "8                 Shine      87   12.0     Rheinhessen                  NaN   \n",
       "\n",
       "            region_2         taster_name taster_twitter_handle  \\\n",
       "1                NaN          Roger Voss            @vossroger   \n",
       "2  Willamette Valley        Paul Gregutt           @paulgwine    \n",
       "3                NaN  Alexander Peartree                   NaN   \n",
       "5                NaN   Michael Schachner           @wineschach   \n",
       "8                NaN  Anna Lee C. Iijima                   NaN   \n",
       "\n",
       "                                               title             variety  \\\n",
       "1      Quinta dos Avidagos 2011 Avidagos Red (Douro)      Portuguese Red   \n",
       "2      Rainstorm 2013 Pinot Gris (Willamette Valley)          Pinot Gris   \n",
       "3  St. Julian 2013 Reserve Late Harvest Riesling ...            Riesling   \n",
       "5  Tandem 2011 Ars In Vitro Tempranillo-Merlot (N...  Tempranillo-Merlot   \n",
       "8  Heinz Eifel 2013 Shine Gewürztraminer (Rheinhe...      Gewürztraminer   \n",
       "\n",
       "                winery  \n",
       "1  Quinta dos Avidagos  \n",
       "2            Rainstorm  \n",
       "3           St. Julian  \n",
       "5               Tandem  \n",
       "8          Heinz Eifel  "
      ]
     },
     "execution_count": 11,
     "metadata": {},
     "output_type": "execute_result"
    }
   ],
   "source": [
    "list = [1,2,3,5,8]\n",
    "sample_reviews = reviews.iloc[list]\n",
    "\n",
    "# Check your answer\n",
    "q5.check()\n",
    "sample_reviews"
   ]
  },
  {
   "cell_type": "code",
   "execution_count": 12,
   "id": "e53b86b2",
   "metadata": {
    "execution": {
     "iopub.execute_input": "2023-06-08T16:55:34.388597Z",
     "iopub.status.busy": "2023-06-08T16:55:34.387448Z",
     "iopub.status.idle": "2023-06-08T16:55:34.392234Z",
     "shell.execute_reply": "2023-06-08T16:55:34.391492Z"
    },
    "papermill": {
     "duration": 0.022145,
     "end_time": "2023-06-08T16:55:34.394368",
     "exception": false,
     "start_time": "2023-06-08T16:55:34.372223",
     "status": "completed"
    },
    "tags": []
   },
   "outputs": [],
   "source": [
    "#q5.hint()\n",
    "#q5.solution()"
   ]
  },
  {
   "cell_type": "markdown",
   "id": "93e94201",
   "metadata": {
    "papermill": {
     "duration": 0.013585,
     "end_time": "2023-06-08T16:55:34.421654",
     "exception": false,
     "start_time": "2023-06-08T16:55:34.408069",
     "status": "completed"
    },
    "tags": []
   },
   "source": [
    "## 6.\n",
    "\n",
    "Create a variable `df` containing the `country`, `province`, `region_1`, and `region_2` columns of the records with the index labels `0`, `1`, `10`, and `100`. In other words, generate the following DataFrame:\n",
    "\n",
    "![](https://storage.googleapis.com/kaggle-media/learn/images/FUCGiKP.png)"
   ]
  },
  {
   "cell_type": "code",
   "execution_count": 13,
   "id": "9269935a",
   "metadata": {
    "execution": {
     "iopub.execute_input": "2023-06-08T16:55:34.451938Z",
     "iopub.status.busy": "2023-06-08T16:55:34.451261Z",
     "iopub.status.idle": "2023-06-08T16:55:34.478954Z",
     "shell.execute_reply": "2023-06-08T16:55:34.477811Z"
    },
    "papermill": {
     "duration": 0.045229,
     "end_time": "2023-06-08T16:55:34.481211",
     "exception": false,
     "start_time": "2023-06-08T16:55:34.435982",
     "status": "completed"
    },
    "tags": []
   },
   "outputs": [
    {
     "data": {
      "application/javascript": [
       "parent.postMessage({\"jupyterEvent\": \"custom.exercise_interaction\", \"data\": {\"outcomeType\": 1, \"valueTowardsCompletion\": 0.1111111111111111, \"interactionType\": 1, \"questionType\": 1, \"questionId\": \"6_RowColSelect\", \"learnToolsVersion\": \"0.3.4\", \"failureMessage\": \"\", \"exceptionClass\": \"\", \"trace\": \"\"}}, \"*\")"
      ],
      "text/plain": [
       "<IPython.core.display.Javascript object>"
      ]
     },
     "metadata": {},
     "output_type": "display_data"
    },
    {
     "data": {
      "text/markdown": [
       "<span style=\"color:#33cc33\">Correct</span>"
      ],
      "text/plain": [
       "Correct"
      ]
     },
     "metadata": {},
     "output_type": "display_data"
    },
    {
     "data": {
      "text/html": [
       "<div>\n",
       "<style scoped>\n",
       "    .dataframe tbody tr th:only-of-type {\n",
       "        vertical-align: middle;\n",
       "    }\n",
       "\n",
       "    .dataframe tbody tr th {\n",
       "        vertical-align: top;\n",
       "    }\n",
       "\n",
       "    .dataframe thead th {\n",
       "        text-align: right;\n",
       "    }\n",
       "</style>\n",
       "<table border=\"1\" class=\"dataframe\">\n",
       "  <thead>\n",
       "    <tr style=\"text-align: right;\">\n",
       "      <th></th>\n",
       "      <th>country</th>\n",
       "      <th>province</th>\n",
       "      <th>region_1</th>\n",
       "      <th>region_2</th>\n",
       "    </tr>\n",
       "  </thead>\n",
       "  <tbody>\n",
       "    <tr>\n",
       "      <th>0</th>\n",
       "      <td>Italy</td>\n",
       "      <td>Sicily &amp; Sardinia</td>\n",
       "      <td>Etna</td>\n",
       "      <td>NaN</td>\n",
       "    </tr>\n",
       "    <tr>\n",
       "      <th>1</th>\n",
       "      <td>Portugal</td>\n",
       "      <td>Douro</td>\n",
       "      <td>NaN</td>\n",
       "      <td>NaN</td>\n",
       "    </tr>\n",
       "    <tr>\n",
       "      <th>10</th>\n",
       "      <td>US</td>\n",
       "      <td>California</td>\n",
       "      <td>Napa Valley</td>\n",
       "      <td>Napa</td>\n",
       "    </tr>\n",
       "    <tr>\n",
       "      <th>100</th>\n",
       "      <td>US</td>\n",
       "      <td>New York</td>\n",
       "      <td>Finger Lakes</td>\n",
       "      <td>Finger Lakes</td>\n",
       "    </tr>\n",
       "  </tbody>\n",
       "</table>\n",
       "</div>"
      ],
      "text/plain": [
       "      country           province      region_1      region_2\n",
       "0       Italy  Sicily & Sardinia          Etna           NaN\n",
       "1    Portugal              Douro           NaN           NaN\n",
       "10         US         California   Napa Valley          Napa\n",
       "100        US           New York  Finger Lakes  Finger Lakes"
      ]
     },
     "execution_count": 13,
     "metadata": {},
     "output_type": "execute_result"
    }
   ],
   "source": [
    "list = ['country','province','region_1','region_2']\n",
    "index = [0,1,10,100]\n",
    "df = reviews.loc[index,list]\n",
    "\n",
    "# Check your answer\n",
    "q6.check()\n",
    "df"
   ]
  },
  {
   "cell_type": "code",
   "execution_count": 14,
   "id": "eb6d63ac",
   "metadata": {
    "execution": {
     "iopub.execute_input": "2023-06-08T16:55:34.511580Z",
     "iopub.status.busy": "2023-06-08T16:55:34.510916Z",
     "iopub.status.idle": "2023-06-08T16:55:34.515670Z",
     "shell.execute_reply": "2023-06-08T16:55:34.514511Z"
    },
    "papermill": {
     "duration": 0.022962,
     "end_time": "2023-06-08T16:55:34.518272",
     "exception": false,
     "start_time": "2023-06-08T16:55:34.495310",
     "status": "completed"
    },
    "tags": []
   },
   "outputs": [],
   "source": [
    "#q6.hint()\n",
    "#q6.solution()"
   ]
  },
  {
   "cell_type": "markdown",
   "id": "9efd5b5f",
   "metadata": {
    "papermill": {
     "duration": 0.013906,
     "end_time": "2023-06-08T16:55:34.546547",
     "exception": false,
     "start_time": "2023-06-08T16:55:34.532641",
     "status": "completed"
    },
    "tags": []
   },
   "source": [
    "## 7.\n",
    "\n",
    "Create a variable `df` containing the `country` and `variety` columns of the first 100 records. \n",
    "\n",
    "Hint: you may use `loc` or `iloc`. When working on the answer this question and the several of the ones that follow, keep the following \"gotcha\" described in the tutorial:\n",
    "\n",
    "> `iloc` uses the Python stdlib indexing scheme, where the first element of the range is included and the last one excluded. \n",
    "`loc`, meanwhile, indexes inclusively. \n",
    "\n",
    "> This is particularly confusing when the DataFrame index is a simple numerical list, e.g. `0,...,1000`. In this case `df.iloc[0:1000]` will return 1000 entries, while `df.loc[0:1000]` return 1001 of them! To get 1000 elements using `loc`, you will need to go one lower and ask for `df.iloc[0:999]`. "
   ]
  },
  {
   "cell_type": "code",
   "execution_count": 15,
   "id": "026a8af3",
   "metadata": {
    "execution": {
     "iopub.execute_input": "2023-06-08T16:55:34.576923Z",
     "iopub.status.busy": "2023-06-08T16:55:34.576528Z",
     "iopub.status.idle": "2023-06-08T16:55:34.595498Z",
     "shell.execute_reply": "2023-06-08T16:55:34.594494Z"
    },
    "papermill": {
     "duration": 0.037336,
     "end_time": "2023-06-08T16:55:34.598114",
     "exception": false,
     "start_time": "2023-06-08T16:55:34.560778",
     "status": "completed"
    },
    "tags": []
   },
   "outputs": [
    {
     "data": {
      "application/javascript": [
       "parent.postMessage({\"jupyterEvent\": \"custom.exercise_interaction\", \"data\": {\"outcomeType\": 1, \"valueTowardsCompletion\": 0.1111111111111111, \"interactionType\": 1, \"questionType\": 1, \"questionId\": \"7_RowColSelect2\", \"learnToolsVersion\": \"0.3.4\", \"failureMessage\": \"\", \"exceptionClass\": \"\", \"trace\": \"\"}}, \"*\")"
      ],
      "text/plain": [
       "<IPython.core.display.Javascript object>"
      ]
     },
     "metadata": {},
     "output_type": "display_data"
    },
    {
     "data": {
      "text/markdown": [
       "<span style=\"color:#33cc33\">Correct:</span> \n",
       "\n",
       "\n",
       "```python\n",
       "cols = ['country', 'variety']\n",
       "df = reviews.loc[:99, cols]\n",
       "```\n",
       "or \n",
       "```python\n",
       "cols_idx = [0, 11]\n",
       "df = reviews.iloc[:100, cols_idx]\n",
       "```\n"
      ],
      "text/plain": [
       "Correct: \n",
       "\n",
       "\n",
       "```python\n",
       "cols = ['country', 'variety']\n",
       "df = reviews.loc[:99, cols]\n",
       "```\n",
       "or \n",
       "```python\n",
       "cols_idx = [0, 11]\n",
       "df = reviews.iloc[:100, cols_idx]\n",
       "```"
      ]
     },
     "metadata": {},
     "output_type": "display_data"
    },
    {
     "data": {
      "text/html": [
       "<div>\n",
       "<style scoped>\n",
       "    .dataframe tbody tr th:only-of-type {\n",
       "        vertical-align: middle;\n",
       "    }\n",
       "\n",
       "    .dataframe tbody tr th {\n",
       "        vertical-align: top;\n",
       "    }\n",
       "\n",
       "    .dataframe thead th {\n",
       "        text-align: right;\n",
       "    }\n",
       "</style>\n",
       "<table border=\"1\" class=\"dataframe\">\n",
       "  <thead>\n",
       "    <tr style=\"text-align: right;\">\n",
       "      <th></th>\n",
       "      <th>country</th>\n",
       "      <th>variety</th>\n",
       "    </tr>\n",
       "  </thead>\n",
       "  <tbody>\n",
       "    <tr>\n",
       "      <th>0</th>\n",
       "      <td>Italy</td>\n",
       "      <td>White Blend</td>\n",
       "    </tr>\n",
       "    <tr>\n",
       "      <th>1</th>\n",
       "      <td>Portugal</td>\n",
       "      <td>Portuguese Red</td>\n",
       "    </tr>\n",
       "    <tr>\n",
       "      <th>...</th>\n",
       "      <td>...</td>\n",
       "      <td>...</td>\n",
       "    </tr>\n",
       "    <tr>\n",
       "      <th>98</th>\n",
       "      <td>Italy</td>\n",
       "      <td>Sangiovese</td>\n",
       "    </tr>\n",
       "    <tr>\n",
       "      <th>99</th>\n",
       "      <td>US</td>\n",
       "      <td>Bordeaux-style Red Blend</td>\n",
       "    </tr>\n",
       "  </tbody>\n",
       "</table>\n",
       "<p>100 rows × 2 columns</p>\n",
       "</div>"
      ],
      "text/plain": [
       "     country                   variety\n",
       "0      Italy               White Blend\n",
       "1   Portugal            Portuguese Red\n",
       "..       ...                       ...\n",
       "98     Italy                Sangiovese\n",
       "99        US  Bordeaux-style Red Blend\n",
       "\n",
       "[100 rows x 2 columns]"
      ]
     },
     "execution_count": 15,
     "metadata": {},
     "output_type": "execute_result"
    }
   ],
   "source": [
    "df = reviews.loc[0:99, ['country','variety']]\n",
    "\n",
    "# Check your answer\n",
    "q7.check()\n",
    "df"
   ]
  },
  {
   "cell_type": "code",
   "execution_count": 16,
   "id": "3b71f9c7",
   "metadata": {
    "execution": {
     "iopub.execute_input": "2023-06-08T16:55:34.629941Z",
     "iopub.status.busy": "2023-06-08T16:55:34.629137Z",
     "iopub.status.idle": "2023-06-08T16:55:34.634388Z",
     "shell.execute_reply": "2023-06-08T16:55:34.633303Z"
    },
    "papermill": {
     "duration": 0.023761,
     "end_time": "2023-06-08T16:55:34.636805",
     "exception": false,
     "start_time": "2023-06-08T16:55:34.613044",
     "status": "completed"
    },
    "tags": []
   },
   "outputs": [],
   "source": [
    "#q7.hint()\n",
    "#q7.solution()"
   ]
  },
  {
   "cell_type": "markdown",
   "id": "a8dddb55",
   "metadata": {
    "papermill": {
     "duration": 0.014371,
     "end_time": "2023-06-08T16:55:34.666040",
     "exception": false,
     "start_time": "2023-06-08T16:55:34.651669",
     "status": "completed"
    },
    "tags": []
   },
   "source": [
    "## 8.\n",
    "\n",
    "Create a DataFrame `italian_wines` containing reviews of wines made in `Italy`. Hint: `reviews.country` equals what?"
   ]
  },
  {
   "cell_type": "code",
   "execution_count": 17,
   "id": "6979499d",
   "metadata": {
    "execution": {
     "iopub.execute_input": "2023-06-08T16:55:34.697358Z",
     "iopub.status.busy": "2023-06-08T16:55:34.696972Z",
     "iopub.status.idle": "2023-06-08T16:55:34.735424Z",
     "shell.execute_reply": "2023-06-08T16:55:34.734415Z"
    },
    "papermill": {
     "duration": 0.057546,
     "end_time": "2023-06-08T16:55:34.738371",
     "exception": false,
     "start_time": "2023-06-08T16:55:34.680825",
     "status": "completed"
    },
    "tags": []
   },
   "outputs": [
    {
     "data": {
      "application/javascript": [
       "parent.postMessage({\"jupyterEvent\": \"custom.exercise_interaction\", \"data\": {\"outcomeType\": 1, \"valueTowardsCompletion\": 0.1111111111111111, \"interactionType\": 1, \"questionType\": 1, \"questionId\": \"8_ItalianWines\", \"learnToolsVersion\": \"0.3.4\", \"failureMessage\": \"\", \"exceptionClass\": \"\", \"trace\": \"\"}}, \"*\")"
      ],
      "text/plain": [
       "<IPython.core.display.Javascript object>"
      ]
     },
     "metadata": {},
     "output_type": "display_data"
    },
    {
     "data": {
      "text/markdown": [
       "<span style=\"color:#33cc33\">Correct</span>"
      ],
      "text/plain": [
       "Correct"
      ]
     },
     "metadata": {},
     "output_type": "display_data"
    }
   ],
   "source": [
    "italian_wines = reviews.loc[reviews.country == 'Italy']\n",
    "\n",
    "# Check your answer\n",
    "q8.check()"
   ]
  },
  {
   "cell_type": "code",
   "execution_count": 18,
   "id": "5f1dd9b4",
   "metadata": {
    "execution": {
     "iopub.execute_input": "2023-06-08T16:55:34.770763Z",
     "iopub.status.busy": "2023-06-08T16:55:34.770339Z",
     "iopub.status.idle": "2023-06-08T16:55:34.775193Z",
     "shell.execute_reply": "2023-06-08T16:55:34.774211Z"
    },
    "papermill": {
     "duration": 0.023706,
     "end_time": "2023-06-08T16:55:34.777400",
     "exception": false,
     "start_time": "2023-06-08T16:55:34.753694",
     "status": "completed"
    },
    "tags": []
   },
   "outputs": [],
   "source": [
    "#q8.hint()\n",
    "#q8.solution()"
   ]
  },
  {
   "cell_type": "markdown",
   "id": "cb92d512",
   "metadata": {
    "papermill": {
     "duration": 0.014986,
     "end_time": "2023-06-08T16:55:34.808428",
     "exception": false,
     "start_time": "2023-06-08T16:55:34.793442",
     "status": "completed"
    },
    "tags": []
   },
   "source": [
    "## 9.\n",
    "\n",
    "Create a DataFrame `top_oceania_wines` containing all reviews with at least 95 points (out of 100) for wines from Australia or New Zealand."
   ]
  },
  {
   "cell_type": "code",
   "execution_count": 19,
   "id": "f53fd18b",
   "metadata": {
    "execution": {
     "iopub.execute_input": "2023-06-08T16:55:34.841071Z",
     "iopub.status.busy": "2023-06-08T16:55:34.840678Z",
     "iopub.status.idle": "2023-06-08T16:55:34.911432Z",
     "shell.execute_reply": "2023-06-08T16:55:34.910374Z"
    },
    "papermill": {
     "duration": 0.090124,
     "end_time": "2023-06-08T16:55:34.913924",
     "exception": false,
     "start_time": "2023-06-08T16:55:34.823800",
     "status": "completed"
    },
    "tags": []
   },
   "outputs": [
    {
     "data": {
      "application/javascript": [
       "parent.postMessage({\"jupyterEvent\": \"custom.exercise_interaction\", \"data\": {\"outcomeType\": 1, \"valueTowardsCompletion\": 0.1111111111111111, \"interactionType\": 1, \"questionType\": 1, \"questionId\": \"9_TopOceanicWines\", \"learnToolsVersion\": \"0.3.4\", \"failureMessage\": \"\", \"exceptionClass\": \"\", \"trace\": \"\"}}, \"*\")"
      ],
      "text/plain": [
       "<IPython.core.display.Javascript object>"
      ]
     },
     "metadata": {},
     "output_type": "display_data"
    },
    {
     "data": {
      "text/markdown": [
       "<span style=\"color:#33cc33\">Correct</span>"
      ],
      "text/plain": [
       "Correct"
      ]
     },
     "metadata": {},
     "output_type": "display_data"
    },
    {
     "data": {
      "text/html": [
       "<div>\n",
       "<style scoped>\n",
       "    .dataframe tbody tr th:only-of-type {\n",
       "        vertical-align: middle;\n",
       "    }\n",
       "\n",
       "    .dataframe tbody tr th {\n",
       "        vertical-align: top;\n",
       "    }\n",
       "\n",
       "    .dataframe thead th {\n",
       "        text-align: right;\n",
       "    }\n",
       "</style>\n",
       "<table border=\"1\" class=\"dataframe\">\n",
       "  <thead>\n",
       "    <tr style=\"text-align: right;\">\n",
       "      <th></th>\n",
       "      <th>country</th>\n",
       "      <th>description</th>\n",
       "      <th>designation</th>\n",
       "      <th>points</th>\n",
       "      <th>price</th>\n",
       "      <th>province</th>\n",
       "      <th>region_1</th>\n",
       "      <th>region_2</th>\n",
       "      <th>taster_name</th>\n",
       "      <th>taster_twitter_handle</th>\n",
       "      <th>title</th>\n",
       "      <th>variety</th>\n",
       "      <th>winery</th>\n",
       "    </tr>\n",
       "  </thead>\n",
       "  <tbody>\n",
       "    <tr>\n",
       "      <th>345</th>\n",
       "      <td>Australia</td>\n",
       "      <td>This wine contains some material over 100 year...</td>\n",
       "      <td>Rare</td>\n",
       "      <td>100</td>\n",
       "      <td>350.0</td>\n",
       "      <td>Victoria</td>\n",
       "      <td>Rutherglen</td>\n",
       "      <td>NaN</td>\n",
       "      <td>Joe Czerwinski</td>\n",
       "      <td>@JoeCz</td>\n",
       "      <td>Chambers Rosewood Vineyards NV Rare Muscat (Ru...</td>\n",
       "      <td>Muscat</td>\n",
       "      <td>Chambers Rosewood Vineyards</td>\n",
       "    </tr>\n",
       "    <tr>\n",
       "      <th>346</th>\n",
       "      <td>Australia</td>\n",
       "      <td>This deep brown wine smells like a damp, mossy...</td>\n",
       "      <td>Rare</td>\n",
       "      <td>98</td>\n",
       "      <td>350.0</td>\n",
       "      <td>Victoria</td>\n",
       "      <td>Rutherglen</td>\n",
       "      <td>NaN</td>\n",
       "      <td>Joe Czerwinski</td>\n",
       "      <td>@JoeCz</td>\n",
       "      <td>Chambers Rosewood Vineyards NV Rare Muscadelle...</td>\n",
       "      <td>Muscadelle</td>\n",
       "      <td>Chambers Rosewood Vineyards</td>\n",
       "    </tr>\n",
       "    <tr>\n",
       "      <th>...</th>\n",
       "      <td>...</td>\n",
       "      <td>...</td>\n",
       "      <td>...</td>\n",
       "      <td>...</td>\n",
       "      <td>...</td>\n",
       "      <td>...</td>\n",
       "      <td>...</td>\n",
       "      <td>...</td>\n",
       "      <td>...</td>\n",
       "      <td>...</td>\n",
       "      <td>...</td>\n",
       "      <td>...</td>\n",
       "      <td>...</td>\n",
       "    </tr>\n",
       "    <tr>\n",
       "      <th>122507</th>\n",
       "      <td>New Zealand</td>\n",
       "      <td>This blend of Cabernet Sauvignon (62.5%), Merl...</td>\n",
       "      <td>SQM Gimblett Gravels Cabernets/Merlot</td>\n",
       "      <td>95</td>\n",
       "      <td>79.0</td>\n",
       "      <td>Hawke's Bay</td>\n",
       "      <td>NaN</td>\n",
       "      <td>NaN</td>\n",
       "      <td>Joe Czerwinski</td>\n",
       "      <td>@JoeCz</td>\n",
       "      <td>Squawking Magpie 2014 SQM Gimblett Gravels Cab...</td>\n",
       "      <td>Bordeaux-style Red Blend</td>\n",
       "      <td>Squawking Magpie</td>\n",
       "    </tr>\n",
       "    <tr>\n",
       "      <th>122939</th>\n",
       "      <td>Australia</td>\n",
       "      <td>Full-bodied and plush yet vibrant and imbued w...</td>\n",
       "      <td>The Factor</td>\n",
       "      <td>98</td>\n",
       "      <td>125.0</td>\n",
       "      <td>South Australia</td>\n",
       "      <td>Barossa Valley</td>\n",
       "      <td>NaN</td>\n",
       "      <td>Joe Czerwinski</td>\n",
       "      <td>@JoeCz</td>\n",
       "      <td>Torbreck 2013 The Factor Shiraz (Barossa Valley)</td>\n",
       "      <td>Shiraz</td>\n",
       "      <td>Torbreck</td>\n",
       "    </tr>\n",
       "  </tbody>\n",
       "</table>\n",
       "<p>49 rows × 13 columns</p>\n",
       "</div>"
      ],
      "text/plain": [
       "            country                                        description  \\\n",
       "345       Australia  This wine contains some material over 100 year...   \n",
       "346       Australia  This deep brown wine smells like a damp, mossy...   \n",
       "...             ...                                                ...   \n",
       "122507  New Zealand  This blend of Cabernet Sauvignon (62.5%), Merl...   \n",
       "122939    Australia  Full-bodied and plush yet vibrant and imbued w...   \n",
       "\n",
       "                                  designation  points  price         province  \\\n",
       "345                                      Rare     100  350.0         Victoria   \n",
       "346                                      Rare      98  350.0         Victoria   \n",
       "...                                       ...     ...    ...              ...   \n",
       "122507  SQM Gimblett Gravels Cabernets/Merlot      95   79.0      Hawke's Bay   \n",
       "122939                             The Factor      98  125.0  South Australia   \n",
       "\n",
       "              region_1 region_2     taster_name taster_twitter_handle  \\\n",
       "345         Rutherglen      NaN  Joe Czerwinski                @JoeCz   \n",
       "346         Rutherglen      NaN  Joe Czerwinski                @JoeCz   \n",
       "...                ...      ...             ...                   ...   \n",
       "122507             NaN      NaN  Joe Czerwinski                @JoeCz   \n",
       "122939  Barossa Valley      NaN  Joe Czerwinski                @JoeCz   \n",
       "\n",
       "                                                    title  \\\n",
       "345     Chambers Rosewood Vineyards NV Rare Muscat (Ru...   \n",
       "346     Chambers Rosewood Vineyards NV Rare Muscadelle...   \n",
       "...                                                   ...   \n",
       "122507  Squawking Magpie 2014 SQM Gimblett Gravels Cab...   \n",
       "122939   Torbreck 2013 The Factor Shiraz (Barossa Valley)   \n",
       "\n",
       "                         variety                       winery  \n",
       "345                       Muscat  Chambers Rosewood Vineyards  \n",
       "346                   Muscadelle  Chambers Rosewood Vineyards  \n",
       "...                          ...                          ...  \n",
       "122507  Bordeaux-style Red Blend             Squawking Magpie  \n",
       "122939                    Shiraz                     Torbreck  \n",
       "\n",
       "[49 rows x 13 columns]"
      ]
     },
     "execution_count": 19,
     "metadata": {},
     "output_type": "execute_result"
    }
   ],
   "source": [
    "top_oceania_wines = reviews.loc[((reviews.country == 'Australia') | (reviews.country == 'New Zealand'))  & (reviews.points >= 95)]\n",
    "\n",
    "# Check your answer\n",
    "q9.check()\n",
    "top_oceania_wines"
   ]
  },
  {
   "cell_type": "code",
   "execution_count": 20,
   "id": "6a3beb46",
   "metadata": {
    "execution": {
     "iopub.execute_input": "2023-06-08T16:55:34.948129Z",
     "iopub.status.busy": "2023-06-08T16:55:34.947754Z",
     "iopub.status.idle": "2023-06-08T16:55:34.951128Z",
     "shell.execute_reply": "2023-06-08T16:55:34.950401Z"
    },
    "papermill": {
     "duration": 0.023366,
     "end_time": "2023-06-08T16:55:34.953309",
     "exception": false,
     "start_time": "2023-06-08T16:55:34.929943",
     "status": "completed"
    },
    "tags": []
   },
   "outputs": [],
   "source": [
    "#q9.hint()\n",
    "#q9.solution()"
   ]
  },
  {
   "cell_type": "markdown",
   "id": "293bb612",
   "metadata": {
    "papermill": {
     "duration": 0.015592,
     "end_time": "2023-06-08T16:55:34.984878",
     "exception": false,
     "start_time": "2023-06-08T16:55:34.969286",
     "status": "completed"
    },
    "tags": []
   },
   "source": [
    "# Keep going\n",
    "\n",
    "Move on to learn about **[summary functions and maps](https://www.kaggle.com/residentmario/summary-functions-and-maps)**."
   ]
  },
  {
   "cell_type": "markdown",
   "id": "b4c47bd3",
   "metadata": {
    "papermill": {
     "duration": 0.016237,
     "end_time": "2023-06-08T16:55:35.017161",
     "exception": false,
     "start_time": "2023-06-08T16:55:35.000924",
     "status": "completed"
    },
    "tags": []
   },
   "source": [
    "---\n",
    "\n",
    "\n",
    "\n",
    "\n",
    "*Have questions or comments? Visit the [course discussion forum](https://www.kaggle.com/learn/pandas/discussion) to chat with other learners.*"
   ]
  }
 ],
 "metadata": {
  "kernelspec": {
   "display_name": "Python 3",
   "language": "python",
   "name": "python3"
  },
  "language_info": {
   "codemirror_mode": {
    "name": "ipython",
    "version": 3
   },
   "file_extension": ".py",
   "mimetype": "text/x-python",
   "name": "python",
   "nbconvert_exporter": "python",
   "pygments_lexer": "ipython3",
   "version": "3.10.10"
  },
  "papermill": {
   "default_parameters": {},
   "duration": 19.022682,
   "end_time": "2023-06-08T16:55:36.056649",
   "environment_variables": {},
   "exception": null,
   "input_path": "__notebook__.ipynb",
   "output_path": "__notebook__.ipynb",
   "parameters": {},
   "start_time": "2023-06-08T16:55:17.033967",
   "version": "2.4.0"
  }
 },
 "nbformat": 4,
 "nbformat_minor": 5
}
