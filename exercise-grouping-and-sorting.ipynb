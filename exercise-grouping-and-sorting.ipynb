{
 "cells": [
  {
   "cell_type": "markdown",
   "id": "a679eb68",
   "metadata": {
    "papermill": {
     "duration": 0.007892,
     "end_time": "2023-06-08T16:50:25.366746",
     "exception": false,
     "start_time": "2023-06-08T16:50:25.358854",
     "status": "completed"
    },
    "tags": []
   },
   "source": [
    "**This notebook is an exercise in the [Pandas](https://www.kaggle.com/learn/pandas) course.  You can reference the tutorial at [this link](https://www.kaggle.com/residentmario/grouping-and-sorting).**\n",
    "\n",
    "---\n"
   ]
  },
  {
   "cell_type": "markdown",
   "id": "a2fd1179",
   "metadata": {
    "papermill": {
     "duration": 0.007921,
     "end_time": "2023-06-08T16:50:25.382294",
     "exception": false,
     "start_time": "2023-06-08T16:50:25.374373",
     "status": "completed"
    },
    "tags": []
   },
   "source": [
    "# Introduction\n",
    "\n",
    "In these exercises we'll apply groupwise analysis to our dataset.\n",
    "\n",
    "Run the code cell below to load the data before running the exercises."
   ]
  },
  {
   "cell_type": "code",
   "execution_count": 1,
   "id": "6792d671",
   "metadata": {
    "execution": {
     "iopub.execute_input": "2023-06-08T16:50:25.399370Z",
     "iopub.status.busy": "2023-06-08T16:50:25.398834Z",
     "iopub.status.idle": "2023-06-08T16:50:28.751767Z",
     "shell.execute_reply": "2023-06-08T16:50:28.750102Z"
    },
    "papermill": {
     "duration": 3.364587,
     "end_time": "2023-06-08T16:50:28.754271",
     "exception": false,
     "start_time": "2023-06-08T16:50:25.389684",
     "status": "completed"
    },
    "tags": []
   },
   "outputs": [
    {
     "name": "stdout",
     "output_type": "stream",
     "text": [
      "Setup complete.\n"
     ]
    }
   ],
   "source": [
    "import pandas as pd\n",
    "\n",
    "reviews = pd.read_csv(\"../input/wine-reviews/winemag-data-130k-v2.csv\", index_col=0)\n",
    "pd.set_option(\"display.max_rows\", 5)\n",
    "\n",
    "from learntools.core import binder; binder.bind(globals())\n",
    "from learntools.pandas.grouping_and_sorting import *\n",
    "print(\"Setup complete.\")"
   ]
  },
  {
   "cell_type": "markdown",
   "id": "2080f66b",
   "metadata": {
    "papermill": {
     "duration": 0.007332,
     "end_time": "2023-06-08T16:50:28.769667",
     "exception": false,
     "start_time": "2023-06-08T16:50:28.762335",
     "status": "completed"
    },
    "tags": []
   },
   "source": [
    "# Exercises"
   ]
  },
  {
   "cell_type": "markdown",
   "id": "191f7eed",
   "metadata": {
    "papermill": {
     "duration": 0.009425,
     "end_time": "2023-06-08T16:50:28.789090",
     "exception": false,
     "start_time": "2023-06-08T16:50:28.779665",
     "status": "completed"
    },
    "tags": []
   },
   "source": [
    "## 1.\n",
    "Who are the most common wine reviewers in the dataset? Create a `Series` whose index is the `taster_twitter_handle` category from the dataset, and whose values count how many reviews each person wrote."
   ]
  },
  {
   "cell_type": "code",
   "execution_count": 2,
   "id": "849246e6",
   "metadata": {
    "execution": {
     "iopub.execute_input": "2023-06-08T16:50:28.807297Z",
     "iopub.status.busy": "2023-06-08T16:50:28.806868Z",
     "iopub.status.idle": "2023-06-08T16:50:28.853719Z",
     "shell.execute_reply": "2023-06-08T16:50:28.852650Z"
    },
    "papermill": {
     "duration": 0.058919,
     "end_time": "2023-06-08T16:50:28.856013",
     "exception": false,
     "start_time": "2023-06-08T16:50:28.797094",
     "status": "completed"
    },
    "tags": []
   },
   "outputs": [
    {
     "data": {
      "application/javascript": [
       "parent.postMessage({\"jupyterEvent\": \"custom.exercise_interaction\", \"data\": {\"outcomeType\": 1, \"valueTowardsCompletion\": 0.16666666666666666, \"interactionType\": 1, \"questionType\": 1, \"questionId\": \"1_ReviewsWritten\", \"learnToolsVersion\": \"0.3.4\", \"failureMessage\": \"\", \"exceptionClass\": \"\", \"trace\": \"\"}}, \"*\")"
      ],
      "text/plain": [
       "<IPython.core.display.Javascript object>"
      ]
     },
     "metadata": {},
     "output_type": "display_data"
    },
    {
     "data": {
      "text/markdown": [
       "<span style=\"color:#33cc33\">Correct:</span> \n",
       "\n",
       "\n",
       "```python\n",
       "reviews_written = reviews.groupby('taster_twitter_handle').size()\n",
       "```\n",
       "or\n",
       "```python\n",
       "reviews_written = reviews.groupby('taster_twitter_handle').taster_twitter_handle.count()\n",
       "```\n"
      ],
      "text/plain": [
       "Correct: \n",
       "\n",
       "\n",
       "```python\n",
       "reviews_written = reviews.groupby('taster_twitter_handle').size()\n",
       "```\n",
       "or\n",
       "```python\n",
       "reviews_written = reviews.groupby('taster_twitter_handle').taster_twitter_handle.count()\n",
       "```"
      ]
     },
     "metadata": {},
     "output_type": "display_data"
    }
   ],
   "source": [
    "# Your code here\n",
    "reviews_written = reviews.groupby('taster_twitter_handle').taster_twitter_handle.count()\n",
    "\n",
    "# Check your answer\n",
    "q1.check()"
   ]
  },
  {
   "cell_type": "code",
   "execution_count": 3,
   "id": "85377049",
   "metadata": {
    "execution": {
     "iopub.execute_input": "2023-06-08T16:50:28.873900Z",
     "iopub.status.busy": "2023-06-08T16:50:28.873507Z",
     "iopub.status.idle": "2023-06-08T16:50:28.877908Z",
     "shell.execute_reply": "2023-06-08T16:50:28.876840Z"
    },
    "papermill": {
     "duration": 0.01588,
     "end_time": "2023-06-08T16:50:28.880021",
     "exception": false,
     "start_time": "2023-06-08T16:50:28.864141",
     "status": "completed"
    },
    "tags": []
   },
   "outputs": [],
   "source": [
    "#q1.hint()\n",
    "#q1.solution()"
   ]
  },
  {
   "cell_type": "markdown",
   "id": "995cef5e",
   "metadata": {
    "papermill": {
     "duration": 0.007736,
     "end_time": "2023-06-08T16:50:28.895733",
     "exception": false,
     "start_time": "2023-06-08T16:50:28.887997",
     "status": "completed"
    },
    "tags": []
   },
   "source": [
    "## 2.\n",
    "What is the best wine I can buy for a given amount of money? Create a `Series` whose index is wine prices and whose values is the maximum number of points a wine costing that much was given in a review. Sort the values by price, ascending (so that `4.0` dollars is at the top and `3300.0` dollars is at the bottom)."
   ]
  },
  {
   "cell_type": "code",
   "execution_count": 4,
   "id": "e082fb78",
   "metadata": {
    "execution": {
     "iopub.execute_input": "2023-06-08T16:50:28.914410Z",
     "iopub.status.busy": "2023-06-08T16:50:28.913327Z",
     "iopub.status.idle": "2023-06-08T16:50:28.928301Z",
     "shell.execute_reply": "2023-06-08T16:50:28.927132Z"
    },
    "papermill": {
     "duration": 0.0269,
     "end_time": "2023-06-08T16:50:28.930849",
     "exception": false,
     "start_time": "2023-06-08T16:50:28.903949",
     "status": "completed"
    },
    "tags": []
   },
   "outputs": [
    {
     "data": {
      "application/javascript": [
       "parent.postMessage({\"jupyterEvent\": \"custom.exercise_interaction\", \"data\": {\"outcomeType\": 1, \"valueTowardsCompletion\": 0.16666666666666666, \"interactionType\": 1, \"questionType\": 1, \"questionId\": \"2_BestRatingPerPrice\", \"learnToolsVersion\": \"0.3.4\", \"failureMessage\": \"\", \"exceptionClass\": \"\", \"trace\": \"\"}}, \"*\")"
      ],
      "text/plain": [
       "<IPython.core.display.Javascript object>"
      ]
     },
     "metadata": {},
     "output_type": "display_data"
    },
    {
     "data": {
      "text/markdown": [
       "<span style=\"color:#33cc33\">Correct</span>"
      ],
      "text/plain": [
       "Correct"
      ]
     },
     "metadata": {},
     "output_type": "display_data"
    }
   ],
   "source": [
    "best_rating_per_price = reviews.groupby('price').points.max()\n",
    "\n",
    "# Check your answer\n",
    "q2.check()"
   ]
  },
  {
   "cell_type": "code",
   "execution_count": 5,
   "id": "925aa03b",
   "metadata": {
    "execution": {
     "iopub.execute_input": "2023-06-08T16:50:28.949598Z",
     "iopub.status.busy": "2023-06-08T16:50:28.949040Z",
     "iopub.status.idle": "2023-06-08T16:50:28.953309Z",
     "shell.execute_reply": "2023-06-08T16:50:28.952328Z"
    },
    "papermill": {
     "duration": 0.016426,
     "end_time": "2023-06-08T16:50:28.955701",
     "exception": false,
     "start_time": "2023-06-08T16:50:28.939275",
     "status": "completed"
    },
    "tags": []
   },
   "outputs": [],
   "source": [
    "#q2.hint()\n",
    "#q2.solution()"
   ]
  },
  {
   "cell_type": "markdown",
   "id": "96da6c0e",
   "metadata": {
    "papermill": {
     "duration": 0.008084,
     "end_time": "2023-06-08T16:50:28.972188",
     "exception": false,
     "start_time": "2023-06-08T16:50:28.964104",
     "status": "completed"
    },
    "tags": []
   },
   "source": [
    "## 3.\n",
    "What are the minimum and maximum prices for each `variety` of wine? Create a `DataFrame` whose index is the `variety` category from the dataset and whose values are the `min` and `max` values thereof."
   ]
  },
  {
   "cell_type": "code",
   "execution_count": 6,
   "id": "ab855cc4",
   "metadata": {
    "execution": {
     "iopub.execute_input": "2023-06-08T16:50:28.990452Z",
     "iopub.status.busy": "2023-06-08T16:50:28.990049Z",
     "iopub.status.idle": "2023-06-08T16:50:29.029714Z",
     "shell.execute_reply": "2023-06-08T16:50:29.028600Z"
    },
    "papermill": {
     "duration": 0.051734,
     "end_time": "2023-06-08T16:50:29.032163",
     "exception": false,
     "start_time": "2023-06-08T16:50:28.980429",
     "status": "completed"
    },
    "tags": []
   },
   "outputs": [
    {
     "data": {
      "application/javascript": [
       "parent.postMessage({\"jupyterEvent\": \"custom.exercise_interaction\", \"data\": {\"outcomeType\": 1, \"valueTowardsCompletion\": 0.16666666666666666, \"interactionType\": 1, \"questionType\": 1, \"questionId\": \"3_PriceExtremes\", \"learnToolsVersion\": \"0.3.4\", \"failureMessage\": \"\", \"exceptionClass\": \"\", \"trace\": \"\"}}, \"*\")"
      ],
      "text/plain": [
       "<IPython.core.display.Javascript object>"
      ]
     },
     "metadata": {},
     "output_type": "display_data"
    },
    {
     "data": {
      "text/markdown": [
       "<span style=\"color:#33cc33\">Correct</span>"
      ],
      "text/plain": [
       "Correct"
      ]
     },
     "metadata": {},
     "output_type": "display_data"
    }
   ],
   "source": [
    "price_extremes = reviews.groupby('variety').price.agg([min,max])\n",
    "# Check your answer\n",
    "q3.check()"
   ]
  },
  {
   "cell_type": "code",
   "execution_count": 7,
   "id": "f76ffa7d",
   "metadata": {
    "execution": {
     "iopub.execute_input": "2023-06-08T16:50:29.051216Z",
     "iopub.status.busy": "2023-06-08T16:50:29.050839Z",
     "iopub.status.idle": "2023-06-08T16:50:29.055723Z",
     "shell.execute_reply": "2023-06-08T16:50:29.054144Z"
    },
    "papermill": {
     "duration": 0.017541,
     "end_time": "2023-06-08T16:50:29.058210",
     "exception": false,
     "start_time": "2023-06-08T16:50:29.040669",
     "status": "completed"
    },
    "tags": []
   },
   "outputs": [],
   "source": [
    "#q3.hint()\n",
    "#q3.solution()"
   ]
  },
  {
   "cell_type": "markdown",
   "id": "62a6f64f",
   "metadata": {
    "papermill": {
     "duration": 0.008211,
     "end_time": "2023-06-08T16:50:29.075085",
     "exception": false,
     "start_time": "2023-06-08T16:50:29.066874",
     "status": "completed"
    },
    "tags": []
   },
   "source": [
    "## 4.\n",
    "What are the most expensive wine varieties? Create a variable `sorted_varieties` containing a copy of the dataframe from the previous question where varieties are sorted in descending order based on minimum price, then on maximum price (to break ties)."
   ]
  },
  {
   "cell_type": "code",
   "execution_count": 8,
   "id": "59391efe",
   "metadata": {
    "execution": {
     "iopub.execute_input": "2023-06-08T16:50:29.094029Z",
     "iopub.status.busy": "2023-06-08T16:50:29.093644Z",
     "iopub.status.idle": "2023-06-08T16:50:29.105346Z",
     "shell.execute_reply": "2023-06-08T16:50:29.104529Z"
    },
    "papermill": {
     "duration": 0.024073,
     "end_time": "2023-06-08T16:50:29.107653",
     "exception": false,
     "start_time": "2023-06-08T16:50:29.083580",
     "status": "completed"
    },
    "tags": []
   },
   "outputs": [
    {
     "data": {
      "application/javascript": [
       "parent.postMessage({\"jupyterEvent\": \"custom.exercise_interaction\", \"data\": {\"outcomeType\": 1, \"valueTowardsCompletion\": 0.16666666666666666, \"interactionType\": 1, \"questionType\": 1, \"questionId\": \"4_SortedVarieties\", \"learnToolsVersion\": \"0.3.4\", \"failureMessage\": \"\", \"exceptionClass\": \"\", \"trace\": \"\"}}, \"*\")"
      ],
      "text/plain": [
       "<IPython.core.display.Javascript object>"
      ]
     },
     "metadata": {},
     "output_type": "display_data"
    },
    {
     "data": {
      "text/markdown": [
       "<span style=\"color:#33cc33\">Correct</span>"
      ],
      "text/plain": [
       "Correct"
      ]
     },
     "metadata": {},
     "output_type": "display_data"
    }
   ],
   "source": [
    "sorted_varieties = price_extremes.sort_values(by=['min','max'],ascending=False)\n",
    "\n",
    "# Check your answer\n",
    "q4.check()"
   ]
  },
  {
   "cell_type": "code",
   "execution_count": 9,
   "id": "83194102",
   "metadata": {
    "execution": {
     "iopub.execute_input": "2023-06-08T16:50:29.127164Z",
     "iopub.status.busy": "2023-06-08T16:50:29.126784Z",
     "iopub.status.idle": "2023-06-08T16:50:29.130923Z",
     "shell.execute_reply": "2023-06-08T16:50:29.129822Z"
    },
    "papermill": {
     "duration": 0.017006,
     "end_time": "2023-06-08T16:50:29.133501",
     "exception": false,
     "start_time": "2023-06-08T16:50:29.116495",
     "status": "completed"
    },
    "tags": []
   },
   "outputs": [],
   "source": [
    "#q4.hint()\n",
    "#q4.solution()"
   ]
  },
  {
   "cell_type": "markdown",
   "id": "e0e7a92d",
   "metadata": {
    "papermill": {
     "duration": 0.0088,
     "end_time": "2023-06-08T16:50:29.152822",
     "exception": false,
     "start_time": "2023-06-08T16:50:29.144022",
     "status": "completed"
    },
    "tags": []
   },
   "source": [
    "## 5.\n",
    "Create a `Series` whose index is reviewers and whose values is the average review score given out by that reviewer. Hint: you will need the `taster_name` and `points` columns."
   ]
  },
  {
   "cell_type": "code",
   "execution_count": 10,
   "id": "87930079",
   "metadata": {
    "execution": {
     "iopub.execute_input": "2023-06-08T16:50:29.173414Z",
     "iopub.status.busy": "2023-06-08T16:50:29.172170Z",
     "iopub.status.idle": "2023-06-08T16:50:29.207332Z",
     "shell.execute_reply": "2023-06-08T16:50:29.206271Z"
    },
    "papermill": {
     "duration": 0.047829,
     "end_time": "2023-06-08T16:50:29.209602",
     "exception": false,
     "start_time": "2023-06-08T16:50:29.161773",
     "status": "completed"
    },
    "tags": []
   },
   "outputs": [
    {
     "data": {
      "application/javascript": [
       "parent.postMessage({\"jupyterEvent\": \"custom.exercise_interaction\", \"data\": {\"outcomeType\": 1, \"valueTowardsCompletion\": 0.16666666666666666, \"interactionType\": 1, \"questionType\": 1, \"questionId\": \"5_ReviewerMeanRatings\", \"learnToolsVersion\": \"0.3.4\", \"failureMessage\": \"\", \"exceptionClass\": \"\", \"trace\": \"\"}}, \"*\")"
      ],
      "text/plain": [
       "<IPython.core.display.Javascript object>"
      ]
     },
     "metadata": {},
     "output_type": "display_data"
    },
    {
     "data": {
      "text/markdown": [
       "<span style=\"color:#33cc33\">Correct</span>"
      ],
      "text/plain": [
       "Correct"
      ]
     },
     "metadata": {},
     "output_type": "display_data"
    }
   ],
   "source": [
    "reviewer_mean_ratings = reviews.groupby('taster_name').points.mean()\n",
    "\n",
    "# Check your answer\n",
    "q5.check()"
   ]
  },
  {
   "cell_type": "code",
   "execution_count": 11,
   "id": "bf35f9d2",
   "metadata": {
    "execution": {
     "iopub.execute_input": "2023-06-08T16:50:29.230280Z",
     "iopub.status.busy": "2023-06-08T16:50:29.229832Z",
     "iopub.status.idle": "2023-06-08T16:50:29.234395Z",
     "shell.execute_reply": "2023-06-08T16:50:29.233352Z"
    },
    "papermill": {
     "duration": 0.017752,
     "end_time": "2023-06-08T16:50:29.236595",
     "exception": false,
     "start_time": "2023-06-08T16:50:29.218843",
     "status": "completed"
    },
    "tags": []
   },
   "outputs": [],
   "source": [
    "#q5.hint()\n",
    "#q5.solution()"
   ]
  },
  {
   "cell_type": "markdown",
   "id": "33a9424b",
   "metadata": {
    "papermill": {
     "duration": 0.010252,
     "end_time": "2023-06-08T16:50:29.256970",
     "exception": false,
     "start_time": "2023-06-08T16:50:29.246718",
     "status": "completed"
    },
    "tags": []
   },
   "source": [
    "Are there significant differences in the average scores assigned by the various reviewers? Run the cell below to use the `describe()` method to see a summary of the range of values."
   ]
  },
  {
   "cell_type": "code",
   "execution_count": 12,
   "id": "e7413e84",
   "metadata": {
    "execution": {
     "iopub.execute_input": "2023-06-08T16:50:29.277676Z",
     "iopub.status.busy": "2023-06-08T16:50:29.276970Z",
     "iopub.status.idle": "2023-06-08T16:50:29.291292Z",
     "shell.execute_reply": "2023-06-08T16:50:29.290538Z"
    },
    "papermill": {
     "duration": 0.027329,
     "end_time": "2023-06-08T16:50:29.293544",
     "exception": false,
     "start_time": "2023-06-08T16:50:29.266215",
     "status": "completed"
    },
    "tags": []
   },
   "outputs": [
    {
     "data": {
      "text/plain": [
       "count    19.000000\n",
       "mean     88.233026\n",
       "           ...    \n",
       "75%      88.975256\n",
       "max      90.562551\n",
       "Name: points, Length: 8, dtype: float64"
      ]
     },
     "execution_count": 12,
     "metadata": {},
     "output_type": "execute_result"
    }
   ],
   "source": [
    "reviewer_mean_ratings.describe()"
   ]
  },
  {
   "cell_type": "markdown",
   "id": "4965070b",
   "metadata": {
    "papermill": {
     "duration": 0.009144,
     "end_time": "2023-06-08T16:50:29.312172",
     "exception": false,
     "start_time": "2023-06-08T16:50:29.303028",
     "status": "completed"
    },
    "tags": []
   },
   "source": [
    "## 6.\n",
    "What combination of countries and varieties are most common? Create a `Series` whose index is a `MultiIndex`of `{country, variety}` pairs. For example, a pinot noir produced in the US should map to `{\"US\", \"Pinot Noir\"}`. Sort the values in the `Series` in descending order based on wine count."
   ]
  },
  {
   "cell_type": "code",
   "execution_count": 13,
   "id": "256dfd27",
   "metadata": {
    "execution": {
     "iopub.execute_input": "2023-06-08T16:50:29.333416Z",
     "iopub.status.busy": "2023-06-08T16:50:29.332730Z",
     "iopub.status.idle": "2023-06-08T16:50:29.400553Z",
     "shell.execute_reply": "2023-06-08T16:50:29.399383Z"
    },
    "papermill": {
     "duration": 0.081636,
     "end_time": "2023-06-08T16:50:29.403246",
     "exception": false,
     "start_time": "2023-06-08T16:50:29.321610",
     "status": "completed"
    },
    "tags": []
   },
   "outputs": [
    {
     "data": {
      "application/javascript": [
       "parent.postMessage({\"jupyterEvent\": \"custom.exercise_interaction\", \"data\": {\"outcomeType\": 1, \"valueTowardsCompletion\": 0.16666666666666666, \"interactionType\": 1, \"questionType\": 1, \"questionId\": \"6_GroupbyCountryVariety\", \"learnToolsVersion\": \"0.3.4\", \"failureMessage\": \"\", \"exceptionClass\": \"\", \"trace\": \"\"}}, \"*\")"
      ],
      "text/plain": [
       "<IPython.core.display.Javascript object>"
      ]
     },
     "metadata": {},
     "output_type": "display_data"
    },
    {
     "data": {
      "text/markdown": [
       "<span style=\"color:#33cc33\">Correct</span>"
      ],
      "text/plain": [
       "Correct"
      ]
     },
     "metadata": {},
     "output_type": "display_data"
    }
   ],
   "source": [
    "country_variety_counts = reviews.groupby(['country','variety']).size().sort_values(ascending=False)\n",
    "# Check your answer\n",
    "q6.check()"
   ]
  },
  {
   "cell_type": "code",
   "execution_count": 14,
   "id": "7baa8881",
   "metadata": {
    "execution": {
     "iopub.execute_input": "2023-06-08T16:50:29.424728Z",
     "iopub.status.busy": "2023-06-08T16:50:29.424353Z",
     "iopub.status.idle": "2023-06-08T16:50:29.428767Z",
     "shell.execute_reply": "2023-06-08T16:50:29.427721Z"
    },
    "papermill": {
     "duration": 0.017864,
     "end_time": "2023-06-08T16:50:29.431104",
     "exception": false,
     "start_time": "2023-06-08T16:50:29.413240",
     "status": "completed"
    },
    "tags": []
   },
   "outputs": [],
   "source": [
    "#q6.hint()\n",
    "#q6.solution()"
   ]
  },
  {
   "cell_type": "markdown",
   "id": "d1606326",
   "metadata": {
    "papermill": {
     "duration": 0.00959,
     "end_time": "2023-06-08T16:50:29.450540",
     "exception": false,
     "start_time": "2023-06-08T16:50:29.440950",
     "status": "completed"
    },
    "tags": []
   },
   "source": [
    "# Keep going\n",
    "\n",
    "Move on to the [**data types and missing data**](https://www.kaggle.com/residentmario/data-types-and-missing-values)."
   ]
  },
  {
   "cell_type": "markdown",
   "id": "8f4a96e9",
   "metadata": {
    "papermill": {
     "duration": 0.009458,
     "end_time": "2023-06-08T16:50:29.469642",
     "exception": false,
     "start_time": "2023-06-08T16:50:29.460184",
     "status": "completed"
    },
    "tags": []
   },
   "source": [
    "---\n",
    "\n",
    "\n",
    "\n",
    "\n",
    "*Have questions or comments? Visit the [course discussion forum](https://www.kaggle.com/learn/pandas/discussion) to chat with other learners.*"
   ]
  }
 ],
 "metadata": {
  "kernelspec": {
   "display_name": "Python 3",
   "language": "python",
   "name": "python3"
  },
  "language_info": {
   "codemirror_mode": {
    "name": "ipython",
    "version": 3
   },
   "file_extension": ".py",
   "mimetype": "text/x-python",
   "name": "python",
   "nbconvert_exporter": "python",
   "pygments_lexer": "ipython3",
   "version": "3.10.10"
  },
  "papermill": {
   "default_parameters": {},
   "duration": 17.260559,
   "end_time": "2023-06-08T16:50:30.401001",
   "environment_variables": {},
   "exception": null,
   "input_path": "__notebook__.ipynb",
   "output_path": "__notebook__.ipynb",
   "parameters": {},
   "start_time": "2023-06-08T16:50:13.140442",
   "version": "2.4.0"
  }
 },
 "nbformat": 4,
 "nbformat_minor": 5
}
