{
 "cells": [
  {
   "cell_type": "markdown",
   "id": "f2b9d3b8",
   "metadata": {
    "papermill": {
     "duration": 0.007977,
     "end_time": "2023-06-08T17:01:49.082669",
     "exception": false,
     "start_time": "2023-06-08T17:01:49.074692",
     "status": "completed"
    },
    "tags": []
   },
   "source": [
    "**This notebook is an exercise in the [Pandas](https://www.kaggle.com/learn/pandas) course.  You can reference the tutorial at [this link](https://www.kaggle.com/residentmario/grouping-and-sorting).**\n",
    "\n",
    "---\n"
   ]
  },
  {
   "cell_type": "markdown",
   "id": "a83e0286",
   "metadata": {
    "papermill": {
     "duration": 0.007338,
     "end_time": "2023-06-08T17:01:49.098307",
     "exception": false,
     "start_time": "2023-06-08T17:01:49.090969",
     "status": "completed"
    },
    "tags": []
   },
   "source": [
    "# Introduction\n",
    "\n",
    "In these exercises we'll apply groupwise analysis to our dataset.\n",
    "\n",
    "Run the code cell below to load the data before running the exercises."
   ]
  },
  {
   "cell_type": "code",
   "execution_count": 1,
   "id": "e185f4a8",
   "metadata": {
    "execution": {
     "iopub.execute_input": "2023-06-08T17:01:49.115287Z",
     "iopub.status.busy": "2023-06-08T17:01:49.114897Z",
     "iopub.status.idle": "2023-06-08T17:01:52.602615Z",
     "shell.execute_reply": "2023-06-08T17:01:52.601259Z"
    },
    "papermill": {
     "duration": 3.500271,
     "end_time": "2023-06-08T17:01:52.606040",
     "exception": false,
     "start_time": "2023-06-08T17:01:49.105769",
     "status": "completed"
    },
    "tags": []
   },
   "outputs": [
    {
     "name": "stdout",
     "output_type": "stream",
     "text": [
      "Setup complete.\n"
     ]
    }
   ],
   "source": [
    "import pandas as pd\n",
    "\n",
    "reviews = pd.read_csv(\"../input/wine-reviews/winemag-data-130k-v2.csv\", index_col=0)\n",
    "pd.set_option(\"display.max_rows\", 5)\n",
    "\n",
    "from learntools.core import binder; binder.bind(globals())\n",
    "from learntools.pandas.grouping_and_sorting import *\n",
    "print(\"Setup complete.\")"
   ]
  },
  {
   "cell_type": "markdown",
   "id": "75779803",
   "metadata": {
    "papermill": {
     "duration": 0.007335,
     "end_time": "2023-06-08T17:01:52.621276",
     "exception": false,
     "start_time": "2023-06-08T17:01:52.613941",
     "status": "completed"
    },
    "tags": []
   },
   "source": [
    "# Exercises"
   ]
  },
  {
   "cell_type": "markdown",
   "id": "a4e8261c",
   "metadata": {
    "papermill": {
     "duration": 0.008888,
     "end_time": "2023-06-08T17:01:52.637836",
     "exception": false,
     "start_time": "2023-06-08T17:01:52.628948",
     "status": "completed"
    },
    "tags": []
   },
   "source": [
    "## 1.\n",
    "Who are the most common wine reviewers in the dataset? Create a `Series` whose index is the `taster_twitter_handle` category from the dataset, and whose values count how many reviews each person wrote."
   ]
  },
  {
   "cell_type": "code",
   "execution_count": 2,
   "id": "b7d41b03",
   "metadata": {
    "execution": {
     "iopub.execute_input": "2023-06-08T17:01:52.655487Z",
     "iopub.status.busy": "2023-06-08T17:01:52.655084Z",
     "iopub.status.idle": "2023-06-08T17:01:52.702521Z",
     "shell.execute_reply": "2023-06-08T17:01:52.700935Z"
    },
    "papermill": {
     "duration": 0.059779,
     "end_time": "2023-06-08T17:01:52.705236",
     "exception": false,
     "start_time": "2023-06-08T17:01:52.645457",
     "status": "completed"
    },
    "tags": []
   },
   "outputs": [
    {
     "data": {
      "application/javascript": [
       "parent.postMessage({\"jupyterEvent\": \"custom.exercise_interaction\", \"data\": {\"outcomeType\": 1, \"valueTowardsCompletion\": 0.16666666666666666, \"interactionType\": 1, \"questionType\": 1, \"questionId\": \"1_ReviewsWritten\", \"learnToolsVersion\": \"0.3.4\", \"failureMessage\": \"\", \"exceptionClass\": \"\", \"trace\": \"\"}}, \"*\")"
      ],
      "text/plain": [
       "<IPython.core.display.Javascript object>"
      ]
     },
     "metadata": {},
     "output_type": "display_data"
    },
    {
     "data": {
      "text/markdown": [
       "<span style=\"color:#33cc33\">Correct:</span> \n",
       "\n",
       "\n",
       "```python\n",
       "reviews_written = reviews.groupby('taster_twitter_handle').size()\n",
       "```\n",
       "or\n",
       "```python\n",
       "reviews_written = reviews.groupby('taster_twitter_handle').taster_twitter_handle.count()\n",
       "```\n"
      ],
      "text/plain": [
       "Correct: \n",
       "\n",
       "\n",
       "```python\n",
       "reviews_written = reviews.groupby('taster_twitter_handle').size()\n",
       "```\n",
       "or\n",
       "```python\n",
       "reviews_written = reviews.groupby('taster_twitter_handle').taster_twitter_handle.count()\n",
       "```"
      ]
     },
     "metadata": {},
     "output_type": "display_data"
    }
   ],
   "source": [
    "# Your code here\n",
    "reviews_written = reviews.groupby('taster_twitter_handle').taster_twitter_handle.count()\n",
    "\n",
    "# Check your answer\n",
    "q1.check()"
   ]
  },
  {
   "cell_type": "code",
   "execution_count": 3,
   "id": "d8f0a3c3",
   "metadata": {
    "execution": {
     "iopub.execute_input": "2023-06-08T17:01:52.723700Z",
     "iopub.status.busy": "2023-06-08T17:01:52.723266Z",
     "iopub.status.idle": "2023-06-08T17:01:52.727454Z",
     "shell.execute_reply": "2023-06-08T17:01:52.726419Z"
    },
    "papermill": {
     "duration": 0.016651,
     "end_time": "2023-06-08T17:01:52.729995",
     "exception": false,
     "start_time": "2023-06-08T17:01:52.713344",
     "status": "completed"
    },
    "tags": []
   },
   "outputs": [],
   "source": [
    "#q1.hint()\n",
    "#q1.solution()"
   ]
  },
  {
   "cell_type": "markdown",
   "id": "7b3eb40a",
   "metadata": {
    "papermill": {
     "duration": 0.007814,
     "end_time": "2023-06-08T17:01:52.746338",
     "exception": false,
     "start_time": "2023-06-08T17:01:52.738524",
     "status": "completed"
    },
    "tags": []
   },
   "source": [
    "## 2.\n",
    "What is the best wine I can buy for a given amount of money? Create a `Series` whose index is wine prices and whose values is the maximum number of points a wine costing that much was given in a review. Sort the values by price, ascending (so that `4.0` dollars is at the top and `3300.0` dollars is at the bottom)."
   ]
  },
  {
   "cell_type": "code",
   "execution_count": 4,
   "id": "6e3c2133",
   "metadata": {
    "execution": {
     "iopub.execute_input": "2023-06-08T17:01:52.764157Z",
     "iopub.status.busy": "2023-06-08T17:01:52.763693Z",
     "iopub.status.idle": "2023-06-08T17:01:52.778825Z",
     "shell.execute_reply": "2023-06-08T17:01:52.777458Z"
    },
    "papermill": {
     "duration": 0.02716,
     "end_time": "2023-06-08T17:01:52.781358",
     "exception": false,
     "start_time": "2023-06-08T17:01:52.754198",
     "status": "completed"
    },
    "tags": []
   },
   "outputs": [
    {
     "data": {
      "application/javascript": [
       "parent.postMessage({\"jupyterEvent\": \"custom.exercise_interaction\", \"data\": {\"outcomeType\": 1, \"valueTowardsCompletion\": 0.16666666666666666, \"interactionType\": 1, \"questionType\": 1, \"questionId\": \"2_BestRatingPerPrice\", \"learnToolsVersion\": \"0.3.4\", \"failureMessage\": \"\", \"exceptionClass\": \"\", \"trace\": \"\"}}, \"*\")"
      ],
      "text/plain": [
       "<IPython.core.display.Javascript object>"
      ]
     },
     "metadata": {},
     "output_type": "display_data"
    },
    {
     "data": {
      "text/markdown": [
       "<span style=\"color:#33cc33\">Correct</span>"
      ],
      "text/plain": [
       "Correct"
      ]
     },
     "metadata": {},
     "output_type": "display_data"
    }
   ],
   "source": [
    "best_rating_per_price = reviews.groupby('price').points.max()\n",
    "\n",
    "# Check your answer\n",
    "q2.check()"
   ]
  },
  {
   "cell_type": "code",
   "execution_count": 5,
   "id": "d35c1b88",
   "metadata": {
    "execution": {
     "iopub.execute_input": "2023-06-08T17:01:52.799894Z",
     "iopub.status.busy": "2023-06-08T17:01:52.799506Z",
     "iopub.status.idle": "2023-06-08T17:01:52.804365Z",
     "shell.execute_reply": "2023-06-08T17:01:52.803228Z"
    },
    "papermill": {
     "duration": 0.016835,
     "end_time": "2023-06-08T17:01:52.806635",
     "exception": false,
     "start_time": "2023-06-08T17:01:52.789800",
     "status": "completed"
    },
    "tags": []
   },
   "outputs": [],
   "source": [
    "#q2.hint()\n",
    "#q2.solution()"
   ]
  },
  {
   "cell_type": "markdown",
   "id": "1388de05",
   "metadata": {
    "papermill": {
     "duration": 0.007984,
     "end_time": "2023-06-08T17:01:52.822932",
     "exception": false,
     "start_time": "2023-06-08T17:01:52.814948",
     "status": "completed"
    },
    "tags": []
   },
   "source": [
    "## 3.\n",
    "What are the minimum and maximum prices for each `variety` of wine? Create a `DataFrame` whose index is the `variety` category from the dataset and whose values are the `min` and `max` values thereof."
   ]
  },
  {
   "cell_type": "code",
   "execution_count": 6,
   "id": "eb9c22fb",
   "metadata": {
    "execution": {
     "iopub.execute_input": "2023-06-08T17:01:52.841785Z",
     "iopub.status.busy": "2023-06-08T17:01:52.840640Z",
     "iopub.status.idle": "2023-06-08T17:01:52.881386Z",
     "shell.execute_reply": "2023-06-08T17:01:52.880264Z"
    },
    "papermill": {
     "duration": 0.052727,
     "end_time": "2023-06-08T17:01:52.883909",
     "exception": false,
     "start_time": "2023-06-08T17:01:52.831182",
     "status": "completed"
    },
    "tags": []
   },
   "outputs": [
    {
     "data": {
      "application/javascript": [
       "parent.postMessage({\"jupyterEvent\": \"custom.exercise_interaction\", \"data\": {\"outcomeType\": 1, \"valueTowardsCompletion\": 0.16666666666666666, \"interactionType\": 1, \"questionType\": 1, \"questionId\": \"3_PriceExtremes\", \"learnToolsVersion\": \"0.3.4\", \"failureMessage\": \"\", \"exceptionClass\": \"\", \"trace\": \"\"}}, \"*\")"
      ],
      "text/plain": [
       "<IPython.core.display.Javascript object>"
      ]
     },
     "metadata": {},
     "output_type": "display_data"
    },
    {
     "data": {
      "text/markdown": [
       "<span style=\"color:#33cc33\">Correct</span>"
      ],
      "text/plain": [
       "Correct"
      ]
     },
     "metadata": {},
     "output_type": "display_data"
    }
   ],
   "source": [
    "price_extremes = reviews.groupby('variety').price.agg([min,max])\n",
    "# Check your answer\n",
    "q3.check()"
   ]
  },
  {
   "cell_type": "code",
   "execution_count": 7,
   "id": "68bbb25a",
   "metadata": {
    "execution": {
     "iopub.execute_input": "2023-06-08T17:01:52.903726Z",
     "iopub.status.busy": "2023-06-08T17:01:52.902637Z",
     "iopub.status.idle": "2023-06-08T17:01:52.907527Z",
     "shell.execute_reply": "2023-06-08T17:01:52.906679Z"
    },
    "papermill": {
     "duration": 0.017878,
     "end_time": "2023-06-08T17:01:52.910340",
     "exception": false,
     "start_time": "2023-06-08T17:01:52.892462",
     "status": "completed"
    },
    "tags": []
   },
   "outputs": [],
   "source": [
    "#q3.hint()\n",
    "#q3.solution()"
   ]
  },
  {
   "cell_type": "markdown",
   "id": "24decf05",
   "metadata": {
    "papermill": {
     "duration": 0.008312,
     "end_time": "2023-06-08T17:01:52.927359",
     "exception": false,
     "start_time": "2023-06-08T17:01:52.919047",
     "status": "completed"
    },
    "tags": []
   },
   "source": [
    "## 4.\n",
    "What are the most expensive wine varieties? Create a variable `sorted_varieties` containing a copy of the dataframe from the previous question where varieties are sorted in descending order based on minimum price, then on maximum price (to break ties)."
   ]
  },
  {
   "cell_type": "code",
   "execution_count": 8,
   "id": "fa87834c",
   "metadata": {
    "execution": {
     "iopub.execute_input": "2023-06-08T17:01:52.948051Z",
     "iopub.status.busy": "2023-06-08T17:01:52.947658Z",
     "iopub.status.idle": "2023-06-08T17:01:52.958281Z",
     "shell.execute_reply": "2023-06-08T17:01:52.957398Z"
    },
    "papermill": {
     "duration": 0.023028,
     "end_time": "2023-06-08T17:01:52.960512",
     "exception": false,
     "start_time": "2023-06-08T17:01:52.937484",
     "status": "completed"
    },
    "tags": []
   },
   "outputs": [
    {
     "data": {
      "application/javascript": [
       "parent.postMessage({\"jupyterEvent\": \"custom.exercise_interaction\", \"data\": {\"outcomeType\": 1, \"valueTowardsCompletion\": 0.16666666666666666, \"interactionType\": 1, \"questionType\": 1, \"questionId\": \"4_SortedVarieties\", \"learnToolsVersion\": \"0.3.4\", \"failureMessage\": \"\", \"exceptionClass\": \"\", \"trace\": \"\"}}, \"*\")"
      ],
      "text/plain": [
       "<IPython.core.display.Javascript object>"
      ]
     },
     "metadata": {},
     "output_type": "display_data"
    },
    {
     "data": {
      "text/markdown": [
       "<span style=\"color:#33cc33\">Correct</span>"
      ],
      "text/plain": [
       "Correct"
      ]
     },
     "metadata": {},
     "output_type": "display_data"
    }
   ],
   "source": [
    "sorted_varieties = price_extremes.sort_values(by=['min','max'],ascending=False)\n",
    "\n",
    "# Check your answer\n",
    "q4.check()"
   ]
  },
  {
   "cell_type": "code",
   "execution_count": 9,
   "id": "5fd51743",
   "metadata": {
    "execution": {
     "iopub.execute_input": "2023-06-08T17:01:52.980883Z",
     "iopub.status.busy": "2023-06-08T17:01:52.980194Z",
     "iopub.status.idle": "2023-06-08T17:01:52.983900Z",
     "shell.execute_reply": "2023-06-08T17:01:52.983192Z"
    },
    "papermill": {
     "duration": 0.01667,
     "end_time": "2023-06-08T17:01:52.986120",
     "exception": false,
     "start_time": "2023-06-08T17:01:52.969450",
     "status": "completed"
    },
    "tags": []
   },
   "outputs": [],
   "source": [
    "#q4.hint()\n",
    "#q4.solution()"
   ]
  },
  {
   "cell_type": "markdown",
   "id": "a999f022",
   "metadata": {
    "papermill": {
     "duration": 0.008743,
     "end_time": "2023-06-08T17:01:53.003821",
     "exception": false,
     "start_time": "2023-06-08T17:01:52.995078",
     "status": "completed"
    },
    "tags": []
   },
   "source": [
    "## 5.\n",
    "Create a `Series` whose index is reviewers and whose values is the average review score given out by that reviewer. Hint: you will need the `taster_name` and `points` columns."
   ]
  },
  {
   "cell_type": "code",
   "execution_count": 10,
   "id": "e547bf91",
   "metadata": {
    "execution": {
     "iopub.execute_input": "2023-06-08T17:01:53.023447Z",
     "iopub.status.busy": "2023-06-08T17:01:53.022979Z",
     "iopub.status.idle": "2023-06-08T17:01:53.059435Z",
     "shell.execute_reply": "2023-06-08T17:01:53.058200Z"
    },
    "papermill": {
     "duration": 0.049116,
     "end_time": "2023-06-08T17:01:53.061820",
     "exception": false,
     "start_time": "2023-06-08T17:01:53.012704",
     "status": "completed"
    },
    "tags": []
   },
   "outputs": [
    {
     "data": {
      "application/javascript": [
       "parent.postMessage({\"jupyterEvent\": \"custom.exercise_interaction\", \"data\": {\"outcomeType\": 1, \"valueTowardsCompletion\": 0.16666666666666666, \"interactionType\": 1, \"questionType\": 1, \"questionId\": \"5_ReviewerMeanRatings\", \"learnToolsVersion\": \"0.3.4\", \"failureMessage\": \"\", \"exceptionClass\": \"\", \"trace\": \"\"}}, \"*\")"
      ],
      "text/plain": [
       "<IPython.core.display.Javascript object>"
      ]
     },
     "metadata": {},
     "output_type": "display_data"
    },
    {
     "data": {
      "text/markdown": [
       "<span style=\"color:#33cc33\">Correct</span>"
      ],
      "text/plain": [
       "Correct"
      ]
     },
     "metadata": {},
     "output_type": "display_data"
    }
   ],
   "source": [
    "reviewer_mean_ratings = reviews.groupby('taster_name').points.mean()\n",
    "\n",
    "# Check your answer\n",
    "q5.check()"
   ]
  },
  {
   "cell_type": "code",
   "execution_count": 11,
   "id": "b88d252a",
   "metadata": {
    "execution": {
     "iopub.execute_input": "2023-06-08T17:01:53.082652Z",
     "iopub.status.busy": "2023-06-08T17:01:53.081490Z",
     "iopub.status.idle": "2023-06-08T17:01:53.086050Z",
     "shell.execute_reply": "2023-06-08T17:01:53.085301Z"
    },
    "papermill": {
     "duration": 0.01737,
     "end_time": "2023-06-08T17:01:53.088294",
     "exception": false,
     "start_time": "2023-06-08T17:01:53.070924",
     "status": "completed"
    },
    "tags": []
   },
   "outputs": [],
   "source": [
    "#q5.hint()\n",
    "#q5.solution()"
   ]
  },
  {
   "cell_type": "markdown",
   "id": "0bbf9c39",
   "metadata": {
    "papermill": {
     "duration": 0.00895,
     "end_time": "2023-06-08T17:01:53.106545",
     "exception": false,
     "start_time": "2023-06-08T17:01:53.097595",
     "status": "completed"
    },
    "tags": []
   },
   "source": [
    "Are there significant differences in the average scores assigned by the various reviewers? Run the cell below to use the `describe()` method to see a summary of the range of values."
   ]
  },
  {
   "cell_type": "code",
   "execution_count": 12,
   "id": "05561d24",
   "metadata": {
    "execution": {
     "iopub.execute_input": "2023-06-08T17:01:53.127026Z",
     "iopub.status.busy": "2023-06-08T17:01:53.126622Z",
     "iopub.status.idle": "2023-06-08T17:01:53.142823Z",
     "shell.execute_reply": "2023-06-08T17:01:53.141637Z"
    },
    "papermill": {
     "duration": 0.02989,
     "end_time": "2023-06-08T17:01:53.145580",
     "exception": false,
     "start_time": "2023-06-08T17:01:53.115690",
     "status": "completed"
    },
    "tags": []
   },
   "outputs": [
    {
     "data": {
      "text/plain": [
       "count    19.000000\n",
       "mean     88.233026\n",
       "           ...    \n",
       "75%      88.975256\n",
       "max      90.562551\n",
       "Name: points, Length: 8, dtype: float64"
      ]
     },
     "execution_count": 12,
     "metadata": {},
     "output_type": "execute_result"
    }
   ],
   "source": [
    "reviewer_mean_ratings.describe()"
   ]
  },
  {
   "cell_type": "markdown",
   "id": "2d688baa",
   "metadata": {
    "papermill": {
     "duration": 0.009104,
     "end_time": "2023-06-08T17:01:53.164225",
     "exception": false,
     "start_time": "2023-06-08T17:01:53.155121",
     "status": "completed"
    },
    "tags": []
   },
   "source": [
    "## 6.\n",
    "What combination of countries and varieties are most common? Create a `Series` whose index is a `MultiIndex`of `{country, variety}` pairs. For example, a pinot noir produced in the US should map to `{\"US\", \"Pinot Noir\"}`. Sort the values in the `Series` in descending order based on wine count."
   ]
  },
  {
   "cell_type": "code",
   "execution_count": 13,
   "id": "e0133843",
   "metadata": {
    "execution": {
     "iopub.execute_input": "2023-06-08T17:01:53.184971Z",
     "iopub.status.busy": "2023-06-08T17:01:53.184542Z",
     "iopub.status.idle": "2023-06-08T17:01:53.249760Z",
     "shell.execute_reply": "2023-06-08T17:01:53.248684Z"
    },
    "papermill": {
     "duration": 0.078391,
     "end_time": "2023-06-08T17:01:53.251987",
     "exception": false,
     "start_time": "2023-06-08T17:01:53.173596",
     "status": "completed"
    },
    "tags": []
   },
   "outputs": [
    {
     "data": {
      "application/javascript": [
       "parent.postMessage({\"jupyterEvent\": \"custom.exercise_interaction\", \"data\": {\"outcomeType\": 1, \"valueTowardsCompletion\": 0.16666666666666666, \"interactionType\": 1, \"questionType\": 1, \"questionId\": \"6_GroupbyCountryVariety\", \"learnToolsVersion\": \"0.3.4\", \"failureMessage\": \"\", \"exceptionClass\": \"\", \"trace\": \"\"}}, \"*\")"
      ],
      "text/plain": [
       "<IPython.core.display.Javascript object>"
      ]
     },
     "metadata": {},
     "output_type": "display_data"
    },
    {
     "data": {
      "text/markdown": [
       "<span style=\"color:#33cc33\">Correct</span>"
      ],
      "text/plain": [
       "Correct"
      ]
     },
     "metadata": {},
     "output_type": "display_data"
    }
   ],
   "source": [
    "country_variety_counts = reviews.groupby(['country','variety']).size().sort_values(ascending=False)\n",
    "# Check your answer\n",
    "q6.check()"
   ]
  },
  {
   "cell_type": "code",
   "execution_count": 14,
   "id": "d846db57",
   "metadata": {
    "execution": {
     "iopub.execute_input": "2023-06-08T17:01:53.273857Z",
     "iopub.status.busy": "2023-06-08T17:01:53.273475Z",
     "iopub.status.idle": "2023-06-08T17:01:53.278433Z",
     "shell.execute_reply": "2023-06-08T17:01:53.277214Z"
    },
    "papermill": {
     "duration": 0.019134,
     "end_time": "2023-06-08T17:01:53.280856",
     "exception": false,
     "start_time": "2023-06-08T17:01:53.261722",
     "status": "completed"
    },
    "tags": []
   },
   "outputs": [],
   "source": [
    "#q6.hint()\n",
    "#q6.solution()"
   ]
  },
  {
   "cell_type": "markdown",
   "id": "283a81be",
   "metadata": {
    "papermill": {
     "duration": 0.00974,
     "end_time": "2023-06-08T17:01:53.300468",
     "exception": false,
     "start_time": "2023-06-08T17:01:53.290728",
     "status": "completed"
    },
    "tags": []
   },
   "source": [
    "# Keep going\n",
    "\n",
    "Move on to the [**data types and missing data**](https://www.kaggle.com/residentmario/data-types-and-missing-values)."
   ]
  },
  {
   "cell_type": "markdown",
   "id": "c634a7b3",
   "metadata": {
    "papermill": {
     "duration": 0.00938,
     "end_time": "2023-06-08T17:01:53.319770",
     "exception": false,
     "start_time": "2023-06-08T17:01:53.310390",
     "status": "completed"
    },
    "tags": []
   },
   "source": [
    "---\n",
    "\n",
    "\n",
    "\n",
    "\n",
    "*Have questions or comments? Visit the [course discussion forum](https://www.kaggle.com/learn/pandas/discussion) to chat with other learners.*"
   ]
  }
 ],
 "metadata": {
  "kernelspec": {
   "display_name": "Python 3",
   "language": "python",
   "name": "python3"
  },
  "language_info": {
   "codemirror_mode": {
    "name": "ipython",
    "version": 3
   },
   "file_extension": ".py",
   "mimetype": "text/x-python",
   "name": "python",
   "nbconvert_exporter": "python",
   "pygments_lexer": "ipython3",
   "version": "3.10.10"
  },
  "papermill": {
   "default_parameters": {},
   "duration": 18.652057,
   "end_time": "2023-06-08T17:01:54.252614",
   "environment_variables": {},
   "exception": null,
   "input_path": "__notebook__.ipynb",
   "output_path": "__notebook__.ipynb",
   "parameters": {},
   "start_time": "2023-06-08T17:01:35.600557",
   "version": "2.4.0"
  }
 },
 "nbformat": 4,
 "nbformat_minor": 5
}
