{
 "cells": [
  {
   "cell_type": "markdown",
   "id": "720d4c4e",
   "metadata": {
    "papermill": {
     "duration": 0.00656,
     "end_time": "2023-06-13T00:59:13.483938",
     "exception": false,
     "start_time": "2023-06-13T00:59:13.477378",
     "status": "completed"
    },
    "tags": []
   },
   "source": [
    "**This notebook is an exercise in the [Pandas](https://www.kaggle.com/learn/pandas) course.  You can reference the tutorial at [this link](https://www.kaggle.com/residentmario/data-types-and-missing-values).**\n",
    "\n",
    "---\n"
   ]
  },
  {
   "cell_type": "markdown",
   "id": "236fdfd2",
   "metadata": {
    "papermill": {
     "duration": 0.005055,
     "end_time": "2023-06-13T00:59:13.494628",
     "exception": false,
     "start_time": "2023-06-13T00:59:13.489573",
     "status": "completed"
    },
    "tags": []
   },
   "source": [
    "# Introduction\n",
    "\n",
    "Run the following cell to load your data and some utility functions."
   ]
  },
  {
   "cell_type": "code",
   "execution_count": 1,
   "id": "26a76f99",
   "metadata": {
    "execution": {
     "iopub.execute_input": "2023-06-13T00:59:13.507237Z",
     "iopub.status.busy": "2023-06-13T00:59:13.506826Z",
     "iopub.status.idle": "2023-06-13T00:59:16.704604Z",
     "shell.execute_reply": "2023-06-13T00:59:16.703464Z"
    },
    "papermill": {
     "duration": 3.207237,
     "end_time": "2023-06-13T00:59:16.707154",
     "exception": false,
     "start_time": "2023-06-13T00:59:13.499917",
     "status": "completed"
    },
    "tags": []
   },
   "outputs": [
    {
     "name": "stdout",
     "output_type": "stream",
     "text": [
      "Setup complete.\n"
     ]
    }
   ],
   "source": [
    "import pandas as pd\n",
    "\n",
    "reviews = pd.read_csv(\"../input/wine-reviews/winemag-data-130k-v2.csv\", index_col=0)\n",
    "\n",
    "from learntools.core import binder; binder.bind(globals())\n",
    "from learntools.pandas.data_types_and_missing_data import *\n",
    "print(\"Setup complete.\")"
   ]
  },
  {
   "cell_type": "markdown",
   "id": "c709b19d",
   "metadata": {
    "papermill": {
     "duration": 0.005407,
     "end_time": "2023-06-13T00:59:16.718742",
     "exception": false,
     "start_time": "2023-06-13T00:59:16.713335",
     "status": "completed"
    },
    "tags": []
   },
   "source": [
    "# Exercises"
   ]
  },
  {
   "cell_type": "markdown",
   "id": "df8045ba",
   "metadata": {
    "papermill": {
     "duration": 0.00538,
     "end_time": "2023-06-13T00:59:16.730145",
     "exception": false,
     "start_time": "2023-06-13T00:59:16.724765",
     "status": "completed"
    },
    "tags": []
   },
   "source": [
    "## 1. \n",
    "What is the data type of the `points` column in the dataset?"
   ]
  },
  {
   "cell_type": "code",
   "execution_count": 2,
   "id": "4a003034",
   "metadata": {
    "execution": {
     "iopub.execute_input": "2023-06-13T00:59:16.743125Z",
     "iopub.status.busy": "2023-06-13T00:59:16.742735Z",
     "iopub.status.idle": "2023-06-13T00:59:16.753592Z",
     "shell.execute_reply": "2023-06-13T00:59:16.752312Z"
    },
    "papermill": {
     "duration": 0.020252,
     "end_time": "2023-06-13T00:59:16.756061",
     "exception": false,
     "start_time": "2023-06-13T00:59:16.735809",
     "status": "completed"
    },
    "tags": []
   },
   "outputs": [
    {
     "data": {
      "application/javascript": [
       "parent.postMessage({\"jupyterEvent\": \"custom.exercise_interaction\", \"data\": {\"outcomeType\": 1, \"valueTowardsCompletion\": 0.25, \"interactionType\": 1, \"questionType\": 1, \"questionId\": \"1_PointsDtype\", \"learnToolsVersion\": \"0.3.4\", \"failureMessage\": \"\", \"exceptionClass\": \"\", \"trace\": \"\"}}, \"*\")"
      ],
      "text/plain": [
       "<IPython.core.display.Javascript object>"
      ]
     },
     "metadata": {},
     "output_type": "display_data"
    },
    {
     "data": {
      "text/markdown": [
       "<span style=\"color:#33cc33\">Correct</span>"
      ],
      "text/plain": [
       "Correct"
      ]
     },
     "metadata": {},
     "output_type": "display_data"
    }
   ],
   "source": [
    "# Your code here\n",
    "dtype = reviews.points.dtype\n",
    "\n",
    "# Check your answer\n",
    "q1.check()"
   ]
  },
  {
   "cell_type": "code",
   "execution_count": 3,
   "id": "efb0a81b",
   "metadata": {
    "execution": {
     "iopub.execute_input": "2023-06-13T00:59:16.771495Z",
     "iopub.status.busy": "2023-06-13T00:59:16.771102Z",
     "iopub.status.idle": "2023-06-13T00:59:16.776046Z",
     "shell.execute_reply": "2023-06-13T00:59:16.774884Z"
    },
    "papermill": {
     "duration": 0.01468,
     "end_time": "2023-06-13T00:59:16.778485",
     "exception": false,
     "start_time": "2023-06-13T00:59:16.763805",
     "status": "completed"
    },
    "tags": []
   },
   "outputs": [],
   "source": [
    "#q1.hint()\n",
    "#q1.solution()"
   ]
  },
  {
   "cell_type": "markdown",
   "id": "c8ec675a",
   "metadata": {
    "papermill": {
     "duration": 0.005957,
     "end_time": "2023-06-13T00:59:16.790486",
     "exception": false,
     "start_time": "2023-06-13T00:59:16.784529",
     "status": "completed"
    },
    "tags": []
   },
   "source": [
    "## 2. \n",
    "Create a Series from entries in the `points` column, but convert the entries to strings. Hint: strings are `str` in native Python."
   ]
  },
  {
   "cell_type": "code",
   "execution_count": 4,
   "id": "9667a911",
   "metadata": {
    "execution": {
     "iopub.execute_input": "2023-06-13T00:59:16.804931Z",
     "iopub.status.busy": "2023-06-13T00:59:16.803910Z",
     "iopub.status.idle": "2023-06-13T00:59:16.904604Z",
     "shell.execute_reply": "2023-06-13T00:59:16.903483Z"
    },
    "papermill": {
     "duration": 0.110509,
     "end_time": "2023-06-13T00:59:16.907150",
     "exception": false,
     "start_time": "2023-06-13T00:59:16.796641",
     "status": "completed"
    },
    "tags": []
   },
   "outputs": [
    {
     "data": {
      "application/javascript": [
       "parent.postMessage({\"jupyterEvent\": \"custom.exercise_interaction\", \"data\": {\"outcomeType\": 1, \"valueTowardsCompletion\": 0.25, \"interactionType\": 1, \"questionType\": 1, \"questionId\": \"2_StrPoints\", \"learnToolsVersion\": \"0.3.4\", \"failureMessage\": \"\", \"exceptionClass\": \"\", \"trace\": \"\"}}, \"*\")"
      ],
      "text/plain": [
       "<IPython.core.display.Javascript object>"
      ]
     },
     "metadata": {},
     "output_type": "display_data"
    },
    {
     "data": {
      "text/markdown": [
       "<span style=\"color:#33cc33\">Correct</span>"
      ],
      "text/plain": [
       "Correct"
      ]
     },
     "metadata": {},
     "output_type": "display_data"
    }
   ],
   "source": [
    "point_strings = reviews.points.astype('str')\n",
    "\n",
    "# Check your answer\n",
    "q2.check()"
   ]
  },
  {
   "cell_type": "code",
   "execution_count": 5,
   "id": "a6c1bb32",
   "metadata": {
    "execution": {
     "iopub.execute_input": "2023-06-13T00:59:16.922874Z",
     "iopub.status.busy": "2023-06-13T00:59:16.922479Z",
     "iopub.status.idle": "2023-06-13T00:59:16.928494Z",
     "shell.execute_reply": "2023-06-13T00:59:16.927506Z"
    },
    "papermill": {
     "duration": 0.017133,
     "end_time": "2023-06-13T00:59:16.931108",
     "exception": false,
     "start_time": "2023-06-13T00:59:16.913975",
     "status": "completed"
    },
    "tags": []
   },
   "outputs": [],
   "source": [
    "#q2.hint()\n",
    "#q2.solution()"
   ]
  },
  {
   "cell_type": "markdown",
   "id": "79b52531",
   "metadata": {
    "papermill": {
     "duration": 0.006111,
     "end_time": "2023-06-13T00:59:16.943903",
     "exception": false,
     "start_time": "2023-06-13T00:59:16.937792",
     "status": "completed"
    },
    "tags": []
   },
   "source": [
    "## 3.\n",
    "Sometimes the price column is null. How many reviews in the dataset are missing a price?"
   ]
  },
  {
   "cell_type": "code",
   "execution_count": 6,
   "id": "b1eb4332",
   "metadata": {
    "execution": {
     "iopub.execute_input": "2023-06-13T00:59:16.958616Z",
     "iopub.status.busy": "2023-06-13T00:59:16.958194Z",
     "iopub.status.idle": "2023-06-13T00:59:16.968563Z",
     "shell.execute_reply": "2023-06-13T00:59:16.967491Z"
    },
    "papermill": {
     "duration": 0.020665,
     "end_time": "2023-06-13T00:59:16.971043",
     "exception": false,
     "start_time": "2023-06-13T00:59:16.950378",
     "status": "completed"
    },
    "tags": []
   },
   "outputs": [
    {
     "data": {
      "application/javascript": [
       "parent.postMessage({\"jupyterEvent\": \"custom.exercise_interaction\", \"data\": {\"outcomeType\": 1, \"valueTowardsCompletion\": 0.25, \"interactionType\": 1, \"questionType\": 1, \"questionId\": \"3_CountMissingPrices\", \"learnToolsVersion\": \"0.3.4\", \"failureMessage\": \"\", \"exceptionClass\": \"\", \"trace\": \"\"}}, \"*\")"
      ],
      "text/plain": [
       "<IPython.core.display.Javascript object>"
      ]
     },
     "metadata": {},
     "output_type": "display_data"
    },
    {
     "data": {
      "text/markdown": [
       "<span style=\"color:#33cc33\">Correct</span>"
      ],
      "text/plain": [
       "Correct"
      ]
     },
     "metadata": {},
     "output_type": "display_data"
    }
   ],
   "source": [
    "n_missing_prices = pd.isnull(reviews.price).sum()\n",
    "# Check your answer\n",
    "q3.check()"
   ]
  },
  {
   "cell_type": "code",
   "execution_count": 7,
   "id": "3c6b79d0",
   "metadata": {
    "execution": {
     "iopub.execute_input": "2023-06-13T00:59:16.986468Z",
     "iopub.status.busy": "2023-06-13T00:59:16.986025Z",
     "iopub.status.idle": "2023-06-13T00:59:16.990627Z",
     "shell.execute_reply": "2023-06-13T00:59:16.989441Z"
    },
    "papermill": {
     "duration": 0.01513,
     "end_time": "2023-06-13T00:59:16.993012",
     "exception": false,
     "start_time": "2023-06-13T00:59:16.977882",
     "status": "completed"
    },
    "tags": []
   },
   "outputs": [],
   "source": [
    "#q3.hint()\n",
    "#q3.solution()"
   ]
  },
  {
   "cell_type": "markdown",
   "id": "d60cb38f",
   "metadata": {
    "papermill": {
     "duration": 0.006676,
     "end_time": "2023-06-13T00:59:17.006697",
     "exception": false,
     "start_time": "2023-06-13T00:59:17.000021",
     "status": "completed"
    },
    "tags": []
   },
   "source": [
    "## 4.\n",
    "What are the most common wine-producing regions? Create a Series counting the number of times each value occurs in the `region_1` field. This field is often missing data, so replace missing values with `Unknown`. Sort in descending order.  Your output should look something like this:\n",
    "\n",
    "```\n",
    "Unknown                    21247\n",
    "Napa Valley                 4480\n",
    "                           ...  \n",
    "Bardolino Superiore            1\n",
    "Primitivo del Tarantino        1\n",
    "Name: region_1, Length: 1230, dtype: int64\n",
    "```"
   ]
  },
  {
   "cell_type": "code",
   "execution_count": 8,
   "id": "2eb893ee",
   "metadata": {
    "execution": {
     "iopub.execute_input": "2023-06-13T00:59:17.022742Z",
     "iopub.status.busy": "2023-06-13T00:59:17.022264Z",
     "iopub.status.idle": "2023-06-13T00:59:17.104660Z",
     "shell.execute_reply": "2023-06-13T00:59:17.103506Z"
    },
    "papermill": {
     "duration": 0.093018,
     "end_time": "2023-06-13T00:59:17.107016",
     "exception": false,
     "start_time": "2023-06-13T00:59:17.013998",
     "status": "completed"
    },
    "tags": []
   },
   "outputs": [
    {
     "data": {
      "application/javascript": [
       "parent.postMessage({\"jupyterEvent\": \"custom.exercise_interaction\", \"data\": {\"outcomeType\": 1, \"valueTowardsCompletion\": 0.25, \"interactionType\": 1, \"questionType\": 2, \"questionId\": \"4_ReviewsPerRegion\", \"learnToolsVersion\": \"0.3.4\", \"failureMessage\": \"\", \"exceptionClass\": \"\", \"trace\": \"\"}}, \"*\")"
      ],
      "text/plain": [
       "<IPython.core.display.Javascript object>"
      ]
     },
     "metadata": {},
     "output_type": "display_data"
    },
    {
     "data": {
      "text/markdown": [
       "<span style=\"color:#33cc33\">Correct</span>"
      ],
      "text/plain": [
       "Correct"
      ]
     },
     "metadata": {},
     "output_type": "display_data"
    }
   ],
   "source": [
    "reviews_per_region = reviews.region_1.fillna('Unknown').value_counts().sort_values(ascending=False)\n",
    "\n",
    "# Check your answer\n",
    "q4.check()"
   ]
  },
  {
   "cell_type": "code",
   "execution_count": 9,
   "id": "c6ce81b6",
   "metadata": {
    "execution": {
     "iopub.execute_input": "2023-06-13T00:59:17.122825Z",
     "iopub.status.busy": "2023-06-13T00:59:17.122439Z",
     "iopub.status.idle": "2023-06-13T00:59:17.127132Z",
     "shell.execute_reply": "2023-06-13T00:59:17.125777Z"
    },
    "papermill": {
     "duration": 0.015657,
     "end_time": "2023-06-13T00:59:17.129655",
     "exception": false,
     "start_time": "2023-06-13T00:59:17.113998",
     "status": "completed"
    },
    "tags": []
   },
   "outputs": [],
   "source": [
    "#q4.hint()\n",
    "#q4.solution()"
   ]
  },
  {
   "cell_type": "markdown",
   "id": "168706ff",
   "metadata": {
    "papermill": {
     "duration": 0.006652,
     "end_time": "2023-06-13T00:59:17.143388",
     "exception": false,
     "start_time": "2023-06-13T00:59:17.136736",
     "status": "completed"
    },
    "tags": []
   },
   "source": [
    "# Keep going\n",
    "\n",
    "Move on to **[renaming and combining](https://www.kaggle.com/residentmario/renaming-and-combining)**."
   ]
  },
  {
   "cell_type": "markdown",
   "id": "a40a23e9",
   "metadata": {
    "papermill": {
     "duration": 0.006613,
     "end_time": "2023-06-13T00:59:17.157155",
     "exception": false,
     "start_time": "2023-06-13T00:59:17.150542",
     "status": "completed"
    },
    "tags": []
   },
   "source": [
    "---\n",
    "\n",
    "\n",
    "\n",
    "\n",
    "*Have questions or comments? Visit the [course discussion forum](https://www.kaggle.com/learn/pandas/discussion) to chat with other learners.*"
   ]
  }
 ],
 "metadata": {
  "kernelspec": {
   "display_name": "Python 3",
   "language": "python",
   "name": "python3"
  },
  "language_info": {
   "codemirror_mode": {
    "name": "ipython",
    "version": 3
   },
   "file_extension": ".py",
   "mimetype": "text/x-python",
   "name": "python",
   "nbconvert_exporter": "python",
   "pygments_lexer": "ipython3",
   "version": "3.10.10"
  },
  "papermill": {
   "default_parameters": {},
   "duration": 17.221935,
   "end_time": "2023-06-13T00:59:18.087183",
   "environment_variables": {},
   "exception": null,
   "input_path": "__notebook__.ipynb",
   "output_path": "__notebook__.ipynb",
   "parameters": {},
   "start_time": "2023-06-13T00:59:00.865248",
   "version": "2.4.0"
  }
 },
 "nbformat": 4,
 "nbformat_minor": 5
}
