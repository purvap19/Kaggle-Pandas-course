{
 "cells": [
  {
   "cell_type": "markdown",
   "id": "815c45ef",
   "metadata": {
    "papermill": {
     "duration": 0.00601,
     "end_time": "2023-06-08T17:05:22.489545",
     "exception": false,
     "start_time": "2023-06-08T17:05:22.483535",
     "status": "completed"
    },
    "tags": []
   },
   "source": [
    "**This notebook is an exercise in the [Pandas](https://www.kaggle.com/learn/pandas) course.  You can reference the tutorial at [this link](https://www.kaggle.com/residentmario/summary-functions-and-maps).**\n",
    "\n",
    "---\n"
   ]
  },
  {
   "cell_type": "markdown",
   "id": "e3f0ba8e",
   "metadata": {
    "papermill": {
     "duration": 0.005303,
     "end_time": "2023-06-08T17:05:22.501474",
     "exception": false,
     "start_time": "2023-06-08T17:05:22.496171",
     "status": "completed"
    },
    "tags": []
   },
   "source": [
    "# Introduction\n",
    "\n",
    "Now you are ready to get a deeper understanding of your data.\n",
    "\n",
    "Run the following cell to load your data and some utility functions (including code to check your answers)."
   ]
  },
  {
   "cell_type": "code",
   "execution_count": 1,
   "id": "9982fb71",
   "metadata": {
    "execution": {
     "iopub.execute_input": "2023-06-08T17:05:22.514784Z",
     "iopub.status.busy": "2023-06-08T17:05:22.514331Z",
     "iopub.status.idle": "2023-06-08T17:05:28.451200Z",
     "shell.execute_reply": "2023-06-08T17:05:28.449852Z"
    },
    "papermill": {
     "duration": 5.945682,
     "end_time": "2023-06-08T17:05:28.453442",
     "exception": false,
     "start_time": "2023-06-08T17:05:22.507760",
     "status": "completed"
    },
    "tags": []
   },
   "outputs": [
    {
     "name": "stdout",
     "output_type": "stream",
     "text": [
      "Setup complete.\n"
     ]
    },
    {
     "data": {
      "text/html": [
       "<div>\n",
       "<style scoped>\n",
       "    .dataframe tbody tr th:only-of-type {\n",
       "        vertical-align: middle;\n",
       "    }\n",
       "\n",
       "    .dataframe tbody tr th {\n",
       "        vertical-align: top;\n",
       "    }\n",
       "\n",
       "    .dataframe thead th {\n",
       "        text-align: right;\n",
       "    }\n",
       "</style>\n",
       "<table border=\"1\" class=\"dataframe\">\n",
       "  <thead>\n",
       "    <tr style=\"text-align: right;\">\n",
       "      <th></th>\n",
       "      <th>country</th>\n",
       "      <th>description</th>\n",
       "      <th>designation</th>\n",
       "      <th>points</th>\n",
       "      <th>price</th>\n",
       "      <th>province</th>\n",
       "      <th>region_1</th>\n",
       "      <th>region_2</th>\n",
       "      <th>taster_name</th>\n",
       "      <th>taster_twitter_handle</th>\n",
       "      <th>title</th>\n",
       "      <th>variety</th>\n",
       "      <th>winery</th>\n",
       "    </tr>\n",
       "  </thead>\n",
       "  <tbody>\n",
       "    <tr>\n",
       "      <th>0</th>\n",
       "      <td>Italy</td>\n",
       "      <td>Aromas include tropical fruit, broom, brimston...</td>\n",
       "      <td>Vulkà Bianco</td>\n",
       "      <td>87</td>\n",
       "      <td>NaN</td>\n",
       "      <td>Sicily &amp; Sardinia</td>\n",
       "      <td>Etna</td>\n",
       "      <td>NaN</td>\n",
       "      <td>Kerin O’Keefe</td>\n",
       "      <td>@kerinokeefe</td>\n",
       "      <td>Nicosia 2013 Vulkà Bianco  (Etna)</td>\n",
       "      <td>White Blend</td>\n",
       "      <td>Nicosia</td>\n",
       "    </tr>\n",
       "    <tr>\n",
       "      <th>1</th>\n",
       "      <td>Portugal</td>\n",
       "      <td>This is ripe and fruity, a wine that is smooth...</td>\n",
       "      <td>Avidagos</td>\n",
       "      <td>87</td>\n",
       "      <td>15.0</td>\n",
       "      <td>Douro</td>\n",
       "      <td>NaN</td>\n",
       "      <td>NaN</td>\n",
       "      <td>Roger Voss</td>\n",
       "      <td>@vossroger</td>\n",
       "      <td>Quinta dos Avidagos 2011 Avidagos Red (Douro)</td>\n",
       "      <td>Portuguese Red</td>\n",
       "      <td>Quinta dos Avidagos</td>\n",
       "    </tr>\n",
       "    <tr>\n",
       "      <th>2</th>\n",
       "      <td>US</td>\n",
       "      <td>Tart and snappy, the flavors of lime flesh and...</td>\n",
       "      <td>NaN</td>\n",
       "      <td>87</td>\n",
       "      <td>14.0</td>\n",
       "      <td>Oregon</td>\n",
       "      <td>Willamette Valley</td>\n",
       "      <td>Willamette Valley</td>\n",
       "      <td>Paul Gregutt</td>\n",
       "      <td>@paulgwine</td>\n",
       "      <td>Rainstorm 2013 Pinot Gris (Willamette Valley)</td>\n",
       "      <td>Pinot Gris</td>\n",
       "      <td>Rainstorm</td>\n",
       "    </tr>\n",
       "    <tr>\n",
       "      <th>3</th>\n",
       "      <td>US</td>\n",
       "      <td>Pineapple rind, lemon pith and orange blossom ...</td>\n",
       "      <td>Reserve Late Harvest</td>\n",
       "      <td>87</td>\n",
       "      <td>13.0</td>\n",
       "      <td>Michigan</td>\n",
       "      <td>Lake Michigan Shore</td>\n",
       "      <td>NaN</td>\n",
       "      <td>Alexander Peartree</td>\n",
       "      <td>NaN</td>\n",
       "      <td>St. Julian 2013 Reserve Late Harvest Riesling ...</td>\n",
       "      <td>Riesling</td>\n",
       "      <td>St. Julian</td>\n",
       "    </tr>\n",
       "    <tr>\n",
       "      <th>4</th>\n",
       "      <td>US</td>\n",
       "      <td>Much like the regular bottling from 2012, this...</td>\n",
       "      <td>Vintner's Reserve Wild Child Block</td>\n",
       "      <td>87</td>\n",
       "      <td>65.0</td>\n",
       "      <td>Oregon</td>\n",
       "      <td>Willamette Valley</td>\n",
       "      <td>Willamette Valley</td>\n",
       "      <td>Paul Gregutt</td>\n",
       "      <td>@paulgwine</td>\n",
       "      <td>Sweet Cheeks 2012 Vintner's Reserve Wild Child...</td>\n",
       "      <td>Pinot Noir</td>\n",
       "      <td>Sweet Cheeks</td>\n",
       "    </tr>\n",
       "  </tbody>\n",
       "</table>\n",
       "</div>"
      ],
      "text/plain": [
       "    country                                        description  \\\n",
       "0     Italy  Aromas include tropical fruit, broom, brimston...   \n",
       "1  Portugal  This is ripe and fruity, a wine that is smooth...   \n",
       "2        US  Tart and snappy, the flavors of lime flesh and...   \n",
       "3        US  Pineapple rind, lemon pith and orange blossom ...   \n",
       "4        US  Much like the regular bottling from 2012, this...   \n",
       "\n",
       "                          designation  points  price           province  \\\n",
       "0                        Vulkà Bianco      87    NaN  Sicily & Sardinia   \n",
       "1                            Avidagos      87   15.0              Douro   \n",
       "2                                 NaN      87   14.0             Oregon   \n",
       "3                Reserve Late Harvest      87   13.0           Michigan   \n",
       "4  Vintner's Reserve Wild Child Block      87   65.0             Oregon   \n",
       "\n",
       "              region_1           region_2         taster_name  \\\n",
       "0                 Etna                NaN       Kerin O’Keefe   \n",
       "1                  NaN                NaN          Roger Voss   \n",
       "2    Willamette Valley  Willamette Valley        Paul Gregutt   \n",
       "3  Lake Michigan Shore                NaN  Alexander Peartree   \n",
       "4    Willamette Valley  Willamette Valley        Paul Gregutt   \n",
       "\n",
       "  taster_twitter_handle                                              title  \\\n",
       "0          @kerinokeefe                  Nicosia 2013 Vulkà Bianco  (Etna)   \n",
       "1            @vossroger      Quinta dos Avidagos 2011 Avidagos Red (Douro)   \n",
       "2           @paulgwine       Rainstorm 2013 Pinot Gris (Willamette Valley)   \n",
       "3                   NaN  St. Julian 2013 Reserve Late Harvest Riesling ...   \n",
       "4           @paulgwine   Sweet Cheeks 2012 Vintner's Reserve Wild Child...   \n",
       "\n",
       "          variety               winery  \n",
       "0     White Blend              Nicosia  \n",
       "1  Portuguese Red  Quinta dos Avidagos  \n",
       "2      Pinot Gris            Rainstorm  \n",
       "3        Riesling           St. Julian  \n",
       "4      Pinot Noir         Sweet Cheeks  "
      ]
     },
     "execution_count": 1,
     "metadata": {},
     "output_type": "execute_result"
    }
   ],
   "source": [
    "import pandas as pd\n",
    "pd.set_option(\"display.max_rows\", 5)\n",
    "reviews = pd.read_csv(\"../input/wine-reviews/winemag-data-130k-v2.csv\", index_col=0)\n",
    "\n",
    "from learntools.core import binder; binder.bind(globals())\n",
    "from learntools.pandas.summary_functions_and_maps import *\n",
    "print(\"Setup complete.\")\n",
    "\n",
    "reviews.head()"
   ]
  },
  {
   "cell_type": "markdown",
   "id": "ee452e13",
   "metadata": {
    "papermill": {
     "duration": 0.005234,
     "end_time": "2023-06-08T17:05:28.464400",
     "exception": false,
     "start_time": "2023-06-08T17:05:28.459166",
     "status": "completed"
    },
    "tags": []
   },
   "source": [
    "# Exercises"
   ]
  },
  {
   "cell_type": "markdown",
   "id": "60fe8eda",
   "metadata": {
    "papermill": {
     "duration": 0.005376,
     "end_time": "2023-06-08T17:05:28.476699",
     "exception": false,
     "start_time": "2023-06-08T17:05:28.471323",
     "status": "completed"
    },
    "tags": []
   },
   "source": [
    "## 1.\n",
    "\n",
    "What is the median of the `points` column in the `reviews` DataFrame?"
   ]
  },
  {
   "cell_type": "code",
   "execution_count": 2,
   "id": "af5ea8de",
   "metadata": {
    "execution": {
     "iopub.execute_input": "2023-06-08T17:05:28.489443Z",
     "iopub.status.busy": "2023-06-08T17:05:28.489119Z",
     "iopub.status.idle": "2023-06-08T17:05:28.501307Z",
     "shell.execute_reply": "2023-06-08T17:05:28.500259Z"
    },
    "papermill": {
     "duration": 0.021449,
     "end_time": "2023-06-08T17:05:28.503715",
     "exception": false,
     "start_time": "2023-06-08T17:05:28.482266",
     "status": "completed"
    },
    "tags": []
   },
   "outputs": [
    {
     "data": {
      "application/javascript": [
       "parent.postMessage({\"jupyterEvent\": \"custom.exercise_interaction\", \"data\": {\"outcomeType\": 1, \"valueTowardsCompletion\": 0.14285714285714285, \"interactionType\": 1, \"questionType\": 1, \"questionId\": \"1_MedianPoints\", \"learnToolsVersion\": \"0.3.4\", \"failureMessage\": \"\", \"exceptionClass\": \"\", \"trace\": \"\"}}, \"*\")"
      ],
      "text/plain": [
       "<IPython.core.display.Javascript object>"
      ]
     },
     "metadata": {},
     "output_type": "display_data"
    },
    {
     "data": {
      "text/markdown": [
       "<span style=\"color:#33cc33\">Correct</span>"
      ],
      "text/plain": [
       "Correct"
      ]
     },
     "metadata": {},
     "output_type": "display_data"
    }
   ],
   "source": [
    "median_points = reviews.points.median()\n",
    "\n",
    "# Check your answer\n",
    "q1.check()"
   ]
  },
  {
   "cell_type": "code",
   "execution_count": 3,
   "id": "31074f27",
   "metadata": {
    "execution": {
     "iopub.execute_input": "2023-06-08T17:05:28.517440Z",
     "iopub.status.busy": "2023-06-08T17:05:28.516319Z",
     "iopub.status.idle": "2023-06-08T17:05:28.520600Z",
     "shell.execute_reply": "2023-06-08T17:05:28.519955Z"
    },
    "papermill": {
     "duration": 0.012885,
     "end_time": "2023-06-08T17:05:28.522435",
     "exception": false,
     "start_time": "2023-06-08T17:05:28.509550",
     "status": "completed"
    },
    "tags": []
   },
   "outputs": [],
   "source": [
    "#q1.hint()\n",
    "#q1.solution()"
   ]
  },
  {
   "cell_type": "markdown",
   "id": "d5702429",
   "metadata": {
    "papermill": {
     "duration": 0.005289,
     "end_time": "2023-06-08T17:05:28.533657",
     "exception": false,
     "start_time": "2023-06-08T17:05:28.528368",
     "status": "completed"
    },
    "tags": []
   },
   "source": [
    "## 2. \n",
    "What countries are represented in the dataset? (Your answer should not include any duplicates.)"
   ]
  },
  {
   "cell_type": "code",
   "execution_count": 4,
   "id": "0f3d2c14",
   "metadata": {
    "execution": {
     "iopub.execute_input": "2023-06-08T17:05:28.547227Z",
     "iopub.status.busy": "2023-06-08T17:05:28.545848Z",
     "iopub.status.idle": "2023-06-08T17:05:28.561328Z",
     "shell.execute_reply": "2023-06-08T17:05:28.560136Z"
    },
    "papermill": {
     "duration": 0.02476,
     "end_time": "2023-06-08T17:05:28.563820",
     "exception": false,
     "start_time": "2023-06-08T17:05:28.539060",
     "status": "completed"
    },
    "tags": []
   },
   "outputs": [
    {
     "data": {
      "application/javascript": [
       "parent.postMessage({\"jupyterEvent\": \"custom.exercise_interaction\", \"data\": {\"outcomeType\": 1, \"valueTowardsCompletion\": 0.14285714285714285, \"interactionType\": 1, \"questionType\": 2, \"questionId\": \"2_UniqueCountries\", \"learnToolsVersion\": \"0.3.4\", \"failureMessage\": \"\", \"exceptionClass\": \"\", \"trace\": \"\"}}, \"*\")"
      ],
      "text/plain": [
       "<IPython.core.display.Javascript object>"
      ]
     },
     "metadata": {},
     "output_type": "display_data"
    },
    {
     "data": {
      "text/markdown": [
       "<span style=\"color:#33cc33\">Correct</span>"
      ],
      "text/plain": [
       "Correct"
      ]
     },
     "metadata": {},
     "output_type": "display_data"
    }
   ],
   "source": [
    "countries = reviews.country.unique()\n",
    "\n",
    "# Check your answer\n",
    "q2.check()"
   ]
  },
  {
   "cell_type": "code",
   "execution_count": 5,
   "id": "24eb6c34",
   "metadata": {
    "execution": {
     "iopub.execute_input": "2023-06-08T17:05:28.577881Z",
     "iopub.status.busy": "2023-06-08T17:05:28.577482Z",
     "iopub.status.idle": "2023-06-08T17:05:28.582333Z",
     "shell.execute_reply": "2023-06-08T17:05:28.580727Z"
    },
    "papermill": {
     "duration": 0.014729,
     "end_time": "2023-06-08T17:05:28.584728",
     "exception": false,
     "start_time": "2023-06-08T17:05:28.569999",
     "status": "completed"
    },
    "tags": []
   },
   "outputs": [],
   "source": [
    "#q2.hint()\n",
    "#q2.solution()"
   ]
  },
  {
   "cell_type": "markdown",
   "id": "246cd81d",
   "metadata": {
    "papermill": {
     "duration": 0.005356,
     "end_time": "2023-06-08T17:05:28.596221",
     "exception": false,
     "start_time": "2023-06-08T17:05:28.590865",
     "status": "completed"
    },
    "tags": []
   },
   "source": [
    "## 3.\n",
    "How often does each country appear in the dataset? Create a Series `reviews_per_country` mapping countries to the count of reviews of wines from that country."
   ]
  },
  {
   "cell_type": "code",
   "execution_count": 6,
   "id": "3b82b33a",
   "metadata": {
    "execution": {
     "iopub.execute_input": "2023-06-08T17:05:28.609532Z",
     "iopub.status.busy": "2023-06-08T17:05:28.608927Z",
     "iopub.status.idle": "2023-06-08T17:05:28.626330Z",
     "shell.execute_reply": "2023-06-08T17:05:28.625286Z"
    },
    "papermill": {
     "duration": 0.026265,
     "end_time": "2023-06-08T17:05:28.628109",
     "exception": false,
     "start_time": "2023-06-08T17:05:28.601844",
     "status": "completed"
    },
    "tags": []
   },
   "outputs": [
    {
     "data": {
      "application/javascript": [
       "parent.postMessage({\"jupyterEvent\": \"custom.exercise_interaction\", \"data\": {\"outcomeType\": 1, \"valueTowardsCompletion\": 0.14285714285714285, \"interactionType\": 1, \"questionType\": 1, \"questionId\": \"3_ReviewsPerCountry\", \"learnToolsVersion\": \"0.3.4\", \"failureMessage\": \"\", \"exceptionClass\": \"\", \"trace\": \"\"}}, \"*\")"
      ],
      "text/plain": [
       "<IPython.core.display.Javascript object>"
      ]
     },
     "metadata": {},
     "output_type": "display_data"
    },
    {
     "data": {
      "text/markdown": [
       "<span style=\"color:#33cc33\">Correct</span>"
      ],
      "text/plain": [
       "Correct"
      ]
     },
     "metadata": {},
     "output_type": "display_data"
    }
   ],
   "source": [
    "reviews_per_country = reviews.country.value_counts()\n",
    "\n",
    "# Check your answer\n",
    "q3.check()"
   ]
  },
  {
   "cell_type": "code",
   "execution_count": 7,
   "id": "b2b5af60",
   "metadata": {
    "execution": {
     "iopub.execute_input": "2023-06-08T17:05:28.642605Z",
     "iopub.status.busy": "2023-06-08T17:05:28.642000Z",
     "iopub.status.idle": "2023-06-08T17:05:28.645979Z",
     "shell.execute_reply": "2023-06-08T17:05:28.645121Z"
    },
    "papermill": {
     "duration": 0.013247,
     "end_time": "2023-06-08T17:05:28.647707",
     "exception": false,
     "start_time": "2023-06-08T17:05:28.634460",
     "status": "completed"
    },
    "tags": []
   },
   "outputs": [],
   "source": [
    "#q3.hint()\n",
    "#q3.solution()"
   ]
  },
  {
   "cell_type": "markdown",
   "id": "ac7197ee",
   "metadata": {
    "papermill": {
     "duration": 0.005761,
     "end_time": "2023-06-08T17:05:28.659580",
     "exception": false,
     "start_time": "2023-06-08T17:05:28.653819",
     "status": "completed"
    },
    "tags": []
   },
   "source": [
    "## 4.\n",
    "Create variable `centered_price` containing a version of the `price` column with the mean price subtracted.\n",
    "\n",
    "(Note: this 'centering' transformation is a common preprocessing step before applying various machine learning algorithms.) "
   ]
  },
  {
   "cell_type": "code",
   "execution_count": 8,
   "id": "b16f688b",
   "metadata": {
    "execution": {
     "iopub.execute_input": "2023-06-08T17:05:28.674849Z",
     "iopub.status.busy": "2023-06-08T17:05:28.673353Z",
     "iopub.status.idle": "2023-06-08T17:05:28.687586Z",
     "shell.execute_reply": "2023-06-08T17:05:28.685587Z"
    },
    "papermill": {
     "duration": 0.025358,
     "end_time": "2023-06-08T17:05:28.691375",
     "exception": false,
     "start_time": "2023-06-08T17:05:28.666017",
     "status": "completed"
    },
    "tags": []
   },
   "outputs": [
    {
     "data": {
      "application/javascript": [
       "parent.postMessage({\"jupyterEvent\": \"custom.exercise_interaction\", \"data\": {\"outcomeType\": 1, \"valueTowardsCompletion\": 0.14285714285714285, \"interactionType\": 1, \"questionType\": 1, \"questionId\": \"4_CenteredPrice\", \"learnToolsVersion\": \"0.3.4\", \"failureMessage\": \"\", \"exceptionClass\": \"\", \"trace\": \"\"}}, \"*\")"
      ],
      "text/plain": [
       "<IPython.core.display.Javascript object>"
      ]
     },
     "metadata": {},
     "output_type": "display_data"
    },
    {
     "data": {
      "text/markdown": [
       "<span style=\"color:#33cc33\">Correct</span>"
      ],
      "text/plain": [
       "Correct"
      ]
     },
     "metadata": {},
     "output_type": "display_data"
    }
   ],
   "source": [
    "mean_price = reviews.price.mean()\n",
    "centered_price = reviews.price - mean_price\n",
    "# Check your answer\n",
    "q4.check()"
   ]
  },
  {
   "cell_type": "code",
   "execution_count": 9,
   "id": "e3b23410",
   "metadata": {
    "execution": {
     "iopub.execute_input": "2023-06-08T17:05:28.706888Z",
     "iopub.status.busy": "2023-06-08T17:05:28.706490Z",
     "iopub.status.idle": "2023-06-08T17:05:28.711780Z",
     "shell.execute_reply": "2023-06-08T17:05:28.710281Z"
    },
    "papermill": {
     "duration": 0.015307,
     "end_time": "2023-06-08T17:05:28.713758",
     "exception": false,
     "start_time": "2023-06-08T17:05:28.698451",
     "status": "completed"
    },
    "tags": []
   },
   "outputs": [],
   "source": [
    "#q4.hint()\n",
    "#q4.solution()"
   ]
  },
  {
   "cell_type": "markdown",
   "id": "b5095795",
   "metadata": {
    "papermill": {
     "duration": 0.006103,
     "end_time": "2023-06-08T17:05:28.726622",
     "exception": false,
     "start_time": "2023-06-08T17:05:28.720519",
     "status": "completed"
    },
    "tags": []
   },
   "source": [
    "## 5.\n",
    "I'm an economical wine buyer. Which wine is the \"best bargain\"? Create a variable `bargain_wine` with the title of the wine with the highest points-to-price ratio in the dataset."
   ]
  },
  {
   "cell_type": "code",
   "execution_count": 10,
   "id": "9acf9922",
   "metadata": {
    "execution": {
     "iopub.execute_input": "2023-06-08T17:05:28.740964Z",
     "iopub.status.busy": "2023-06-08T17:05:28.740550Z",
     "iopub.status.idle": "2023-06-08T17:05:28.754975Z",
     "shell.execute_reply": "2023-06-08T17:05:28.753840Z"
    },
    "papermill": {
     "duration": 0.02403,
     "end_time": "2023-06-08T17:05:28.756939",
     "exception": false,
     "start_time": "2023-06-08T17:05:28.732909",
     "status": "completed"
    },
    "tags": []
   },
   "outputs": [
    {
     "data": {
      "application/javascript": [
       "parent.postMessage({\"jupyterEvent\": \"custom.exercise_interaction\", \"data\": {\"outcomeType\": 1, \"valueTowardsCompletion\": 0.14285714285714285, \"interactionType\": 1, \"questionType\": 2, \"questionId\": \"5_BargainWine\", \"learnToolsVersion\": \"0.3.4\", \"failureMessage\": \"\", \"exceptionClass\": \"\", \"trace\": \"\"}}, \"*\")"
      ],
      "text/plain": [
       "<IPython.core.display.Javascript object>"
      ]
     },
     "metadata": {},
     "output_type": "display_data"
    },
    {
     "data": {
      "text/markdown": [
       "<span style=\"color:#33cc33\">Correct</span>"
      ],
      "text/plain": [
       "Correct"
      ]
     },
     "metadata": {},
     "output_type": "display_data"
    }
   ],
   "source": [
    "highest = (reviews.points/reviews.price).idxmax()\n",
    "bargain_wine = reviews.loc[highest,'title']\n",
    "\n",
    "# Check your answer\n",
    "q5.check()"
   ]
  },
  {
   "cell_type": "code",
   "execution_count": 11,
   "id": "7518ddc5",
   "metadata": {
    "execution": {
     "iopub.execute_input": "2023-06-08T17:05:28.772502Z",
     "iopub.status.busy": "2023-06-08T17:05:28.772101Z",
     "iopub.status.idle": "2023-06-08T17:05:28.777016Z",
     "shell.execute_reply": "2023-06-08T17:05:28.775880Z"
    },
    "papermill": {
     "duration": 0.014978,
     "end_time": "2023-06-08T17:05:28.778919",
     "exception": false,
     "start_time": "2023-06-08T17:05:28.763941",
     "status": "completed"
    },
    "tags": []
   },
   "outputs": [],
   "source": [
    "#q5.hint()\n",
    "#q5.solution()"
   ]
  },
  {
   "cell_type": "markdown",
   "id": "999110a8",
   "metadata": {
    "papermill": {
     "duration": 0.006595,
     "end_time": "2023-06-08T17:05:28.792483",
     "exception": false,
     "start_time": "2023-06-08T17:05:28.785888",
     "status": "completed"
    },
    "tags": []
   },
   "source": [
    "## 6.\n",
    "There are only so many words you can use when describing a bottle of wine. Is a wine more likely to be \"tropical\" or \"fruity\"? Create a Series `descriptor_counts` counting how many times each of these two words appears in the `description` column in the dataset. (For simplicity, let's ignore the capitalized versions of these words.)"
   ]
  },
  {
   "cell_type": "code",
   "execution_count": 12,
   "id": "17ee6f66",
   "metadata": {
    "execution": {
     "iopub.execute_input": "2023-06-08T17:05:28.808085Z",
     "iopub.status.busy": "2023-06-08T17:05:28.807745Z",
     "iopub.status.idle": "2023-06-08T17:05:28.921331Z",
     "shell.execute_reply": "2023-06-08T17:05:28.919508Z"
    },
    "papermill": {
     "duration": 0.124684,
     "end_time": "2023-06-08T17:05:28.924086",
     "exception": false,
     "start_time": "2023-06-08T17:05:28.799402",
     "status": "completed"
    },
    "tags": []
   },
   "outputs": [
    {
     "data": {
      "application/javascript": [
       "parent.postMessage({\"jupyterEvent\": \"custom.exercise_interaction\", \"data\": {\"outcomeType\": 1, \"valueTowardsCompletion\": 0.14285714285714285, \"interactionType\": 1, \"questionType\": 1, \"questionId\": \"6_DescriptorCounts\", \"learnToolsVersion\": \"0.3.4\", \"failureMessage\": \"\", \"exceptionClass\": \"\", \"trace\": \"\"}}, \"*\")"
      ],
      "text/plain": [
       "<IPython.core.display.Javascript object>"
      ]
     },
     "metadata": {},
     "output_type": "display_data"
    },
    {
     "data": {
      "text/markdown": [
       "<span style=\"color:#33cc33\">Correct</span>"
      ],
      "text/plain": [
       "Correct"
      ]
     },
     "metadata": {},
     "output_type": "display_data"
    }
   ],
   "source": [
    "tropical = reviews.description.map(lambda desc: \"tropical\" in desc).sum()\n",
    "fruity = reviews.description.map(lambda desc: \"fruity\" in desc).sum()\n",
    "descriptor_counts = pd.Series([tropical, fruity], index=['tropical', 'fruity'])\n",
    "\n",
    "# Check your answer\n",
    "q6.check()"
   ]
  },
  {
   "cell_type": "code",
   "execution_count": 13,
   "id": "95e73a4e",
   "metadata": {
    "execution": {
     "iopub.execute_input": "2023-06-08T17:05:28.940114Z",
     "iopub.status.busy": "2023-06-08T17:05:28.939783Z",
     "iopub.status.idle": "2023-06-08T17:05:28.944718Z",
     "shell.execute_reply": "2023-06-08T17:05:28.943367Z"
    },
    "papermill": {
     "duration": 0.015849,
     "end_time": "2023-06-08T17:05:28.947213",
     "exception": false,
     "start_time": "2023-06-08T17:05:28.931364",
     "status": "completed"
    },
    "tags": []
   },
   "outputs": [],
   "source": [
    "#q6.hint()\n",
    "#q6.solution()"
   ]
  },
  {
   "cell_type": "markdown",
   "id": "ab2ff9fb",
   "metadata": {
    "papermill": {
     "duration": 0.006717,
     "end_time": "2023-06-08T17:05:28.961063",
     "exception": false,
     "start_time": "2023-06-08T17:05:28.954346",
     "status": "completed"
    },
    "tags": []
   },
   "source": []
  },
  {
   "cell_type": "markdown",
   "id": "84f3e924",
   "metadata": {
    "papermill": {
     "duration": 0.006572,
     "end_time": "2023-06-08T17:05:28.974531",
     "exception": false,
     "start_time": "2023-06-08T17:05:28.967959",
     "status": "completed"
    },
    "tags": []
   },
   "source": [
    "## 7.\n",
    "We'd like to host these wine reviews on our website, but a rating system ranging from 80 to 100 points is too hard to understand - we'd like to translate them into simple star ratings. A score of 95 or higher counts as 3 stars, a score of at least 85 but less than 95 is 2 stars. Any other score is 1 star.\n",
    "\n",
    "Also, the Canadian Vintners Association bought a lot of ads on the site, so any wines from Canada should automatically get 3 stars, regardless of points.\n",
    "\n",
    "Create a series `star_ratings` with the number of stars corresponding to each review in the dataset."
   ]
  },
  {
   "cell_type": "code",
   "execution_count": 14,
   "id": "c0fb2502",
   "metadata": {
    "execution": {
     "iopub.execute_input": "2023-06-08T17:05:28.990541Z",
     "iopub.status.busy": "2023-06-08T17:05:28.990147Z",
     "iopub.status.idle": "2023-06-08T17:05:32.030541Z",
     "shell.execute_reply": "2023-06-08T17:05:32.029661Z"
    },
    "papermill": {
     "duration": 3.05059,
     "end_time": "2023-06-08T17:05:32.032311",
     "exception": false,
     "start_time": "2023-06-08T17:05:28.981721",
     "status": "completed"
    },
    "tags": []
   },
   "outputs": [
    {
     "data": {
      "application/javascript": [
       "parent.postMessage({\"jupyterEvent\": \"custom.exercise_interaction\", \"data\": {\"outcomeType\": 1, \"valueTowardsCompletion\": 0.14285714285714285, \"interactionType\": 1, \"questionType\": 1, \"questionId\": \"7_StarRatings\", \"learnToolsVersion\": \"0.3.4\", \"failureMessage\": \"\", \"exceptionClass\": \"\", \"trace\": \"\"}}, \"*\")"
      ],
      "text/plain": [
       "<IPython.core.display.Javascript object>"
      ]
     },
     "metadata": {},
     "output_type": "display_data"
    },
    {
     "data": {
      "text/markdown": [
       "<span style=\"color:#33cc33\">Correct</span>"
      ],
      "text/plain": [
       "Correct"
      ]
     },
     "metadata": {},
     "output_type": "display_data"
    }
   ],
   "source": [
    "def stars(row):\n",
    "    if row.country == 'Canada':\n",
    "        return 3\n",
    "    elif row.points >= 95:\n",
    "        return 3\n",
    "    elif row.points>= 85:\n",
    "        return 2\n",
    "    else:\n",
    "        return 1\n",
    "star_ratings = reviews.apply(stars,axis='columns')\n",
    "\n",
    "# Check your answer\n",
    "q7.check()"
   ]
  },
  {
   "cell_type": "code",
   "execution_count": 15,
   "id": "8ee1eb44",
   "metadata": {
    "execution": {
     "iopub.execute_input": "2023-06-08T17:05:32.047957Z",
     "iopub.status.busy": "2023-06-08T17:05:32.047609Z",
     "iopub.status.idle": "2023-06-08T17:05:32.051328Z",
     "shell.execute_reply": "2023-06-08T17:05:32.050133Z"
    },
    "papermill": {
     "duration": 0.014569,
     "end_time": "2023-06-08T17:05:32.053861",
     "exception": false,
     "start_time": "2023-06-08T17:05:32.039292",
     "status": "completed"
    },
    "tags": []
   },
   "outputs": [],
   "source": [
    "#q7.hint()\n",
    "#q7.solution()"
   ]
  },
  {
   "cell_type": "markdown",
   "id": "ae773c9f",
   "metadata": {
    "papermill": {
     "duration": 0.006699,
     "end_time": "2023-06-08T17:05:32.067874",
     "exception": false,
     "start_time": "2023-06-08T17:05:32.061175",
     "status": "completed"
    },
    "tags": []
   },
   "source": [
    "# Keep going\n",
    "Continue to **[grouping and sorting](https://www.kaggle.com/residentmario/grouping-and-sorting)**."
   ]
  },
  {
   "cell_type": "markdown",
   "id": "2cbd00bb",
   "metadata": {
    "papermill": {
     "duration": 0.00709,
     "end_time": "2023-06-08T17:05:32.081939",
     "exception": false,
     "start_time": "2023-06-08T17:05:32.074849",
     "status": "completed"
    },
    "tags": []
   },
   "source": [
    "---\n",
    "\n",
    "\n",
    "\n",
    "\n",
    "*Have questions or comments? Visit the [course discussion forum](https://www.kaggle.com/learn/pandas/discussion) to chat with other learners.*"
   ]
  }
 ],
 "metadata": {
  "kernelspec": {
   "display_name": "Python 3",
   "language": "python",
   "name": "python3"
  },
  "language_info": {
   "codemirror_mode": {
    "name": "ipython",
    "version": 3
   },
   "file_extension": ".py",
   "mimetype": "text/x-python",
   "name": "python",
   "nbconvert_exporter": "python",
   "pygments_lexer": "ipython3",
   "version": "3.10.10"
  },
  "papermill": {
   "default_parameters": {},
   "duration": 21.086013,
   "end_time": "2023-06-08T17:05:33.013005",
   "environment_variables": {},
   "exception": null,
   "input_path": "__notebook__.ipynb",
   "output_path": "__notebook__.ipynb",
   "parameters": {},
   "start_time": "2023-06-08T17:05:11.926992",
   "version": "2.4.0"
  }
 },
 "nbformat": 4,
 "nbformat_minor": 5
}
