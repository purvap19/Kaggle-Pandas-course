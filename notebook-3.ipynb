{
 "cells": [
  {
   "cell_type": "markdown",
   "id": "3b2b2e8a",
   "metadata": {
    "papermill": {
     "duration": 0.006121,
     "end_time": "2023-06-08T16:52:07.893920",
     "exception": false,
     "start_time": "2023-06-08T16:52:07.887799",
     "status": "completed"
    },
    "tags": []
   },
   "source": [
    "**This notebook is an exercise in the [Pandas](https://www.kaggle.com/learn/pandas) course.  You can reference the tutorial at [this link](https://www.kaggle.com/residentmario/summary-functions-and-maps).**\n",
    "\n",
    "---\n"
   ]
  },
  {
   "cell_type": "markdown",
   "id": "ad2eee0e",
   "metadata": {
    "papermill": {
     "duration": 0.004816,
     "end_time": "2023-06-08T16:52:07.903894",
     "exception": false,
     "start_time": "2023-06-08T16:52:07.899078",
     "status": "completed"
    },
    "tags": []
   },
   "source": [
    "# Introduction\n",
    "\n",
    "Now you are ready to get a deeper understanding of your data.\n",
    "\n",
    "Run the following cell to load your data and some utility functions (including code to check your answers)."
   ]
  },
  {
   "cell_type": "code",
   "execution_count": 1,
   "id": "d430a2e6",
   "metadata": {
    "execution": {
     "iopub.execute_input": "2023-06-08T16:52:07.916331Z",
     "iopub.status.busy": "2023-06-08T16:52:07.915653Z",
     "iopub.status.idle": "2023-06-08T16:52:13.709085Z",
     "shell.execute_reply": "2023-06-08T16:52:13.707526Z"
    },
    "papermill": {
     "duration": 5.803059,
     "end_time": "2023-06-08T16:52:13.711920",
     "exception": false,
     "start_time": "2023-06-08T16:52:07.908861",
     "status": "completed"
    },
    "tags": []
   },
   "outputs": [
    {
     "name": "stdout",
     "output_type": "stream",
     "text": [
      "Setup complete.\n"
     ]
    },
    {
     "data": {
      "text/html": [
       "<div>\n",
       "<style scoped>\n",
       "    .dataframe tbody tr th:only-of-type {\n",
       "        vertical-align: middle;\n",
       "    }\n",
       "\n",
       "    .dataframe tbody tr th {\n",
       "        vertical-align: top;\n",
       "    }\n",
       "\n",
       "    .dataframe thead th {\n",
       "        text-align: right;\n",
       "    }\n",
       "</style>\n",
       "<table border=\"1\" class=\"dataframe\">\n",
       "  <thead>\n",
       "    <tr style=\"text-align: right;\">\n",
       "      <th></th>\n",
       "      <th>country</th>\n",
       "      <th>description</th>\n",
       "      <th>designation</th>\n",
       "      <th>points</th>\n",
       "      <th>price</th>\n",
       "      <th>province</th>\n",
       "      <th>region_1</th>\n",
       "      <th>region_2</th>\n",
       "      <th>taster_name</th>\n",
       "      <th>taster_twitter_handle</th>\n",
       "      <th>title</th>\n",
       "      <th>variety</th>\n",
       "      <th>winery</th>\n",
       "    </tr>\n",
       "  </thead>\n",
       "  <tbody>\n",
       "    <tr>\n",
       "      <th>0</th>\n",
       "      <td>Italy</td>\n",
       "      <td>Aromas include tropical fruit, broom, brimston...</td>\n",
       "      <td>Vulkà Bianco</td>\n",
       "      <td>87</td>\n",
       "      <td>NaN</td>\n",
       "      <td>Sicily &amp; Sardinia</td>\n",
       "      <td>Etna</td>\n",
       "      <td>NaN</td>\n",
       "      <td>Kerin O’Keefe</td>\n",
       "      <td>@kerinokeefe</td>\n",
       "      <td>Nicosia 2013 Vulkà Bianco  (Etna)</td>\n",
       "      <td>White Blend</td>\n",
       "      <td>Nicosia</td>\n",
       "    </tr>\n",
       "    <tr>\n",
       "      <th>1</th>\n",
       "      <td>Portugal</td>\n",
       "      <td>This is ripe and fruity, a wine that is smooth...</td>\n",
       "      <td>Avidagos</td>\n",
       "      <td>87</td>\n",
       "      <td>15.0</td>\n",
       "      <td>Douro</td>\n",
       "      <td>NaN</td>\n",
       "      <td>NaN</td>\n",
       "      <td>Roger Voss</td>\n",
       "      <td>@vossroger</td>\n",
       "      <td>Quinta dos Avidagos 2011 Avidagos Red (Douro)</td>\n",
       "      <td>Portuguese Red</td>\n",
       "      <td>Quinta dos Avidagos</td>\n",
       "    </tr>\n",
       "    <tr>\n",
       "      <th>2</th>\n",
       "      <td>US</td>\n",
       "      <td>Tart and snappy, the flavors of lime flesh and...</td>\n",
       "      <td>NaN</td>\n",
       "      <td>87</td>\n",
       "      <td>14.0</td>\n",
       "      <td>Oregon</td>\n",
       "      <td>Willamette Valley</td>\n",
       "      <td>Willamette Valley</td>\n",
       "      <td>Paul Gregutt</td>\n",
       "      <td>@paulgwine</td>\n",
       "      <td>Rainstorm 2013 Pinot Gris (Willamette Valley)</td>\n",
       "      <td>Pinot Gris</td>\n",
       "      <td>Rainstorm</td>\n",
       "    </tr>\n",
       "    <tr>\n",
       "      <th>3</th>\n",
       "      <td>US</td>\n",
       "      <td>Pineapple rind, lemon pith and orange blossom ...</td>\n",
       "      <td>Reserve Late Harvest</td>\n",
       "      <td>87</td>\n",
       "      <td>13.0</td>\n",
       "      <td>Michigan</td>\n",
       "      <td>Lake Michigan Shore</td>\n",
       "      <td>NaN</td>\n",
       "      <td>Alexander Peartree</td>\n",
       "      <td>NaN</td>\n",
       "      <td>St. Julian 2013 Reserve Late Harvest Riesling ...</td>\n",
       "      <td>Riesling</td>\n",
       "      <td>St. Julian</td>\n",
       "    </tr>\n",
       "    <tr>\n",
       "      <th>4</th>\n",
       "      <td>US</td>\n",
       "      <td>Much like the regular bottling from 2012, this...</td>\n",
       "      <td>Vintner's Reserve Wild Child Block</td>\n",
       "      <td>87</td>\n",
       "      <td>65.0</td>\n",
       "      <td>Oregon</td>\n",
       "      <td>Willamette Valley</td>\n",
       "      <td>Willamette Valley</td>\n",
       "      <td>Paul Gregutt</td>\n",
       "      <td>@paulgwine</td>\n",
       "      <td>Sweet Cheeks 2012 Vintner's Reserve Wild Child...</td>\n",
       "      <td>Pinot Noir</td>\n",
       "      <td>Sweet Cheeks</td>\n",
       "    </tr>\n",
       "  </tbody>\n",
       "</table>\n",
       "</div>"
      ],
      "text/plain": [
       "    country                                        description  \\\n",
       "0     Italy  Aromas include tropical fruit, broom, brimston...   \n",
       "1  Portugal  This is ripe and fruity, a wine that is smooth...   \n",
       "2        US  Tart and snappy, the flavors of lime flesh and...   \n",
       "3        US  Pineapple rind, lemon pith and orange blossom ...   \n",
       "4        US  Much like the regular bottling from 2012, this...   \n",
       "\n",
       "                          designation  points  price           province  \\\n",
       "0                        Vulkà Bianco      87    NaN  Sicily & Sardinia   \n",
       "1                            Avidagos      87   15.0              Douro   \n",
       "2                                 NaN      87   14.0             Oregon   \n",
       "3                Reserve Late Harvest      87   13.0           Michigan   \n",
       "4  Vintner's Reserve Wild Child Block      87   65.0             Oregon   \n",
       "\n",
       "              region_1           region_2         taster_name  \\\n",
       "0                 Etna                NaN       Kerin O’Keefe   \n",
       "1                  NaN                NaN          Roger Voss   \n",
       "2    Willamette Valley  Willamette Valley        Paul Gregutt   \n",
       "3  Lake Michigan Shore                NaN  Alexander Peartree   \n",
       "4    Willamette Valley  Willamette Valley        Paul Gregutt   \n",
       "\n",
       "  taster_twitter_handle                                              title  \\\n",
       "0          @kerinokeefe                  Nicosia 2013 Vulkà Bianco  (Etna)   \n",
       "1            @vossroger      Quinta dos Avidagos 2011 Avidagos Red (Douro)   \n",
       "2           @paulgwine       Rainstorm 2013 Pinot Gris (Willamette Valley)   \n",
       "3                   NaN  St. Julian 2013 Reserve Late Harvest Riesling ...   \n",
       "4           @paulgwine   Sweet Cheeks 2012 Vintner's Reserve Wild Child...   \n",
       "\n",
       "          variety               winery  \n",
       "0     White Blend              Nicosia  \n",
       "1  Portuguese Red  Quinta dos Avidagos  \n",
       "2      Pinot Gris            Rainstorm  \n",
       "3        Riesling           St. Julian  \n",
       "4      Pinot Noir         Sweet Cheeks  "
      ]
     },
     "execution_count": 1,
     "metadata": {},
     "output_type": "execute_result"
    }
   ],
   "source": [
    "import pandas as pd\n",
    "pd.set_option(\"display.max_rows\", 5)\n",
    "reviews = pd.read_csv(\"../input/wine-reviews/winemag-data-130k-v2.csv\", index_col=0)\n",
    "\n",
    "from learntools.core import binder; binder.bind(globals())\n",
    "from learntools.pandas.summary_functions_and_maps import *\n",
    "print(\"Setup complete.\")\n",
    "\n",
    "reviews.head()"
   ]
  },
  {
   "cell_type": "markdown",
   "id": "51193d76",
   "metadata": {
    "papermill": {
     "duration": 0.005438,
     "end_time": "2023-06-08T16:52:13.723457",
     "exception": false,
     "start_time": "2023-06-08T16:52:13.718019",
     "status": "completed"
    },
    "tags": []
   },
   "source": [
    "# Exercises"
   ]
  },
  {
   "cell_type": "markdown",
   "id": "d3728591",
   "metadata": {
    "papermill": {
     "duration": 0.007203,
     "end_time": "2023-06-08T16:52:13.736968",
     "exception": false,
     "start_time": "2023-06-08T16:52:13.729765",
     "status": "completed"
    },
    "tags": []
   },
   "source": [
    "## 1.\n",
    "\n",
    "What is the median of the `points` column in the `reviews` DataFrame?"
   ]
  },
  {
   "cell_type": "code",
   "execution_count": 2,
   "id": "01d61dda",
   "metadata": {
    "execution": {
     "iopub.execute_input": "2023-06-08T16:52:13.751248Z",
     "iopub.status.busy": "2023-06-08T16:52:13.750816Z",
     "iopub.status.idle": "2023-06-08T16:52:13.764173Z",
     "shell.execute_reply": "2023-06-08T16:52:13.762317Z"
    },
    "papermill": {
     "duration": 0.024723,
     "end_time": "2023-06-08T16:52:13.767309",
     "exception": false,
     "start_time": "2023-06-08T16:52:13.742586",
     "status": "completed"
    },
    "tags": []
   },
   "outputs": [
    {
     "data": {
      "application/javascript": [
       "parent.postMessage({\"jupyterEvent\": \"custom.exercise_interaction\", \"data\": {\"outcomeType\": 1, \"valueTowardsCompletion\": 0.14285714285714285, \"interactionType\": 1, \"questionType\": 1, \"questionId\": \"1_MedianPoints\", \"learnToolsVersion\": \"0.3.4\", \"failureMessage\": \"\", \"exceptionClass\": \"\", \"trace\": \"\"}}, \"*\")"
      ],
      "text/plain": [
       "<IPython.core.display.Javascript object>"
      ]
     },
     "metadata": {},
     "output_type": "display_data"
    },
    {
     "data": {
      "text/markdown": [
       "<span style=\"color:#33cc33\">Correct</span>"
      ],
      "text/plain": [
       "Correct"
      ]
     },
     "metadata": {},
     "output_type": "display_data"
    }
   ],
   "source": [
    "median_points = reviews.points.median()\n",
    "\n",
    "# Check your answer\n",
    "q1.check()"
   ]
  },
  {
   "cell_type": "code",
   "execution_count": 3,
   "id": "46d77d57",
   "metadata": {
    "execution": {
     "iopub.execute_input": "2023-06-08T16:52:13.781402Z",
     "iopub.status.busy": "2023-06-08T16:52:13.780994Z",
     "iopub.status.idle": "2023-06-08T16:52:13.785373Z",
     "shell.execute_reply": "2023-06-08T16:52:13.784573Z"
    },
    "papermill": {
     "duration": 0.013796,
     "end_time": "2023-06-08T16:52:13.787229",
     "exception": false,
     "start_time": "2023-06-08T16:52:13.773433",
     "status": "completed"
    },
    "tags": []
   },
   "outputs": [],
   "source": [
    "#q1.hint()\n",
    "#q1.solution()"
   ]
  },
  {
   "cell_type": "markdown",
   "id": "f122e1df",
   "metadata": {
    "papermill": {
     "duration": 0.006132,
     "end_time": "2023-06-08T16:52:13.799884",
     "exception": false,
     "start_time": "2023-06-08T16:52:13.793752",
     "status": "completed"
    },
    "tags": []
   },
   "source": [
    "## 2. \n",
    "What countries are represented in the dataset? (Your answer should not include any duplicates.)"
   ]
  },
  {
   "cell_type": "code",
   "execution_count": 4,
   "id": "0562d40b",
   "metadata": {
    "execution": {
     "iopub.execute_input": "2023-06-08T16:52:13.813064Z",
     "iopub.status.busy": "2023-06-08T16:52:13.812716Z",
     "iopub.status.idle": "2023-06-08T16:52:13.825164Z",
     "shell.execute_reply": "2023-06-08T16:52:13.824274Z"
    },
    "papermill": {
     "duration": 0.021497,
     "end_time": "2023-06-08T16:52:13.827278",
     "exception": false,
     "start_time": "2023-06-08T16:52:13.805781",
     "status": "completed"
    },
    "tags": []
   },
   "outputs": [
    {
     "data": {
      "application/javascript": [
       "parent.postMessage({\"jupyterEvent\": \"custom.exercise_interaction\", \"data\": {\"outcomeType\": 1, \"valueTowardsCompletion\": 0.14285714285714285, \"interactionType\": 1, \"questionType\": 2, \"questionId\": \"2_UniqueCountries\", \"learnToolsVersion\": \"0.3.4\", \"failureMessage\": \"\", \"exceptionClass\": \"\", \"trace\": \"\"}}, \"*\")"
      ],
      "text/plain": [
       "<IPython.core.display.Javascript object>"
      ]
     },
     "metadata": {},
     "output_type": "display_data"
    },
    {
     "data": {
      "text/markdown": [
       "<span style=\"color:#33cc33\">Correct</span>"
      ],
      "text/plain": [
       "Correct"
      ]
     },
     "metadata": {},
     "output_type": "display_data"
    }
   ],
   "source": [
    "countries = reviews.country.unique()\n",
    "\n",
    "# Check your answer\n",
    "q2.check()"
   ]
  },
  {
   "cell_type": "code",
   "execution_count": 5,
   "id": "69405743",
   "metadata": {
    "execution": {
     "iopub.execute_input": "2023-06-08T16:52:13.842032Z",
     "iopub.status.busy": "2023-06-08T16:52:13.840688Z",
     "iopub.status.idle": "2023-06-08T16:52:13.846792Z",
     "shell.execute_reply": "2023-06-08T16:52:13.845384Z"
    },
    "papermill": {
     "duration": 0.015866,
     "end_time": "2023-06-08T16:52:13.849303",
     "exception": false,
     "start_time": "2023-06-08T16:52:13.833437",
     "status": "completed"
    },
    "tags": []
   },
   "outputs": [],
   "source": [
    "#q2.hint()\n",
    "#q2.solution()"
   ]
  },
  {
   "cell_type": "markdown",
   "id": "3b870996",
   "metadata": {
    "papermill": {
     "duration": 0.005696,
     "end_time": "2023-06-08T16:52:13.861247",
     "exception": false,
     "start_time": "2023-06-08T16:52:13.855551",
     "status": "completed"
    },
    "tags": []
   },
   "source": [
    "## 3.\n",
    "How often does each country appear in the dataset? Create a Series `reviews_per_country` mapping countries to the count of reviews of wines from that country."
   ]
  },
  {
   "cell_type": "code",
   "execution_count": 6,
   "id": "8d5587ee",
   "metadata": {
    "execution": {
     "iopub.execute_input": "2023-06-08T16:52:13.875342Z",
     "iopub.status.busy": "2023-06-08T16:52:13.874957Z",
     "iopub.status.idle": "2023-06-08T16:52:13.892847Z",
     "shell.execute_reply": "2023-06-08T16:52:13.891385Z"
    },
    "papermill": {
     "duration": 0.027733,
     "end_time": "2023-06-08T16:52:13.895211",
     "exception": false,
     "start_time": "2023-06-08T16:52:13.867478",
     "status": "completed"
    },
    "tags": []
   },
   "outputs": [
    {
     "data": {
      "application/javascript": [
       "parent.postMessage({\"jupyterEvent\": \"custom.exercise_interaction\", \"data\": {\"outcomeType\": 1, \"valueTowardsCompletion\": 0.14285714285714285, \"interactionType\": 1, \"questionType\": 1, \"questionId\": \"3_ReviewsPerCountry\", \"learnToolsVersion\": \"0.3.4\", \"failureMessage\": \"\", \"exceptionClass\": \"\", \"trace\": \"\"}}, \"*\")"
      ],
      "text/plain": [
       "<IPython.core.display.Javascript object>"
      ]
     },
     "metadata": {},
     "output_type": "display_data"
    },
    {
     "data": {
      "text/markdown": [
       "<span style=\"color:#33cc33\">Correct</span>"
      ],
      "text/plain": [
       "Correct"
      ]
     },
     "metadata": {},
     "output_type": "display_data"
    }
   ],
   "source": [
    "reviews_per_country = reviews.country.value_counts()\n",
    "\n",
    "# Check your answer\n",
    "q3.check()"
   ]
  },
  {
   "cell_type": "code",
   "execution_count": 7,
   "id": "34a17e03",
   "metadata": {
    "execution": {
     "iopub.execute_input": "2023-06-08T16:52:13.909576Z",
     "iopub.status.busy": "2023-06-08T16:52:13.909241Z",
     "iopub.status.idle": "2023-06-08T16:52:13.913727Z",
     "shell.execute_reply": "2023-06-08T16:52:13.912477Z"
    },
    "papermill": {
     "duration": 0.014238,
     "end_time": "2023-06-08T16:52:13.915778",
     "exception": false,
     "start_time": "2023-06-08T16:52:13.901540",
     "status": "completed"
    },
    "tags": []
   },
   "outputs": [],
   "source": [
    "#q3.hint()\n",
    "#q3.solution()"
   ]
  },
  {
   "cell_type": "markdown",
   "id": "5526e12c",
   "metadata": {
    "papermill": {
     "duration": 0.005698,
     "end_time": "2023-06-08T16:52:13.927780",
     "exception": false,
     "start_time": "2023-06-08T16:52:13.922082",
     "status": "completed"
    },
    "tags": []
   },
   "source": [
    "## 4.\n",
    "Create variable `centered_price` containing a version of the `price` column with the mean price subtracted.\n",
    "\n",
    "(Note: this 'centering' transformation is a common preprocessing step before applying various machine learning algorithms.) "
   ]
  },
  {
   "cell_type": "code",
   "execution_count": 8,
   "id": "4887d1ee",
   "metadata": {
    "execution": {
     "iopub.execute_input": "2023-06-08T16:52:13.941462Z",
     "iopub.status.busy": "2023-06-08T16:52:13.941110Z",
     "iopub.status.idle": "2023-06-08T16:52:13.952018Z",
     "shell.execute_reply": "2023-06-08T16:52:13.950670Z"
    },
    "papermill": {
     "duration": 0.020079,
     "end_time": "2023-06-08T16:52:13.953891",
     "exception": false,
     "start_time": "2023-06-08T16:52:13.933812",
     "status": "completed"
    },
    "tags": []
   },
   "outputs": [
    {
     "data": {
      "application/javascript": [
       "parent.postMessage({\"jupyterEvent\": \"custom.exercise_interaction\", \"data\": {\"outcomeType\": 1, \"valueTowardsCompletion\": 0.14285714285714285, \"interactionType\": 1, \"questionType\": 1, \"questionId\": \"4_CenteredPrice\", \"learnToolsVersion\": \"0.3.4\", \"failureMessage\": \"\", \"exceptionClass\": \"\", \"trace\": \"\"}}, \"*\")"
      ],
      "text/plain": [
       "<IPython.core.display.Javascript object>"
      ]
     },
     "metadata": {},
     "output_type": "display_data"
    },
    {
     "data": {
      "text/markdown": [
       "<span style=\"color:#33cc33\">Correct</span>"
      ],
      "text/plain": [
       "Correct"
      ]
     },
     "metadata": {},
     "output_type": "display_data"
    }
   ],
   "source": [
    "mean_price = reviews.price.mean()\n",
    "centered_price = reviews.price - mean_price\n",
    "# Check your answer\n",
    "q4.check()"
   ]
  },
  {
   "cell_type": "code",
   "execution_count": 9,
   "id": "a9824503",
   "metadata": {
    "execution": {
     "iopub.execute_input": "2023-06-08T16:52:13.968834Z",
     "iopub.status.busy": "2023-06-08T16:52:13.968476Z",
     "iopub.status.idle": "2023-06-08T16:52:13.974095Z",
     "shell.execute_reply": "2023-06-08T16:52:13.972736Z"
    },
    "papermill": {
     "duration": 0.015701,
     "end_time": "2023-06-08T16:52:13.976394",
     "exception": false,
     "start_time": "2023-06-08T16:52:13.960693",
     "status": "completed"
    },
    "tags": []
   },
   "outputs": [],
   "source": [
    "#q4.hint()\n",
    "#q4.solution()"
   ]
  },
  {
   "cell_type": "markdown",
   "id": "8f25d11e",
   "metadata": {
    "papermill": {
     "duration": 0.00637,
     "end_time": "2023-06-08T16:52:13.989649",
     "exception": false,
     "start_time": "2023-06-08T16:52:13.983279",
     "status": "completed"
    },
    "tags": []
   },
   "source": [
    "## 5.\n",
    "I'm an economical wine buyer. Which wine is the \"best bargain\"? Create a variable `bargain_wine` with the title of the wine with the highest points-to-price ratio in the dataset."
   ]
  },
  {
   "cell_type": "code",
   "execution_count": 10,
   "id": "d053cd95",
   "metadata": {
    "execution": {
     "iopub.execute_input": "2023-06-08T16:52:14.005076Z",
     "iopub.status.busy": "2023-06-08T16:52:14.004697Z",
     "iopub.status.idle": "2023-06-08T16:52:14.019473Z",
     "shell.execute_reply": "2023-06-08T16:52:14.017766Z"
    },
    "papermill": {
     "duration": 0.025615,
     "end_time": "2023-06-08T16:52:14.022418",
     "exception": false,
     "start_time": "2023-06-08T16:52:13.996803",
     "status": "completed"
    },
    "tags": []
   },
   "outputs": [
    {
     "data": {
      "application/javascript": [
       "parent.postMessage({\"jupyterEvent\": \"custom.exercise_interaction\", \"data\": {\"outcomeType\": 1, \"valueTowardsCompletion\": 0.14285714285714285, \"interactionType\": 1, \"questionType\": 2, \"questionId\": \"5_BargainWine\", \"learnToolsVersion\": \"0.3.4\", \"failureMessage\": \"\", \"exceptionClass\": \"\", \"trace\": \"\"}}, \"*\")"
      ],
      "text/plain": [
       "<IPython.core.display.Javascript object>"
      ]
     },
     "metadata": {},
     "output_type": "display_data"
    },
    {
     "data": {
      "text/markdown": [
       "<span style=\"color:#33cc33\">Correct</span>"
      ],
      "text/plain": [
       "Correct"
      ]
     },
     "metadata": {},
     "output_type": "display_data"
    }
   ],
   "source": [
    "highest = (reviews.points/reviews.price).idxmax()\n",
    "bargain_wine = reviews.loc[highest,'title']\n",
    "\n",
    "# Check your answer\n",
    "q5.check()"
   ]
  },
  {
   "cell_type": "code",
   "execution_count": 11,
   "id": "6b7b5898",
   "metadata": {
    "execution": {
     "iopub.execute_input": "2023-06-08T16:52:14.038339Z",
     "iopub.status.busy": "2023-06-08T16:52:14.037674Z",
     "iopub.status.idle": "2023-06-08T16:52:14.042901Z",
     "shell.execute_reply": "2023-06-08T16:52:14.040956Z"
    },
    "papermill": {
     "duration": 0.016567,
     "end_time": "2023-06-08T16:52:14.045950",
     "exception": false,
     "start_time": "2023-06-08T16:52:14.029383",
     "status": "completed"
    },
    "tags": []
   },
   "outputs": [],
   "source": [
    "#q5.hint()\n",
    "#q5.solution()"
   ]
  },
  {
   "cell_type": "markdown",
   "id": "88c4854b",
   "metadata": {
    "papermill": {
     "duration": 0.006392,
     "end_time": "2023-06-08T16:52:14.059803",
     "exception": false,
     "start_time": "2023-06-08T16:52:14.053411",
     "status": "completed"
    },
    "tags": []
   },
   "source": [
    "## 6.\n",
    "There are only so many words you can use when describing a bottle of wine. Is a wine more likely to be \"tropical\" or \"fruity\"? Create a Series `descriptor_counts` counting how many times each of these two words appears in the `description` column in the dataset. (For simplicity, let's ignore the capitalized versions of these words.)"
   ]
  },
  {
   "cell_type": "code",
   "execution_count": 12,
   "id": "3f211fda",
   "metadata": {
    "execution": {
     "iopub.execute_input": "2023-06-08T16:52:14.075008Z",
     "iopub.status.busy": "2023-06-08T16:52:14.074648Z",
     "iopub.status.idle": "2023-06-08T16:52:14.193485Z",
     "shell.execute_reply": "2023-06-08T16:52:14.192340Z"
    },
    "papermill": {
     "duration": 0.128616,
     "end_time": "2023-06-08T16:52:14.195303",
     "exception": false,
     "start_time": "2023-06-08T16:52:14.066687",
     "status": "completed"
    },
    "tags": []
   },
   "outputs": [
    {
     "data": {
      "application/javascript": [
       "parent.postMessage({\"jupyterEvent\": \"custom.exercise_interaction\", \"data\": {\"outcomeType\": 1, \"valueTowardsCompletion\": 0.14285714285714285, \"interactionType\": 1, \"questionType\": 1, \"questionId\": \"6_DescriptorCounts\", \"learnToolsVersion\": \"0.3.4\", \"failureMessage\": \"\", \"exceptionClass\": \"\", \"trace\": \"\"}}, \"*\")"
      ],
      "text/plain": [
       "<IPython.core.display.Javascript object>"
      ]
     },
     "metadata": {},
     "output_type": "display_data"
    },
    {
     "data": {
      "text/markdown": [
       "<span style=\"color:#33cc33\">Correct</span>"
      ],
      "text/plain": [
       "Correct"
      ]
     },
     "metadata": {},
     "output_type": "display_data"
    }
   ],
   "source": [
    "tropical = reviews.description.map(lambda desc: \"tropical\" in desc).sum()\n",
    "fruity = reviews.description.map(lambda desc: \"fruity\" in desc).sum()\n",
    "descriptor_counts = pd.Series([tropical, fruity], index=['tropical', 'fruity'])\n",
    "\n",
    "# Check your answer\n",
    "q6.check()"
   ]
  },
  {
   "cell_type": "code",
   "execution_count": 13,
   "id": "b5466ca8",
   "metadata": {
    "execution": {
     "iopub.execute_input": "2023-06-08T16:52:14.212703Z",
     "iopub.status.busy": "2023-06-08T16:52:14.211183Z",
     "iopub.status.idle": "2023-06-08T16:52:14.218253Z",
     "shell.execute_reply": "2023-06-08T16:52:14.216547Z"
    },
    "papermill": {
     "duration": 0.018069,
     "end_time": "2023-06-08T16:52:14.220691",
     "exception": false,
     "start_time": "2023-06-08T16:52:14.202622",
     "status": "completed"
    },
    "tags": []
   },
   "outputs": [],
   "source": [
    "#q6.hint()\n",
    "#q6.solution()"
   ]
  },
  {
   "cell_type": "markdown",
   "id": "93ee2274",
   "metadata": {
    "papermill": {
     "duration": 0.007371,
     "end_time": "2023-06-08T16:52:14.235227",
     "exception": false,
     "start_time": "2023-06-08T16:52:14.227856",
     "status": "completed"
    },
    "tags": []
   },
   "source": []
  },
  {
   "cell_type": "markdown",
   "id": "adeb7889",
   "metadata": {
    "papermill": {
     "duration": 0.008103,
     "end_time": "2023-06-08T16:52:14.251965",
     "exception": false,
     "start_time": "2023-06-08T16:52:14.243862",
     "status": "completed"
    },
    "tags": []
   },
   "source": [
    "## 7.\n",
    "We'd like to host these wine reviews on our website, but a rating system ranging from 80 to 100 points is too hard to understand - we'd like to translate them into simple star ratings. A score of 95 or higher counts as 3 stars, a score of at least 85 but less than 95 is 2 stars. Any other score is 1 star.\n",
    "\n",
    "Also, the Canadian Vintners Association bought a lot of ads on the site, so any wines from Canada should automatically get 3 stars, regardless of points.\n",
    "\n",
    "Create a series `star_ratings` with the number of stars corresponding to each review in the dataset."
   ]
  },
  {
   "cell_type": "code",
   "execution_count": 14,
   "id": "67385d0d",
   "metadata": {
    "execution": {
     "iopub.execute_input": "2023-06-08T16:52:14.267627Z",
     "iopub.status.busy": "2023-06-08T16:52:14.267312Z",
     "iopub.status.idle": "2023-06-08T16:52:17.301082Z",
     "shell.execute_reply": "2023-06-08T16:52:17.300012Z"
    },
    "papermill": {
     "duration": 3.043904,
     "end_time": "2023-06-08T16:52:17.303132",
     "exception": false,
     "start_time": "2023-06-08T16:52:14.259228",
     "status": "completed"
    },
    "tags": []
   },
   "outputs": [
    {
     "data": {
      "application/javascript": [
       "parent.postMessage({\"jupyterEvent\": \"custom.exercise_interaction\", \"data\": {\"outcomeType\": 1, \"valueTowardsCompletion\": 0.14285714285714285, \"interactionType\": 1, \"questionType\": 1, \"questionId\": \"7_StarRatings\", \"learnToolsVersion\": \"0.3.4\", \"failureMessage\": \"\", \"exceptionClass\": \"\", \"trace\": \"\"}}, \"*\")"
      ],
      "text/plain": [
       "<IPython.core.display.Javascript object>"
      ]
     },
     "metadata": {},
     "output_type": "display_data"
    },
    {
     "data": {
      "text/markdown": [
       "<span style=\"color:#33cc33\">Correct</span>"
      ],
      "text/plain": [
       "Correct"
      ]
     },
     "metadata": {},
     "output_type": "display_data"
    }
   ],
   "source": [
    "def stars(row):\n",
    "    if row.country == 'Canada':\n",
    "        return 3\n",
    "    elif row.points >= 95:\n",
    "        return 3\n",
    "    elif row.points>= 85:\n",
    "        return 2\n",
    "    else:\n",
    "        return 1\n",
    "star_ratings = reviews.apply(stars,axis='columns')\n",
    "\n",
    "# Check your answer\n",
    "q7.check()"
   ]
  },
  {
   "cell_type": "code",
   "execution_count": 15,
   "id": "31fde720",
   "metadata": {
    "execution": {
     "iopub.execute_input": "2023-06-08T16:52:17.319281Z",
     "iopub.status.busy": "2023-06-08T16:52:17.318848Z",
     "iopub.status.idle": "2023-06-08T16:52:17.323305Z",
     "shell.execute_reply": "2023-06-08T16:52:17.321898Z"
    },
    "papermill": {
     "duration": 0.015035,
     "end_time": "2023-06-08T16:52:17.325336",
     "exception": false,
     "start_time": "2023-06-08T16:52:17.310301",
     "status": "completed"
    },
    "tags": []
   },
   "outputs": [],
   "source": [
    "#q7.hint()\n",
    "#q7.solution()"
   ]
  },
  {
   "cell_type": "markdown",
   "id": "02262c6d",
   "metadata": {
    "papermill": {
     "duration": 0.006476,
     "end_time": "2023-06-08T16:52:17.339057",
     "exception": false,
     "start_time": "2023-06-08T16:52:17.332581",
     "status": "completed"
    },
    "tags": []
   },
   "source": [
    "# Keep going\n",
    "Continue to **[grouping and sorting](https://www.kaggle.com/residentmario/grouping-and-sorting)**."
   ]
  },
  {
   "cell_type": "markdown",
   "id": "ef911d4f",
   "metadata": {
    "papermill": {
     "duration": 0.007088,
     "end_time": "2023-06-08T16:52:17.353636",
     "exception": false,
     "start_time": "2023-06-08T16:52:17.346548",
     "status": "completed"
    },
    "tags": []
   },
   "source": [
    "---\n",
    "\n",
    "\n",
    "\n",
    "\n",
    "*Have questions or comments? Visit the [course discussion forum](https://www.kaggle.com/learn/pandas/discussion) to chat with other learners.*"
   ]
  }
 ],
 "metadata": {
  "kernelspec": {
   "display_name": "Python 3",
   "language": "python",
   "name": "python3"
  },
  "language_info": {
   "codemirror_mode": {
    "name": "ipython",
    "version": 3
   },
   "file_extension": ".py",
   "mimetype": "text/x-python",
   "name": "python",
   "nbconvert_exporter": "python",
   "pygments_lexer": "ipython3",
   "version": "3.10.10"
  },
  "papermill": {
   "default_parameters": {},
   "duration": 22.075562,
   "end_time": "2023-06-08T16:52:18.285306",
   "environment_variables": {},
   "exception": null,
   "input_path": "__notebook__.ipynb",
   "output_path": "__notebook__.ipynb",
   "parameters": {},
   "start_time": "2023-06-08T16:51:56.209744",
   "version": "2.4.0"
  }
 },
 "nbformat": 4,
 "nbformat_minor": 5
}
